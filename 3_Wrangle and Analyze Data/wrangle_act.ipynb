{
 "cells": [
  {
   "cell_type": "markdown",
   "metadata": {},
   "source": [
    "# Wrangle and Analyze Twitter Data"
   ]
  },
  {
   "cell_type": "markdown",
   "metadata": {},
   "source": [
    "#### Import of the needed libraries:"
   ]
  },
  {
   "cell_type": "code",
   "execution_count": 1,
   "metadata": {},
   "outputs": [],
   "source": [
    "import requests\n",
    "import numpy as np \n",
    "import pandas as pd \n",
    "import matplotlib.pyplot as plt \n",
    "import seaborn as sns"
   ]
  },
  {
   "cell_type": "markdown",
   "metadata": {},
   "source": [
    "## Data Gathering\n",
    "\n",
    "#### 1. WeRateDogs™ Twitter Archive\n",
    "\n",
    "As advised I downloaded the twitter_archive_enhanced.csv."
   ]
  },
  {
   "cell_type": "code",
   "execution_count": 2,
   "metadata": {},
   "outputs": [
    {
     "output_type": "execute_result",
     "data": {
      "text/plain": "             tweet_id  in_reply_to_status_id  in_reply_to_user_id  \\\n0  892420643555336193                    NaN                  NaN   \n1  892177421306343426                    NaN                  NaN   \n2  891815181378084864                    NaN                  NaN   \n\n                   timestamp  \\\n0  2017-08-01 16:23:56 +0000   \n1  2017-08-01 00:17:27 +0000   \n2  2017-07-31 00:18:03 +0000   \n\n                                              source  \\\n0  <a href=\"http://twitter.com/download/iphone\" r...   \n1  <a href=\"http://twitter.com/download/iphone\" r...   \n2  <a href=\"http://twitter.com/download/iphone\" r...   \n\n                                                text  retweeted_status_id  \\\n0  This is Phineas. He's a mystical boy. Only eve...                  NaN   \n1  This is Tilly. She's just checking pup on you....                  NaN   \n2  This is Archie. He is a rare Norwegian Pouncin...                  NaN   \n\n   retweeted_status_user_id retweeted_status_timestamp  \\\n0                       NaN                        NaN   \n1                       NaN                        NaN   \n2                       NaN                        NaN   \n\n                                       expanded_urls  rating_numerator  \\\n0  https://twitter.com/dog_rates/status/892420643...                13   \n1  https://twitter.com/dog_rates/status/892177421...                13   \n2  https://twitter.com/dog_rates/status/891815181...                12   \n\n   rating_denominator     name doggo floofer pupper puppo  \n0                  10  Phineas  None    None   None  None  \n1                  10    Tilly  None    None   None  None  \n2                  10   Archie  None    None   None  None  ",
      "text/html": "<div>\n<style scoped>\n    .dataframe tbody tr th:only-of-type {\n        vertical-align: middle;\n    }\n\n    .dataframe tbody tr th {\n        vertical-align: top;\n    }\n\n    .dataframe thead th {\n        text-align: right;\n    }\n</style>\n<table border=\"1\" class=\"dataframe\">\n  <thead>\n    <tr style=\"text-align: right;\">\n      <th></th>\n      <th>tweet_id</th>\n      <th>in_reply_to_status_id</th>\n      <th>in_reply_to_user_id</th>\n      <th>timestamp</th>\n      <th>source</th>\n      <th>text</th>\n      <th>retweeted_status_id</th>\n      <th>retweeted_status_user_id</th>\n      <th>retweeted_status_timestamp</th>\n      <th>expanded_urls</th>\n      <th>rating_numerator</th>\n      <th>rating_denominator</th>\n      <th>name</th>\n      <th>doggo</th>\n      <th>floofer</th>\n      <th>pupper</th>\n      <th>puppo</th>\n    </tr>\n  </thead>\n  <tbody>\n    <tr>\n      <th>0</th>\n      <td>892420643555336193</td>\n      <td>NaN</td>\n      <td>NaN</td>\n      <td>2017-08-01 16:23:56 +0000</td>\n      <td>&lt;a href=\"http://twitter.com/download/iphone\" r...</td>\n      <td>This is Phineas. He's a mystical boy. Only eve...</td>\n      <td>NaN</td>\n      <td>NaN</td>\n      <td>NaN</td>\n      <td>https://twitter.com/dog_rates/status/892420643...</td>\n      <td>13</td>\n      <td>10</td>\n      <td>Phineas</td>\n      <td>None</td>\n      <td>None</td>\n      <td>None</td>\n      <td>None</td>\n    </tr>\n    <tr>\n      <th>1</th>\n      <td>892177421306343426</td>\n      <td>NaN</td>\n      <td>NaN</td>\n      <td>2017-08-01 00:17:27 +0000</td>\n      <td>&lt;a href=\"http://twitter.com/download/iphone\" r...</td>\n      <td>This is Tilly. She's just checking pup on you....</td>\n      <td>NaN</td>\n      <td>NaN</td>\n      <td>NaN</td>\n      <td>https://twitter.com/dog_rates/status/892177421...</td>\n      <td>13</td>\n      <td>10</td>\n      <td>Tilly</td>\n      <td>None</td>\n      <td>None</td>\n      <td>None</td>\n      <td>None</td>\n    </tr>\n    <tr>\n      <th>2</th>\n      <td>891815181378084864</td>\n      <td>NaN</td>\n      <td>NaN</td>\n      <td>2017-07-31 00:18:03 +0000</td>\n      <td>&lt;a href=\"http://twitter.com/download/iphone\" r...</td>\n      <td>This is Archie. He is a rare Norwegian Pouncin...</td>\n      <td>NaN</td>\n      <td>NaN</td>\n      <td>NaN</td>\n      <td>https://twitter.com/dog_rates/status/891815181...</td>\n      <td>12</td>\n      <td>10</td>\n      <td>Archie</td>\n      <td>None</td>\n      <td>None</td>\n      <td>None</td>\n      <td>None</td>\n    </tr>\n  </tbody>\n</table>\n</div>"
     },
     "metadata": {},
     "execution_count": 2
    }
   ],
   "source": [
    "df_twitter = pd.read_csv(\"twitter-archive-enhanced.csv\")\n",
    "\n",
    "df_twitter.head(3)"
   ]
  },
  {
   "cell_type": "markdown",
   "metadata": {},
   "source": [
    "#### 2. Tweet image predictions\n",
    "\n",
    "As advised I programmatically downloaded the image_predictions.tsv."
   ]
  },
  {
   "cell_type": "code",
   "execution_count": 3,
   "metadata": {},
   "outputs": [
    {
     "output_type": "execute_result",
     "data": {
      "text/plain": "335079"
     },
     "metadata": {},
     "execution_count": 3
    }
   ],
   "source": [
    "url = \"https://d17h27t6h515a5.cloudfront.net/topher/2017/August/599fd2ad_image-predictions/image-predictions.tsv\"\n",
    "\n",
    "response = requests.get(url)\n",
    "\n",
    "with open(\"image_predictions.tsv\", mode = \"wb\") as file:\n",
    "    file.write(response.content)"
   ]
  },
  {
   "cell_type": "code",
   "execution_count": 4,
   "metadata": {},
   "outputs": [
    {
     "output_type": "execute_result",
     "data": {
      "text/plain": "             tweet_id                                          jpg_url  \\\n0  666020888022790149  https://pbs.twimg.com/media/CT4udn0WwAA0aMy.jpg   \n1  666029285002620928  https://pbs.twimg.com/media/CT42GRgUYAA5iDo.jpg   \n2  666033412701032449  https://pbs.twimg.com/media/CT4521TWwAEvMyu.jpg   \n\n   img_num                      p1   p1_conf  p1_dog                  p2  \\\n0        1  Welsh_springer_spaniel  0.465074    True              collie   \n1        1                 redbone  0.506826    True  miniature_pinscher   \n2        1         German_shepherd  0.596461    True            malinois   \n\n    p2_conf  p2_dog                   p3   p3_conf  p3_dog  \n0  0.156665    True    Shetland_sheepdog  0.061428    True  \n1  0.074192    True  Rhodesian_ridgeback  0.072010    True  \n2  0.138584    True           bloodhound  0.116197    True  ",
      "text/html": "<div>\n<style scoped>\n    .dataframe tbody tr th:only-of-type {\n        vertical-align: middle;\n    }\n\n    .dataframe tbody tr th {\n        vertical-align: top;\n    }\n\n    .dataframe thead th {\n        text-align: right;\n    }\n</style>\n<table border=\"1\" class=\"dataframe\">\n  <thead>\n    <tr style=\"text-align: right;\">\n      <th></th>\n      <th>tweet_id</th>\n      <th>jpg_url</th>\n      <th>img_num</th>\n      <th>p1</th>\n      <th>p1_conf</th>\n      <th>p1_dog</th>\n      <th>p2</th>\n      <th>p2_conf</th>\n      <th>p2_dog</th>\n      <th>p3</th>\n      <th>p3_conf</th>\n      <th>p3_dog</th>\n    </tr>\n  </thead>\n  <tbody>\n    <tr>\n      <th>0</th>\n      <td>666020888022790149</td>\n      <td>https://pbs.twimg.com/media/CT4udn0WwAA0aMy.jpg</td>\n      <td>1</td>\n      <td>Welsh_springer_spaniel</td>\n      <td>0.465074</td>\n      <td>True</td>\n      <td>collie</td>\n      <td>0.156665</td>\n      <td>True</td>\n      <td>Shetland_sheepdog</td>\n      <td>0.061428</td>\n      <td>True</td>\n    </tr>\n    <tr>\n      <th>1</th>\n      <td>666029285002620928</td>\n      <td>https://pbs.twimg.com/media/CT42GRgUYAA5iDo.jpg</td>\n      <td>1</td>\n      <td>redbone</td>\n      <td>0.506826</td>\n      <td>True</td>\n      <td>miniature_pinscher</td>\n      <td>0.074192</td>\n      <td>True</td>\n      <td>Rhodesian_ridgeback</td>\n      <td>0.072010</td>\n      <td>True</td>\n    </tr>\n    <tr>\n      <th>2</th>\n      <td>666033412701032449</td>\n      <td>https://pbs.twimg.com/media/CT4521TWwAEvMyu.jpg</td>\n      <td>1</td>\n      <td>German_shepherd</td>\n      <td>0.596461</td>\n      <td>True</td>\n      <td>malinois</td>\n      <td>0.138584</td>\n      <td>True</td>\n      <td>bloodhound</td>\n      <td>0.116197</td>\n      <td>True</td>\n    </tr>\n  </tbody>\n</table>\n</div>"
     },
     "metadata": {},
     "execution_count": 4
    }
   ],
   "source": [
    "df_predict = pd.read_csv(\"image_predictions.tsv\", sep='\\t')\n",
    "\n",
    "df_predict.head(3)"
   ]
  },
  {
   "cell_type": "markdown",
   "metadata": {},
   "source": [
    "#### 3. Additional Twitter data\n",
    "\n",
    "I didn't create a dev account but downloaded the file manually."
   ]
  },
  {
   "cell_type": "markdown",
   "metadata": {},
   "source": [
    "Testing Tweepy - but it runs forever, so I had to manually stop the kernel here."
   ]
  },
  {
   "cell_type": "code",
   "execution_count": 5,
   "metadata": {},
   "outputs": [
    {
     "output_type": "execute_result",
     "data": {
      "text/plain": "2356"
     },
     "metadata": {},
     "execution_count": 5
    },
    {
     "output_type": "stream",
     "name": "stdout",
     "text": "1: 892420643555336193\nFail\n2: 892177421306343426\nFail\n3: 891815181378084864\nFail\n4: 891689557279858688\nFail\n5: 891327558926688256\nFail\n6: 891087950875897856\nFail\n7: 890971913173991426\nFail\n8: 890729181411237888\nFail\n9: 890609185150312448\nFail\n10: 890240255349198849\nFail\n11: 890006608113172480\nFail\n12: 889880896479866881\nFail\n13: 889665388333682689\nFail\n14: 889638837579907072\nFail\n15: 889531135344209921\nFail\n16: 889278841981685760\nFail\n17: 888917238123831296\nFail\n18: 888804989199671297\nFail\n19: 888554962724278272\nFail\n20: 888202515573088257\nFail\n21: 888078434458587136\nFail\n22: 887705289381826560\nFail\n23: 887517139158093824\nFail\n24: 887473957103951883\nFail\n25: 887343217045368832\nFail\n26: 887101392804085760\nFail\n27: 886983233522544640\nFail\n28: 886736880519319552\nFail\n29: 886680336477933568\nFail\n30: 886366144734445568\nFail\n31: 886267009285017600\nFail\n32: 886258384151887873\nFail\n33: 886054160059072513\nFail\n34: 885984800019947520\nFail\n35: 885528943205470208\nFail\n36: 885518971528720385\nFail\n37: 885311592912609280\nFail\n38: 885167619883638784\nFail\n39: 884925521741709313\nFail\n40: 884876753390489601\nFail\n41: 884562892145688576\nFail\n42: 884441805382717440\nFail\n43: 884247878851493888\nFail\n44: 884162670584377345\nFail\n45: 883838122936631299\nFail\n46: 883482846933004288\nFail\n47: 883360690899218434\nFail\n48: 883117836046086144\nFail\n49: 882992080364220416\nFail\n50: 882762694511734784\nFail\n51: 882627270321602560\nFail\n52: 882268110199369728\nFail\n53: 882045870035918850\nFail\n54: 881906580714921986\nFail\n55: 881666595344535552\nFail\n56: 881633300179243008\nFail\n57: 881536004380872706\nFail\n58: 881268444196462592\nFail\n59: 880935762899988482\nFail\n60: 880872448815771648\nFail\n61: 880465832366813184\nFail\n62: 880221127280381952\nFail\n63: 880095782870896641\nFail\n64: 879862464715927552\nFail\n65: 879674319642796034\nFail\n66: 879492040517615616\nFail\n67: 879415818425184262\nFail\n68: 879376492567855104\nFail\n69: 879130579576475649\nFail\n70: 879050749262655488\nFail\n71: 879008229531029506\nFail\n72: 878776093423087618\nFail\n73: 878604707211726852\nFail\n74: 878404777348136964\nFail\n75: 878316110768087041\nFail\n76: 878281511006478336\nFail\n77: 878057613040115712\nFail\n78: 877736472329191424\nFail\n79: 877611172832227328\nFail\n80: 877556246731214848\nFail\n81: 877316821321428993\nFail\n82: 877201837425926144\nFail\n83: 876838120628539392\nFail\n84: 876537666061221889\nFail\n85: 876484053909872640\nFail\n86: 876120275196170240\nFail\n87: 875747767867523072\nFail\n88: 875144289856114688\nFail\n89: 875097192612077568\nFail\n90: 875021211251597312\nFail\n91: 874680097055178752\nFail\n92: 874434818259525634\nFail\n93: 874296783580663808\nFail\n94: 874057562936811520\nFail\n95: 874012996292530176\nFail\n96: 873697596434513921\nFail\n97: 873580283840344065\nFail\n98: 873337748698140672\nFail\n99: 873213775632977920\nFail\n100: 872967104147763200\nFail\n101: 872820683541237760\nFail\n102: 872668790621863937\nFail\n103: 872620804844003328\nFail\n104: 872486979161796608\nFail\n105: 872261713294495745\nFail\n106: 872122724285648897\n"
    },
    {
     "output_type": "error",
     "ename": "KeyboardInterrupt",
     "evalue": "",
     "traceback": [
      "\u001b[1;31m---------------------------------------------------------------------------\u001b[0m",
      "\u001b[1;31mKeyboardInterrupt\u001b[0m                         Traceback (most recent call last)",
      "\u001b[1;32m<ipython-input-5-2afe3f042b97>\u001b[0m in \u001b[0;36m<module>\u001b[1;34m\u001b[0m\n\u001b[0;32m     36\u001b[0m         \u001b[0mprint\u001b[0m\u001b[1;33m(\u001b[0m\u001b[0mstr\u001b[0m\u001b[1;33m(\u001b[0m\u001b[0mcount\u001b[0m\u001b[1;33m)\u001b[0m \u001b[1;33m+\u001b[0m \u001b[1;34m\": \"\u001b[0m \u001b[1;33m+\u001b[0m \u001b[0mstr\u001b[0m\u001b[1;33m(\u001b[0m\u001b[0mtweet_id\u001b[0m\u001b[1;33m)\u001b[0m\u001b[1;33m)\u001b[0m\u001b[1;33m\u001b[0m\u001b[1;33m\u001b[0m\u001b[0m\n\u001b[0;32m     37\u001b[0m         \u001b[1;32mtry\u001b[0m\u001b[1;33m:\u001b[0m\u001b[1;33m\u001b[0m\u001b[1;33m\u001b[0m\u001b[0m\n\u001b[1;32m---> 38\u001b[1;33m             \u001b[0mtweet\u001b[0m \u001b[1;33m=\u001b[0m \u001b[0mapi\u001b[0m\u001b[1;33m.\u001b[0m\u001b[0mget_status\u001b[0m\u001b[1;33m(\u001b[0m\u001b[0mtweet_id\u001b[0m\u001b[1;33m,\u001b[0m \u001b[0mtweet_mode\u001b[0m\u001b[1;33m=\u001b[0m\u001b[1;34m'extended'\u001b[0m\u001b[1;33m)\u001b[0m\u001b[1;33m\u001b[0m\u001b[1;33m\u001b[0m\u001b[0m\n\u001b[0m\u001b[0;32m     39\u001b[0m             \u001b[0mprint\u001b[0m\u001b[1;33m(\u001b[0m\u001b[1;34m\"Success\"\u001b[0m\u001b[1;33m)\u001b[0m\u001b[1;33m\u001b[0m\u001b[1;33m\u001b[0m\u001b[0m\n\u001b[0;32m     40\u001b[0m             \u001b[0mjson\u001b[0m\u001b[1;33m.\u001b[0m\u001b[0mdump\u001b[0m\u001b[1;33m(\u001b[0m\u001b[0mtweet\u001b[0m\u001b[1;33m.\u001b[0m\u001b[0m_json\u001b[0m\u001b[1;33m,\u001b[0m \u001b[0moutfile\u001b[0m\u001b[1;33m)\u001b[0m\u001b[1;33m\u001b[0m\u001b[1;33m\u001b[0m\u001b[0m\n",
      "\u001b[1;32m~\\Anaconda3\\lib\\site-packages\\tweepy\\binder.py\u001b[0m in \u001b[0;36m_call\u001b[1;34m(*args, **kwargs)\u001b[0m\n\u001b[0;32m    248\u001b[0m                 \u001b[1;32mreturn\u001b[0m \u001b[0mmethod\u001b[0m\u001b[1;33m\u001b[0m\u001b[1;33m\u001b[0m\u001b[0m\n\u001b[0;32m    249\u001b[0m             \u001b[1;32melse\u001b[0m\u001b[1;33m:\u001b[0m\u001b[1;33m\u001b[0m\u001b[1;33m\u001b[0m\u001b[0m\n\u001b[1;32m--> 250\u001b[1;33m                 \u001b[1;32mreturn\u001b[0m \u001b[0mmethod\u001b[0m\u001b[1;33m.\u001b[0m\u001b[0mexecute\u001b[0m\u001b[1;33m(\u001b[0m\u001b[1;33m)\u001b[0m\u001b[1;33m\u001b[0m\u001b[1;33m\u001b[0m\u001b[0m\n\u001b[0m\u001b[0;32m    251\u001b[0m         \u001b[1;32mfinally\u001b[0m\u001b[1;33m:\u001b[0m\u001b[1;33m\u001b[0m\u001b[1;33m\u001b[0m\u001b[0m\n\u001b[0;32m    252\u001b[0m             \u001b[0mmethod\u001b[0m\u001b[1;33m.\u001b[0m\u001b[0msession\u001b[0m\u001b[1;33m.\u001b[0m\u001b[0mclose\u001b[0m\u001b[1;33m(\u001b[0m\u001b[1;33m)\u001b[0m\u001b[1;33m\u001b[0m\u001b[1;33m\u001b[0m\u001b[0m\n",
      "\u001b[1;32m~\\Anaconda3\\lib\\site-packages\\tweepy\\binder.py\u001b[0m in \u001b[0;36mexecute\u001b[1;34m(self)\u001b[0m\n\u001b[0;32m    187\u001b[0m                                                 \u001b[0mtimeout\u001b[0m\u001b[1;33m=\u001b[0m\u001b[0mself\u001b[0m\u001b[1;33m.\u001b[0m\u001b[0mapi\u001b[0m\u001b[1;33m.\u001b[0m\u001b[0mtimeout\u001b[0m\u001b[1;33m,\u001b[0m\u001b[1;33m\u001b[0m\u001b[1;33m\u001b[0m\u001b[0m\n\u001b[0;32m    188\u001b[0m                                                 \u001b[0mauth\u001b[0m\u001b[1;33m=\u001b[0m\u001b[0mauth\u001b[0m\u001b[1;33m,\u001b[0m\u001b[1;33m\u001b[0m\u001b[1;33m\u001b[0m\u001b[0m\n\u001b[1;32m--> 189\u001b[1;33m                                                 proxies=self.api.proxy)\n\u001b[0m\u001b[0;32m    190\u001b[0m                 \u001b[1;32mexcept\u001b[0m \u001b[0mException\u001b[0m \u001b[1;32mas\u001b[0m \u001b[0me\u001b[0m\u001b[1;33m:\u001b[0m\u001b[1;33m\u001b[0m\u001b[1;33m\u001b[0m\u001b[0m\n\u001b[0;32m    191\u001b[0m                     \u001b[0msix\u001b[0m\u001b[1;33m.\u001b[0m\u001b[0mreraise\u001b[0m\u001b[1;33m(\u001b[0m\u001b[0mTweepError\u001b[0m\u001b[1;33m,\u001b[0m \u001b[0mTweepError\u001b[0m\u001b[1;33m(\u001b[0m\u001b[1;34m'Failed to send request: %s'\u001b[0m \u001b[1;33m%\u001b[0m \u001b[0me\u001b[0m\u001b[1;33m)\u001b[0m\u001b[1;33m,\u001b[0m \u001b[0msys\u001b[0m\u001b[1;33m.\u001b[0m\u001b[0mexc_info\u001b[0m\u001b[1;33m(\u001b[0m\u001b[1;33m)\u001b[0m\u001b[1;33m[\u001b[0m\u001b[1;36m2\u001b[0m\u001b[1;33m]\u001b[0m\u001b[1;33m)\u001b[0m\u001b[1;33m\u001b[0m\u001b[1;33m\u001b[0m\u001b[0m\n",
      "\u001b[1;32m~\\Anaconda3\\lib\\site-packages\\requests\\sessions.py\u001b[0m in \u001b[0;36mrequest\u001b[1;34m(self, method, url, params, data, headers, cookies, files, auth, timeout, allow_redirects, proxies, hooks, stream, verify, cert, json)\u001b[0m\n\u001b[0;32m    528\u001b[0m         }\n\u001b[0;32m    529\u001b[0m         \u001b[0msend_kwargs\u001b[0m\u001b[1;33m.\u001b[0m\u001b[0mupdate\u001b[0m\u001b[1;33m(\u001b[0m\u001b[0msettings\u001b[0m\u001b[1;33m)\u001b[0m\u001b[1;33m\u001b[0m\u001b[1;33m\u001b[0m\u001b[0m\n\u001b[1;32m--> 530\u001b[1;33m         \u001b[0mresp\u001b[0m \u001b[1;33m=\u001b[0m \u001b[0mself\u001b[0m\u001b[1;33m.\u001b[0m\u001b[0msend\u001b[0m\u001b[1;33m(\u001b[0m\u001b[0mprep\u001b[0m\u001b[1;33m,\u001b[0m \u001b[1;33m**\u001b[0m\u001b[0msend_kwargs\u001b[0m\u001b[1;33m)\u001b[0m\u001b[1;33m\u001b[0m\u001b[1;33m\u001b[0m\u001b[0m\n\u001b[0m\u001b[0;32m    531\u001b[0m \u001b[1;33m\u001b[0m\u001b[0m\n\u001b[0;32m    532\u001b[0m         \u001b[1;32mreturn\u001b[0m \u001b[0mresp\u001b[0m\u001b[1;33m\u001b[0m\u001b[1;33m\u001b[0m\u001b[0m\n",
      "\u001b[1;32m~\\Anaconda3\\lib\\site-packages\\requests\\sessions.py\u001b[0m in \u001b[0;36msend\u001b[1;34m(self, request, **kwargs)\u001b[0m\n\u001b[0;32m    641\u001b[0m \u001b[1;33m\u001b[0m\u001b[0m\n\u001b[0;32m    642\u001b[0m         \u001b[1;31m# Send the request\u001b[0m\u001b[1;33m\u001b[0m\u001b[1;33m\u001b[0m\u001b[1;33m\u001b[0m\u001b[0m\n\u001b[1;32m--> 643\u001b[1;33m         \u001b[0mr\u001b[0m \u001b[1;33m=\u001b[0m \u001b[0madapter\u001b[0m\u001b[1;33m.\u001b[0m\u001b[0msend\u001b[0m\u001b[1;33m(\u001b[0m\u001b[0mrequest\u001b[0m\u001b[1;33m,\u001b[0m \u001b[1;33m**\u001b[0m\u001b[0mkwargs\u001b[0m\u001b[1;33m)\u001b[0m\u001b[1;33m\u001b[0m\u001b[1;33m\u001b[0m\u001b[0m\n\u001b[0m\u001b[0;32m    644\u001b[0m \u001b[1;33m\u001b[0m\u001b[0m\n\u001b[0;32m    645\u001b[0m         \u001b[1;31m# Total elapsed time of the request (approximately)\u001b[0m\u001b[1;33m\u001b[0m\u001b[1;33m\u001b[0m\u001b[1;33m\u001b[0m\u001b[0m\n",
      "\u001b[1;32m~\\Anaconda3\\lib\\site-packages\\requests\\adapters.py\u001b[0m in \u001b[0;36msend\u001b[1;34m(self, request, stream, timeout, verify, cert, proxies)\u001b[0m\n\u001b[0;32m    447\u001b[0m                     \u001b[0mdecode_content\u001b[0m\u001b[1;33m=\u001b[0m\u001b[1;32mFalse\u001b[0m\u001b[1;33m,\u001b[0m\u001b[1;33m\u001b[0m\u001b[1;33m\u001b[0m\u001b[0m\n\u001b[0;32m    448\u001b[0m                     \u001b[0mretries\u001b[0m\u001b[1;33m=\u001b[0m\u001b[0mself\u001b[0m\u001b[1;33m.\u001b[0m\u001b[0mmax_retries\u001b[0m\u001b[1;33m,\u001b[0m\u001b[1;33m\u001b[0m\u001b[1;33m\u001b[0m\u001b[0m\n\u001b[1;32m--> 449\u001b[1;33m                     \u001b[0mtimeout\u001b[0m\u001b[1;33m=\u001b[0m\u001b[0mtimeout\u001b[0m\u001b[1;33m\u001b[0m\u001b[1;33m\u001b[0m\u001b[0m\n\u001b[0m\u001b[0;32m    450\u001b[0m                 )\n\u001b[0;32m    451\u001b[0m \u001b[1;33m\u001b[0m\u001b[0m\n",
      "\u001b[1;32m~\\Anaconda3\\lib\\site-packages\\urllib3\\connectionpool.py\u001b[0m in \u001b[0;36murlopen\u001b[1;34m(self, method, url, body, headers, retries, redirect, assert_same_host, timeout, pool_timeout, release_conn, chunked, body_pos, **response_kw)\u001b[0m\n\u001b[0;32m    670\u001b[0m                 \u001b[0mbody\u001b[0m\u001b[1;33m=\u001b[0m\u001b[0mbody\u001b[0m\u001b[1;33m,\u001b[0m\u001b[1;33m\u001b[0m\u001b[1;33m\u001b[0m\u001b[0m\n\u001b[0;32m    671\u001b[0m                 \u001b[0mheaders\u001b[0m\u001b[1;33m=\u001b[0m\u001b[0mheaders\u001b[0m\u001b[1;33m,\u001b[0m\u001b[1;33m\u001b[0m\u001b[1;33m\u001b[0m\u001b[0m\n\u001b[1;32m--> 672\u001b[1;33m                 \u001b[0mchunked\u001b[0m\u001b[1;33m=\u001b[0m\u001b[0mchunked\u001b[0m\u001b[1;33m,\u001b[0m\u001b[1;33m\u001b[0m\u001b[1;33m\u001b[0m\u001b[0m\n\u001b[0m\u001b[0;32m    673\u001b[0m             )\n\u001b[0;32m    674\u001b[0m \u001b[1;33m\u001b[0m\u001b[0m\n",
      "\u001b[1;32m~\\Anaconda3\\lib\\site-packages\\urllib3\\connectionpool.py\u001b[0m in \u001b[0;36m_make_request\u001b[1;34m(self, conn, method, url, timeout, chunked, **httplib_request_kw)\u001b[0m\n\u001b[0;32m    374\u001b[0m         \u001b[1;31m# Trigger any extra validation we need to do.\u001b[0m\u001b[1;33m\u001b[0m\u001b[1;33m\u001b[0m\u001b[1;33m\u001b[0m\u001b[0m\n\u001b[0;32m    375\u001b[0m         \u001b[1;32mtry\u001b[0m\u001b[1;33m:\u001b[0m\u001b[1;33m\u001b[0m\u001b[1;33m\u001b[0m\u001b[0m\n\u001b[1;32m--> 376\u001b[1;33m             \u001b[0mself\u001b[0m\u001b[1;33m.\u001b[0m\u001b[0m_validate_conn\u001b[0m\u001b[1;33m(\u001b[0m\u001b[0mconn\u001b[0m\u001b[1;33m)\u001b[0m\u001b[1;33m\u001b[0m\u001b[1;33m\u001b[0m\u001b[0m\n\u001b[0m\u001b[0;32m    377\u001b[0m         \u001b[1;32mexcept\u001b[0m \u001b[1;33m(\u001b[0m\u001b[0mSocketTimeout\u001b[0m\u001b[1;33m,\u001b[0m \u001b[0mBaseSSLError\u001b[0m\u001b[1;33m)\u001b[0m \u001b[1;32mas\u001b[0m \u001b[0me\u001b[0m\u001b[1;33m:\u001b[0m\u001b[1;33m\u001b[0m\u001b[1;33m\u001b[0m\u001b[0m\n\u001b[0;32m    378\u001b[0m             \u001b[1;31m# Py2 raises this as a BaseSSLError, Py3 raises it as socket timeout.\u001b[0m\u001b[1;33m\u001b[0m\u001b[1;33m\u001b[0m\u001b[1;33m\u001b[0m\u001b[0m\n",
      "\u001b[1;32m~\\Anaconda3\\lib\\site-packages\\urllib3\\connectionpool.py\u001b[0m in \u001b[0;36m_validate_conn\u001b[1;34m(self, conn)\u001b[0m\n\u001b[0;32m    992\u001b[0m         \u001b[1;31m# Force connect early to allow us to validate the connection.\u001b[0m\u001b[1;33m\u001b[0m\u001b[1;33m\u001b[0m\u001b[1;33m\u001b[0m\u001b[0m\n\u001b[0;32m    993\u001b[0m         \u001b[1;32mif\u001b[0m \u001b[1;32mnot\u001b[0m \u001b[0mgetattr\u001b[0m\u001b[1;33m(\u001b[0m\u001b[0mconn\u001b[0m\u001b[1;33m,\u001b[0m \u001b[1;34m\"sock\"\u001b[0m\u001b[1;33m,\u001b[0m \u001b[1;32mNone\u001b[0m\u001b[1;33m)\u001b[0m\u001b[1;33m:\u001b[0m  \u001b[1;31m# AppEngine might not have  `.sock`\u001b[0m\u001b[1;33m\u001b[0m\u001b[1;33m\u001b[0m\u001b[0m\n\u001b[1;32m--> 994\u001b[1;33m             \u001b[0mconn\u001b[0m\u001b[1;33m.\u001b[0m\u001b[0mconnect\u001b[0m\u001b[1;33m(\u001b[0m\u001b[1;33m)\u001b[0m\u001b[1;33m\u001b[0m\u001b[1;33m\u001b[0m\u001b[0m\n\u001b[0m\u001b[0;32m    995\u001b[0m \u001b[1;33m\u001b[0m\u001b[0m\n\u001b[0;32m    996\u001b[0m         \u001b[1;32mif\u001b[0m \u001b[1;32mnot\u001b[0m \u001b[0mconn\u001b[0m\u001b[1;33m.\u001b[0m\u001b[0mis_verified\u001b[0m\u001b[1;33m:\u001b[0m\u001b[1;33m\u001b[0m\u001b[1;33m\u001b[0m\u001b[0m\n",
      "\u001b[1;32m~\\Anaconda3\\lib\\site-packages\\urllib3\\connection.py\u001b[0m in \u001b[0;36mconnect\u001b[1;34m(self)\u001b[0m\n\u001b[0;32m    298\u001b[0m     \u001b[1;32mdef\u001b[0m \u001b[0mconnect\u001b[0m\u001b[1;33m(\u001b[0m\u001b[0mself\u001b[0m\u001b[1;33m)\u001b[0m\u001b[1;33m:\u001b[0m\u001b[1;33m\u001b[0m\u001b[1;33m\u001b[0m\u001b[0m\n\u001b[0;32m    299\u001b[0m         \u001b[1;31m# Add certificate verification\u001b[0m\u001b[1;33m\u001b[0m\u001b[1;33m\u001b[0m\u001b[1;33m\u001b[0m\u001b[0m\n\u001b[1;32m--> 300\u001b[1;33m         \u001b[0mconn\u001b[0m \u001b[1;33m=\u001b[0m \u001b[0mself\u001b[0m\u001b[1;33m.\u001b[0m\u001b[0m_new_conn\u001b[0m\u001b[1;33m(\u001b[0m\u001b[1;33m)\u001b[0m\u001b[1;33m\u001b[0m\u001b[1;33m\u001b[0m\u001b[0m\n\u001b[0m\u001b[0;32m    301\u001b[0m         \u001b[0mhostname\u001b[0m \u001b[1;33m=\u001b[0m \u001b[0mself\u001b[0m\u001b[1;33m.\u001b[0m\u001b[0mhost\u001b[0m\u001b[1;33m\u001b[0m\u001b[1;33m\u001b[0m\u001b[0m\n\u001b[0;32m    302\u001b[0m \u001b[1;33m\u001b[0m\u001b[0m\n",
      "\u001b[1;32m~\\Anaconda3\\lib\\site-packages\\urllib3\\connection.py\u001b[0m in \u001b[0;36m_new_conn\u001b[1;34m(self)\u001b[0m\n\u001b[0;32m    155\u001b[0m         \u001b[1;32mtry\u001b[0m\u001b[1;33m:\u001b[0m\u001b[1;33m\u001b[0m\u001b[1;33m\u001b[0m\u001b[0m\n\u001b[0;32m    156\u001b[0m             conn = connection.create_connection(\n\u001b[1;32m--> 157\u001b[1;33m                 \u001b[1;33m(\u001b[0m\u001b[0mself\u001b[0m\u001b[1;33m.\u001b[0m\u001b[0m_dns_host\u001b[0m\u001b[1;33m,\u001b[0m \u001b[0mself\u001b[0m\u001b[1;33m.\u001b[0m\u001b[0mport\u001b[0m\u001b[1;33m)\u001b[0m\u001b[1;33m,\u001b[0m \u001b[0mself\u001b[0m\u001b[1;33m.\u001b[0m\u001b[0mtimeout\u001b[0m\u001b[1;33m,\u001b[0m \u001b[1;33m**\u001b[0m\u001b[0mextra_kw\u001b[0m\u001b[1;33m\u001b[0m\u001b[1;33m\u001b[0m\u001b[0m\n\u001b[0m\u001b[0;32m    158\u001b[0m             )\n\u001b[0;32m    159\u001b[0m \u001b[1;33m\u001b[0m\u001b[0m\n",
      "\u001b[1;32m~\\Anaconda3\\lib\\site-packages\\urllib3\\util\\connection.py\u001b[0m in \u001b[0;36mcreate_connection\u001b[1;34m(address, timeout, source_address, socket_options)\u001b[0m\n\u001b[0;32m     72\u001b[0m             \u001b[1;32mif\u001b[0m \u001b[0msource_address\u001b[0m\u001b[1;33m:\u001b[0m\u001b[1;33m\u001b[0m\u001b[1;33m\u001b[0m\u001b[0m\n\u001b[0;32m     73\u001b[0m                 \u001b[0msock\u001b[0m\u001b[1;33m.\u001b[0m\u001b[0mbind\u001b[0m\u001b[1;33m(\u001b[0m\u001b[0msource_address\u001b[0m\u001b[1;33m)\u001b[0m\u001b[1;33m\u001b[0m\u001b[1;33m\u001b[0m\u001b[0m\n\u001b[1;32m---> 74\u001b[1;33m             \u001b[0msock\u001b[0m\u001b[1;33m.\u001b[0m\u001b[0mconnect\u001b[0m\u001b[1;33m(\u001b[0m\u001b[0msa\u001b[0m\u001b[1;33m)\u001b[0m\u001b[1;33m\u001b[0m\u001b[1;33m\u001b[0m\u001b[0m\n\u001b[0m\u001b[0;32m     75\u001b[0m             \u001b[1;32mreturn\u001b[0m \u001b[0msock\u001b[0m\u001b[1;33m\u001b[0m\u001b[1;33m\u001b[0m\u001b[0m\n\u001b[0;32m     76\u001b[0m \u001b[1;33m\u001b[0m\u001b[0m\n",
      "\u001b[1;31mKeyboardInterrupt\u001b[0m: "
     ]
    }
   ],
   "source": [
    "import tweepy\n",
    "from tweepy import OAuthHandler\n",
    "import json\n",
    "from timeit import default_timer as timer\n",
    "\n",
    "# Query Twitter API for each tweet in the Twitter archive and save JSON in a text file\n",
    "# These are hidden to comply with Twitter's API terms and conditions\n",
    "consumer_key = 'HIDDEN'\n",
    "consumer_secret = 'HIDDEN'\n",
    "access_token = 'HIDDEN'\n",
    "access_secret = 'HIDDEN'\n",
    "\n",
    "auth = OAuthHandler(consumer_key, consumer_secret)\n",
    "auth.set_access_token(access_token, access_secret)\n",
    "\n",
    "api = tweepy.API(auth, wait_on_rate_limit=True)\n",
    "\n",
    "# NOTE TO STUDENT WITH MOBILE VERIFICATION ISSUES:\n",
    "# df_1 is a DataFrame with the twitter_archive_enhanced.csv file. You may have to\n",
    "# change line 17 to match the name of your DataFrame with twitter_archive_enhanced.csv\n",
    "# NOTE TO REVIEWER: this student had mobile verification issues so the following\n",
    "# Twitter API code was sent to this student from a Udacity instructor\n",
    "# Tweet IDs for which to gather additional data via Twitter's API\n",
    "tweet_ids = df_twitter.tweet_id.values\n",
    "len(tweet_ids)\n",
    "\n",
    "# Query Twitter's API for JSON data for each tweet ID in the Twitter archive\n",
    "count = 0\n",
    "fails_dict = {}\n",
    "start = timer()\n",
    "# Save each tweet's returned JSON as a new line in a .txt file\n",
    "with open('tweet_json.txt', 'w') as outfile:\n",
    "    # This loop will likely take 20-30 minutes to run because of Twitter's rate limit\n",
    "    for tweet_id in tweet_ids:\n",
    "        count += 1\n",
    "        print(str(count) + \": \" + str(tweet_id))\n",
    "        try:\n",
    "            tweet = api.get_status(tweet_id, tweet_mode='extended')\n",
    "            print(\"Success\")\n",
    "            json.dump(tweet._json, outfile)\n",
    "            outfile.write('\\n')\n",
    "        except tweepy.TweepError as e:\n",
    "            print(\"Fail\")\n",
    "            fails_dict[tweet_id] = e\n",
    "            pass\n",
    "end = timer()\n",
    "print(end - start)\n",
    "print(fails_dict)\n"
   ]
  },
  {
   "cell_type": "code",
   "execution_count": 270,
   "metadata": {},
   "outputs": [],
   "source": [
    "additional = pd.read_json('tweet-json.txt', lines=True)"
   ]
  },
  {
   "cell_type": "code",
   "execution_count": 271,
   "metadata": {},
   "outputs": [
    {
     "output_type": "execute_result",
     "data": {
      "text/plain": "                   id  retweet_count  favorite_count  retweeted  \\\n0  892420643555336193           8853           39467      False   \n1  892177421306343426           6514           33819      False   \n2  891815181378084864           4328           25461      False   \n3  891689557279858688           8964           42908      False   \n4  891327558926688256           9774           41048      False   \n\n  display_text_range  \n0            [0, 85]  \n1           [0, 138]  \n2           [0, 121]  \n3            [0, 79]  \n4           [0, 138]  ",
      "text/html": "<div>\n<style scoped>\n    .dataframe tbody tr th:only-of-type {\n        vertical-align: middle;\n    }\n\n    .dataframe tbody tr th {\n        vertical-align: top;\n    }\n\n    .dataframe thead th {\n        text-align: right;\n    }\n</style>\n<table border=\"1\" class=\"dataframe\">\n  <thead>\n    <tr style=\"text-align: right;\">\n      <th></th>\n      <th>id</th>\n      <th>retweet_count</th>\n      <th>favorite_count</th>\n      <th>retweeted</th>\n      <th>display_text_range</th>\n    </tr>\n  </thead>\n  <tbody>\n    <tr>\n      <th>0</th>\n      <td>892420643555336193</td>\n      <td>8853</td>\n      <td>39467</td>\n      <td>False</td>\n      <td>[0, 85]</td>\n    </tr>\n    <tr>\n      <th>1</th>\n      <td>892177421306343426</td>\n      <td>6514</td>\n      <td>33819</td>\n      <td>False</td>\n      <td>[0, 138]</td>\n    </tr>\n    <tr>\n      <th>2</th>\n      <td>891815181378084864</td>\n      <td>4328</td>\n      <td>25461</td>\n      <td>False</td>\n      <td>[0, 121]</td>\n    </tr>\n    <tr>\n      <th>3</th>\n      <td>891689557279858688</td>\n      <td>8964</td>\n      <td>42908</td>\n      <td>False</td>\n      <td>[0, 79]</td>\n    </tr>\n    <tr>\n      <th>4</th>\n      <td>891327558926688256</td>\n      <td>9774</td>\n      <td>41048</td>\n      <td>False</td>\n      <td>[0, 138]</td>\n    </tr>\n  </tbody>\n</table>\n</div>"
     },
     "metadata": {},
     "execution_count": 271
    }
   ],
   "source": [
    "columns = [\"id\", \"retweet_count\", \"favorite_count\", \"retweeted\", \"display_text_range\"]\n",
    "df_add = additional[columns]\n",
    "df_add.head(5)"
   ]
  },
  {
   "cell_type": "code",
   "execution_count": 272,
   "metadata": {},
   "outputs": [
    {
     "output_type": "execute_result",
     "data": {
      "text/plain": "             tweet_id  in_reply_to_status_id  in_reply_to_user_id  \\\n0  892420643555336193                    NaN                  NaN   \n\n                   timestamp  \\\n0  2017-08-01 16:23:56 +0000   \n\n                                              source  \\\n0  <a href=\"http://twitter.com/download/iphone\" r...   \n\n                                                text  retweeted_status_id  \\\n0  This is Phineas. He's a mystical boy. Only eve...                  NaN   \n\n   retweeted_status_user_id retweeted_status_timestamp  \\\n0                       NaN                        NaN   \n\n                                       expanded_urls  rating_numerator  \\\n0  https://twitter.com/dog_rates/status/892420643...                13   \n\n   rating_denominator     name doggo floofer pupper puppo  \n0                  10  Phineas  None    None   None  None  ",
      "text/html": "<div>\n<style scoped>\n    .dataframe tbody tr th:only-of-type {\n        vertical-align: middle;\n    }\n\n    .dataframe tbody tr th {\n        vertical-align: top;\n    }\n\n    .dataframe thead th {\n        text-align: right;\n    }\n</style>\n<table border=\"1\" class=\"dataframe\">\n  <thead>\n    <tr style=\"text-align: right;\">\n      <th></th>\n      <th>tweet_id</th>\n      <th>in_reply_to_status_id</th>\n      <th>in_reply_to_user_id</th>\n      <th>timestamp</th>\n      <th>source</th>\n      <th>text</th>\n      <th>retweeted_status_id</th>\n      <th>retweeted_status_user_id</th>\n      <th>retweeted_status_timestamp</th>\n      <th>expanded_urls</th>\n      <th>rating_numerator</th>\n      <th>rating_denominator</th>\n      <th>name</th>\n      <th>doggo</th>\n      <th>floofer</th>\n      <th>pupper</th>\n      <th>puppo</th>\n    </tr>\n  </thead>\n  <tbody>\n    <tr>\n      <th>0</th>\n      <td>892420643555336193</td>\n      <td>NaN</td>\n      <td>NaN</td>\n      <td>2017-08-01 16:23:56 +0000</td>\n      <td>&lt;a href=\"http://twitter.com/download/iphone\" r...</td>\n      <td>This is Phineas. He's a mystical boy. Only eve...</td>\n      <td>NaN</td>\n      <td>NaN</td>\n      <td>NaN</td>\n      <td>https://twitter.com/dog_rates/status/892420643...</td>\n      <td>13</td>\n      <td>10</td>\n      <td>Phineas</td>\n      <td>None</td>\n      <td>None</td>\n      <td>None</td>\n      <td>None</td>\n    </tr>\n  </tbody>\n</table>\n</div>"
     },
     "metadata": {},
     "execution_count": 272
    }
   ],
   "source": [
    "df_twitter.head(1)"
   ]
  },
  {
   "cell_type": "code",
   "execution_count": 273,
   "metadata": {},
   "outputs": [
    {
     "output_type": "execute_result",
     "data": {
      "text/plain": "             tweet_id                                          jpg_url  \\\n0  666020888022790149  https://pbs.twimg.com/media/CT4udn0WwAA0aMy.jpg   \n\n   img_num                      p1   p1_conf  p1_dog      p2   p2_conf  \\\n0        1  Welsh_springer_spaniel  0.465074    True  collie  0.156665   \n\n   p2_dog                 p3   p3_conf  p3_dog  \n0    True  Shetland_sheepdog  0.061428    True  ",
      "text/html": "<div>\n<style scoped>\n    .dataframe tbody tr th:only-of-type {\n        vertical-align: middle;\n    }\n\n    .dataframe tbody tr th {\n        vertical-align: top;\n    }\n\n    .dataframe thead th {\n        text-align: right;\n    }\n</style>\n<table border=\"1\" class=\"dataframe\">\n  <thead>\n    <tr style=\"text-align: right;\">\n      <th></th>\n      <th>tweet_id</th>\n      <th>jpg_url</th>\n      <th>img_num</th>\n      <th>p1</th>\n      <th>p1_conf</th>\n      <th>p1_dog</th>\n      <th>p2</th>\n      <th>p2_conf</th>\n      <th>p2_dog</th>\n      <th>p3</th>\n      <th>p3_conf</th>\n      <th>p3_dog</th>\n    </tr>\n  </thead>\n  <tbody>\n    <tr>\n      <th>0</th>\n      <td>666020888022790149</td>\n      <td>https://pbs.twimg.com/media/CT4udn0WwAA0aMy.jpg</td>\n      <td>1</td>\n      <td>Welsh_springer_spaniel</td>\n      <td>0.465074</td>\n      <td>True</td>\n      <td>collie</td>\n      <td>0.156665</td>\n      <td>True</td>\n      <td>Shetland_sheepdog</td>\n      <td>0.061428</td>\n      <td>True</td>\n    </tr>\n  </tbody>\n</table>\n</div>"
     },
     "metadata": {},
     "execution_count": 273
    }
   ],
   "source": [
    "df_predict.head(1)"
   ]
  },
  {
   "cell_type": "code",
   "execution_count": 274,
   "metadata": {},
   "outputs": [
    {
     "output_type": "execute_result",
     "data": {
      "text/plain": "                   id  retweet_count  favorite_count  retweeted  \\\n0  892420643555336193           8853           39467      False   \n\n  display_text_range  \n0            [0, 85]  ",
      "text/html": "<div>\n<style scoped>\n    .dataframe tbody tr th:only-of-type {\n        vertical-align: middle;\n    }\n\n    .dataframe tbody tr th {\n        vertical-align: top;\n    }\n\n    .dataframe thead th {\n        text-align: right;\n    }\n</style>\n<table border=\"1\" class=\"dataframe\">\n  <thead>\n    <tr style=\"text-align: right;\">\n      <th></th>\n      <th>id</th>\n      <th>retweet_count</th>\n      <th>favorite_count</th>\n      <th>retweeted</th>\n      <th>display_text_range</th>\n    </tr>\n  </thead>\n  <tbody>\n    <tr>\n      <th>0</th>\n      <td>892420643555336193</td>\n      <td>8853</td>\n      <td>39467</td>\n      <td>False</td>\n      <td>[0, 85]</td>\n    </tr>\n  </tbody>\n</table>\n</div>"
     },
     "metadata": {},
     "execution_count": 274
    }
   ],
   "source": [
    "df_add.head(1)"
   ]
  },
  {
   "cell_type": "code",
   "execution_count": 275,
   "metadata": {},
   "outputs": [],
   "source": [
    "df_add.rename(columns={'id': 'tweet_id'}, inplace=True)"
   ]
  },
  {
   "cell_type": "markdown",
   "metadata": {},
   "source": [
    "Renaming of the id column for the additional twitter data, as the other data sources used \"tweet_id\" - trying to be consistent for future work."
   ]
  },
  {
   "cell_type": "markdown",
   "metadata": {},
   "source": [
    "<a id='assessing'></a>\n",
    "## Data Assessing\n"
   ]
  },
  {
   "cell_type": "markdown",
   "metadata": {},
   "source": [
    "Looking for data quality problems etc."
   ]
  },
  {
   "cell_type": "markdown",
   "metadata": {},
   "source": [
    "#### df_twitter\n",
    "\n",
    "Let's first look for missing data."
   ]
  },
  {
   "cell_type": "code",
   "execution_count": 276,
   "metadata": {},
   "outputs": [
    {
     "output_type": "stream",
     "name": "stdout",
     "text": "<class 'pandas.core.frame.DataFrame'>\nRangeIndex: 2356 entries, 0 to 2355\nData columns (total 17 columns):\n #   Column                      Non-Null Count  Dtype  \n---  ------                      --------------  -----  \n 0   tweet_id                    2356 non-null   int64  \n 1   in_reply_to_status_id       78 non-null     float64\n 2   in_reply_to_user_id         78 non-null     float64\n 3   timestamp                   2356 non-null   object \n 4   source                      2356 non-null   object \n 5   text                        2356 non-null   object \n 6   retweeted_status_id         181 non-null    float64\n 7   retweeted_status_user_id    181 non-null    float64\n 8   retweeted_status_timestamp  181 non-null    object \n 9   expanded_urls               2297 non-null   object \n 10  rating_numerator            2356 non-null   int64  \n 11  rating_denominator          2356 non-null   int64  \n 12  name                        2356 non-null   object \n 13  doggo                       2356 non-null   object \n 14  floofer                     2356 non-null   object \n 15  pupper                      2356 non-null   object \n 16  puppo                       2356 non-null   object \ndtypes: float64(4), int64(3), object(10)\nmemory usage: 313.0+ KB\n"
    }
   ],
   "source": [
    "df_twitter.info()"
   ]
  },
  {
   "cell_type": "code",
   "execution_count": 277,
   "metadata": {},
   "outputs": [
    {
     "output_type": "execute_result",
     "data": {
      "text/plain": "                tweet_id  in_reply_to_status_id  in_reply_to_user_id  \\\n27    886736880519319552                    NaN                  NaN   \n1124  730211855403241472                    NaN                  NaN   \n953   751830394383790080                    NaN                  NaN   \n876   761004547850530816                    NaN                  NaN   \n273   840728873075638272                    NaN                  NaN   \n2203  668641109086707712                    NaN                  NaN   \n2323  666428276349472768                    NaN                  NaN   \n1917  674291837063053312                    NaN                  NaN   \n1907  674447403907457024                    NaN                  NaN   \n607   798209839306514432                    NaN                  NaN   \n\n                      timestamp  \\\n27    2017-07-16 23:58:41 +0000   \n1124  2016-05-11 01:44:07 +0000   \n953   2016-07-09 17:28:29 +0000   \n876   2016-08-04 01:03:17 +0000   \n273   2017-03-12 00:59:17 +0000   \n2203  2015-11-23 04:03:57 +0000   \n2323  2015-11-17 01:30:57 +0000   \n1917  2015-12-08 18:17:56 +0000   \n1907  2015-12-09 04:36:06 +0000   \n607   2016-11-14 17:03:50 +0000   \n\n                                                 source  \\\n27    <a href=\"http://twitter.com/download/iphone\" r...   \n1124  <a href=\"http://twitter.com/download/iphone\" r...   \n953   <a href=\"http://twitter.com/download/iphone\" r...   \n876   <a href=\"http://twitter.com/download/iphone\" r...   \n273   <a href=\"http://twitter.com/download/iphone\" r...   \n2203  <a href=\"http://twitter.com/download/iphone\" r...   \n2323  <a href=\"http://twitter.com/download/iphone\" r...   \n1917  <a href=\"http://twitter.com/download/iphone\" r...   \n1907  <a href=\"http://twitter.com/download/iphone\" r...   \n607   <a href=\"http://twitter.com/download/iphone\" r...   \n\n                                                   text  retweeted_status_id  \\\n27    This is Mingus. He's a wonderful father to his...                  NaN   \n1124  This is Ziva. She doesn't know how her collar ...                  NaN   \n953   This is Tucker. He's very camera shy. 12/10 wo...                  NaN   \n876   This is Bo and Ty. Bo eats paper and Ty felt l...                  NaN   \n273   RT @dog_rates: This is Pipsy. He is a fluffbal...         6.671522e+17   \n2203  Meet Hanz. He heard some thunder. 10/10 https:...                  NaN   \n2323  Here we have an Austrian Pulitzer. Collectors ...                  NaN   \n1917  This is Kenny. He just wants to be included in...                  NaN   \n1907  This pupper just wants a belly rub. This puppe...                  NaN   \n607   This is Cooper. His bow tie was too heavy for ...                  NaN   \n\n      retweeted_status_user_id retweeted_status_timestamp  \\\n27                         NaN                        NaN   \n1124                       NaN                        NaN   \n953                        NaN                        NaN   \n876                        NaN                        NaN   \n273               4.196984e+09  2015-11-19 01:27:25 +0000   \n2203                       NaN                        NaN   \n2323                       NaN                        NaN   \n1917                       NaN                        NaN   \n1907                       NaN                        NaN   \n607                        NaN                        NaN   \n\n                                          expanded_urls  rating_numerator  \\\n27    https://www.gofundme.com/mingusneedsus,https:/...                13   \n1124  https://twitter.com/dog_rates/status/730211855...                11   \n953   https://twitter.com/dog_rates/status/751830394...                12   \n876   https://twitter.com/dog_rates/status/761004547...                11   \n273   https://twitter.com/dog_rates/status/667152164...                12   \n2203  https://twitter.com/dog_rates/status/668641109...                10   \n2323  https://twitter.com/dog_rates/status/666428276...                 7   \n1917  https://twitter.com/dog_rates/status/674291837...                11   \n1907  https://twitter.com/dog_rates/status/674447403...                10   \n607   https://twitter.com/dog_rates/status/798209839...                13   \n\n      rating_denominator    name doggo floofer  pupper puppo  \n27                    10  Mingus  None    None    None  None  \n1124                  10    Ziva  None    None    None  None  \n953                   10  Tucker  None    None    None  None  \n876                   10      Bo  None    None    None  None  \n273                   10   Pipsy  None    None    None  None  \n2203                  10    Hanz  None    None    None  None  \n2323                  10    None  None    None    None  None  \n1917                  10   Kenny  None    None    None  None  \n1907                  10    None  None    None  pupper  None  \n607                   10  Cooper  None    None    None  None  ",
      "text/html": "<div>\n<style scoped>\n    .dataframe tbody tr th:only-of-type {\n        vertical-align: middle;\n    }\n\n    .dataframe tbody tr th {\n        vertical-align: top;\n    }\n\n    .dataframe thead th {\n        text-align: right;\n    }\n</style>\n<table border=\"1\" class=\"dataframe\">\n  <thead>\n    <tr style=\"text-align: right;\">\n      <th></th>\n      <th>tweet_id</th>\n      <th>in_reply_to_status_id</th>\n      <th>in_reply_to_user_id</th>\n      <th>timestamp</th>\n      <th>source</th>\n      <th>text</th>\n      <th>retweeted_status_id</th>\n      <th>retweeted_status_user_id</th>\n      <th>retweeted_status_timestamp</th>\n      <th>expanded_urls</th>\n      <th>rating_numerator</th>\n      <th>rating_denominator</th>\n      <th>name</th>\n      <th>doggo</th>\n      <th>floofer</th>\n      <th>pupper</th>\n      <th>puppo</th>\n    </tr>\n  </thead>\n  <tbody>\n    <tr>\n      <th>27</th>\n      <td>886736880519319552</td>\n      <td>NaN</td>\n      <td>NaN</td>\n      <td>2017-07-16 23:58:41 +0000</td>\n      <td>&lt;a href=\"http://twitter.com/download/iphone\" r...</td>\n      <td>This is Mingus. He's a wonderful father to his...</td>\n      <td>NaN</td>\n      <td>NaN</td>\n      <td>NaN</td>\n      <td>https://www.gofundme.com/mingusneedsus,https:/...</td>\n      <td>13</td>\n      <td>10</td>\n      <td>Mingus</td>\n      <td>None</td>\n      <td>None</td>\n      <td>None</td>\n      <td>None</td>\n    </tr>\n    <tr>\n      <th>1124</th>\n      <td>730211855403241472</td>\n      <td>NaN</td>\n      <td>NaN</td>\n      <td>2016-05-11 01:44:07 +0000</td>\n      <td>&lt;a href=\"http://twitter.com/download/iphone\" r...</td>\n      <td>This is Ziva. She doesn't know how her collar ...</td>\n      <td>NaN</td>\n      <td>NaN</td>\n      <td>NaN</td>\n      <td>https://twitter.com/dog_rates/status/730211855...</td>\n      <td>11</td>\n      <td>10</td>\n      <td>Ziva</td>\n      <td>None</td>\n      <td>None</td>\n      <td>None</td>\n      <td>None</td>\n    </tr>\n    <tr>\n      <th>953</th>\n      <td>751830394383790080</td>\n      <td>NaN</td>\n      <td>NaN</td>\n      <td>2016-07-09 17:28:29 +0000</td>\n      <td>&lt;a href=\"http://twitter.com/download/iphone\" r...</td>\n      <td>This is Tucker. He's very camera shy. 12/10 wo...</td>\n      <td>NaN</td>\n      <td>NaN</td>\n      <td>NaN</td>\n      <td>https://twitter.com/dog_rates/status/751830394...</td>\n      <td>12</td>\n      <td>10</td>\n      <td>Tucker</td>\n      <td>None</td>\n      <td>None</td>\n      <td>None</td>\n      <td>None</td>\n    </tr>\n    <tr>\n      <th>876</th>\n      <td>761004547850530816</td>\n      <td>NaN</td>\n      <td>NaN</td>\n      <td>2016-08-04 01:03:17 +0000</td>\n      <td>&lt;a href=\"http://twitter.com/download/iphone\" r...</td>\n      <td>This is Bo and Ty. Bo eats paper and Ty felt l...</td>\n      <td>NaN</td>\n      <td>NaN</td>\n      <td>NaN</td>\n      <td>https://twitter.com/dog_rates/status/761004547...</td>\n      <td>11</td>\n      <td>10</td>\n      <td>Bo</td>\n      <td>None</td>\n      <td>None</td>\n      <td>None</td>\n      <td>None</td>\n    </tr>\n    <tr>\n      <th>273</th>\n      <td>840728873075638272</td>\n      <td>NaN</td>\n      <td>NaN</td>\n      <td>2017-03-12 00:59:17 +0000</td>\n      <td>&lt;a href=\"http://twitter.com/download/iphone\" r...</td>\n      <td>RT @dog_rates: This is Pipsy. He is a fluffbal...</td>\n      <td>6.671522e+17</td>\n      <td>4.196984e+09</td>\n      <td>2015-11-19 01:27:25 +0000</td>\n      <td>https://twitter.com/dog_rates/status/667152164...</td>\n      <td>12</td>\n      <td>10</td>\n      <td>Pipsy</td>\n      <td>None</td>\n      <td>None</td>\n      <td>None</td>\n      <td>None</td>\n    </tr>\n    <tr>\n      <th>2203</th>\n      <td>668641109086707712</td>\n      <td>NaN</td>\n      <td>NaN</td>\n      <td>2015-11-23 04:03:57 +0000</td>\n      <td>&lt;a href=\"http://twitter.com/download/iphone\" r...</td>\n      <td>Meet Hanz. He heard some thunder. 10/10 https:...</td>\n      <td>NaN</td>\n      <td>NaN</td>\n      <td>NaN</td>\n      <td>https://twitter.com/dog_rates/status/668641109...</td>\n      <td>10</td>\n      <td>10</td>\n      <td>Hanz</td>\n      <td>None</td>\n      <td>None</td>\n      <td>None</td>\n      <td>None</td>\n    </tr>\n    <tr>\n      <th>2323</th>\n      <td>666428276349472768</td>\n      <td>NaN</td>\n      <td>NaN</td>\n      <td>2015-11-17 01:30:57 +0000</td>\n      <td>&lt;a href=\"http://twitter.com/download/iphone\" r...</td>\n      <td>Here we have an Austrian Pulitzer. Collectors ...</td>\n      <td>NaN</td>\n      <td>NaN</td>\n      <td>NaN</td>\n      <td>https://twitter.com/dog_rates/status/666428276...</td>\n      <td>7</td>\n      <td>10</td>\n      <td>None</td>\n      <td>None</td>\n      <td>None</td>\n      <td>None</td>\n      <td>None</td>\n    </tr>\n    <tr>\n      <th>1917</th>\n      <td>674291837063053312</td>\n      <td>NaN</td>\n      <td>NaN</td>\n      <td>2015-12-08 18:17:56 +0000</td>\n      <td>&lt;a href=\"http://twitter.com/download/iphone\" r...</td>\n      <td>This is Kenny. He just wants to be included in...</td>\n      <td>NaN</td>\n      <td>NaN</td>\n      <td>NaN</td>\n      <td>https://twitter.com/dog_rates/status/674291837...</td>\n      <td>11</td>\n      <td>10</td>\n      <td>Kenny</td>\n      <td>None</td>\n      <td>None</td>\n      <td>None</td>\n      <td>None</td>\n    </tr>\n    <tr>\n      <th>1907</th>\n      <td>674447403907457024</td>\n      <td>NaN</td>\n      <td>NaN</td>\n      <td>2015-12-09 04:36:06 +0000</td>\n      <td>&lt;a href=\"http://twitter.com/download/iphone\" r...</td>\n      <td>This pupper just wants a belly rub. This puppe...</td>\n      <td>NaN</td>\n      <td>NaN</td>\n      <td>NaN</td>\n      <td>https://twitter.com/dog_rates/status/674447403...</td>\n      <td>10</td>\n      <td>10</td>\n      <td>None</td>\n      <td>None</td>\n      <td>None</td>\n      <td>pupper</td>\n      <td>None</td>\n    </tr>\n    <tr>\n      <th>607</th>\n      <td>798209839306514432</td>\n      <td>NaN</td>\n      <td>NaN</td>\n      <td>2016-11-14 17:03:50 +0000</td>\n      <td>&lt;a href=\"http://twitter.com/download/iphone\" r...</td>\n      <td>This is Cooper. His bow tie was too heavy for ...</td>\n      <td>NaN</td>\n      <td>NaN</td>\n      <td>NaN</td>\n      <td>https://twitter.com/dog_rates/status/798209839...</td>\n      <td>13</td>\n      <td>10</td>\n      <td>Cooper</td>\n      <td>None</td>\n      <td>None</td>\n      <td>None</td>\n      <td>None</td>\n    </tr>\n  </tbody>\n</table>\n</div>"
     },
     "metadata": {},
     "execution_count": 277
    }
   ],
   "source": [
    "df_twitter.sample(10)"
   ]
  },
  {
   "cell_type": "markdown",
   "metadata": {},
   "source": [
    "A lot of missing data in the retweeted and reply columns!\n",
    "Since we only want original posts with images, we'll drop them later.\n",
    "Additionally we can see that:\n",
    "- not all tweets could be classified correctly\n",
    "- HTML code in the source column\n",
    "- records/tweets where the name is \"None\"\n",
    "- incorrect datatypes for timestamp columns -> should be datetime instead of objects"
   ]
  },
  {
   "cell_type": "code",
   "execution_count": 278,
   "metadata": {},
   "outputs": [
    {
     "output_type": "execute_result",
     "data": {
      "text/plain": "None       745\na           55\nCharlie     12\nCooper      11\nLucy        11\n          ... \nDotsy        1\nBanditt      1\nEugene       1\nJD           1\nHuck         1\nName: name, Length: 957, dtype: int64"
     },
     "metadata": {},
     "execution_count": 278
    }
   ],
   "source": [
    "df_twitter['name'].value_counts()"
   ]
  },
  {
   "cell_type": "markdown",
   "metadata": {},
   "source": [
    "Some names are not real names, like \"None\" or \"a\"."
   ]
  },
  {
   "cell_type": "code",
   "execution_count": 279,
   "metadata": {},
   "outputs": [
    {
     "output_type": "execute_result",
     "data": {
      "text/plain": "tweet_id                      2356\nin_reply_to_status_id           77\nin_reply_to_user_id             31\ntimestamp                     2356\nsource                           4\ntext                          2356\nretweeted_status_id            181\nretweeted_status_user_id        25\nretweeted_status_timestamp     181\nexpanded_urls                 2218\nrating_numerator                40\nrating_denominator              18\nname                           957\ndoggo                            2\nfloofer                          2\npupper                           2\npuppo                            2\ndtype: int64"
     },
     "metadata": {},
     "execution_count": 279
    },
    {
     "output_type": "execute_result",
     "data": {
      "text/plain": "2356"
     },
     "metadata": {},
     "execution_count": 279
    }
   ],
   "source": [
    "df_twitter.nunique()\n",
    "df_twitter.shape[0]"
   ]
  },
  {
   "cell_type": "markdown",
   "metadata": {},
   "source": [
    "No duplicate tweets, as the amount of unique tweet id's is identical to the number of records in the dataset."
   ]
  },
  {
   "cell_type": "code",
   "execution_count": 280,
   "metadata": {},
   "outputs": [
    {
     "output_type": "execute_result",
     "data": {
      "text/plain": "True     1976\nFalse     380\ndtype: int64"
     },
     "metadata": {},
     "execution_count": 280
    }
   ],
   "source": [
    "check_classification = df_twitter.copy()\n",
    "\n",
    "check_classification[['doggo','floofer','pupper','puppo']].apply(lambda x: True if\n",
    "    (x[0] == 'None' and \n",
    "    x[1] == 'None' and \n",
    "    x[2] == 'None' and \n",
    "    x[3] =='None') \n",
    "    else False, axis = 1).value_counts()"
   ]
  },
  {
   "cell_type": "markdown",
   "metadata": {},
   "source": [
    "Dogs could only be correctly classified 16.13% of the time (380/(1976+380)).\n",
    "\n",
    "Only for 16% of the rows the data is not missing. Now let's take a look at the ratings. By what we have seen so far, it looks like the ratings have always a format of 13/10 or 12/10 and so on. So we would expect a numerator > 10 and denominator = 10."
   ]
  },
  {
   "cell_type": "code",
   "execution_count": 281,
   "metadata": {},
   "outputs": [
    {
     "output_type": "execute_result",
     "data": {
      "text/plain": "12      558\n11      464\n10      461\n13      351\n9       158\n8       102\n7        55\n14       54\n5        37\n6        32\n3        19\n4        17\n1         9\n2         9\n420       2\n0         2\n15        2\n75        2\n80        1\n20        1\n24        1\n26        1\n44        1\n50        1\n60        1\n165       1\n84        1\n88        1\n144       1\n182       1\n143       1\n666       1\n960       1\n1776      1\n17        1\n27        1\n45        1\n99        1\n121       1\n204       1\nName: rating_numerator, dtype: int64"
     },
     "metadata": {},
     "execution_count": 281
    }
   ],
   "source": [
    "df_twitter['rating_numerator'].value_counts()"
   ]
  },
  {
   "cell_type": "markdown",
   "metadata": {},
   "source": [
    "There are a wide range of rating_numerators in this dataset, going as high as 1776! The scale only goes from one to ten though.."
   ]
  },
  {
   "cell_type": "code",
   "execution_count": 282,
   "metadata": {},
   "outputs": [
    {
     "output_type": "execute_result",
     "data": {
      "text/plain": "979    https://twitter.com/dog_rates/status/749981277...\nName: expanded_urls, dtype: object"
     },
     "metadata": {},
     "execution_count": 282
    }
   ],
   "source": [
    "df_twitter.query('rating_numerator == \"1776\"')['expanded_urls']"
   ]
  },
  {
   "cell_type": "markdown",
   "metadata": {},
   "source": [
    "Checking the tweet this is a legitimate record though.\n",
    "So ratings above 10 are possible."
   ]
  },
  {
   "cell_type": "code",
   "execution_count": 283,
   "metadata": {},
   "outputs": [
    {
     "output_type": "execute_result",
     "data": {
      "text/plain": "                tweet_id  in_reply_to_status_id  in_reply_to_user_id  \\\n605   798576900688019456                    NaN                  NaN   \n1446  696490539101908992           6.964887e+17         4.196984e+09   \n1869  675153376133427200                    NaN                  NaN   \n1940  673716320723169284           6.737159e+17         4.196984e+09   \n2038  671550332464455680           6.715449e+17         4.196984e+09   \n\n                      timestamp  \\\n605   2016-11-15 17:22:24 +0000   \n1446  2016-02-08 00:27:39 +0000   \n1869  2015-12-11 03:21:23 +0000   \n1940  2015-12-07 04:11:02 +0000   \n2038  2015-12-01 04:44:10 +0000   \n\n                                                 source  \\\n605   <a href=\"http://twitter.com/download/iphone\" r...   \n1446  <a href=\"http://twitter.com/download/iphone\" r...   \n1869  <a href=\"http://twitter.com/download/iphone\" r...   \n1940  <a href=\"http://twitter.com/download/iphone\" r...   \n2038  <a href=\"http://twitter.com/download/iphone\" r...   \n\n                                                   text  retweeted_status_id  \\\n605   RT @dog_rates: Not familiar with this breed. N...         6.661041e+17   \n1446  After reading the comments I may have overesti...                  NaN   \n1869  What kind of person sends in a picture without...                  NaN   \n1940  The millennials have spoken and we've decided ...                  NaN   \n2038  After 22 minutes of careful deliberation this ...                  NaN   \n\n      retweeted_status_user_id retweeted_status_timestamp  \\\n605               4.196984e+09  2015-11-16 04:02:55 +0000   \n1446                       NaN                        NaN   \n1869                       NaN                        NaN   \n1940                       NaN                        NaN   \n2038                       NaN                        NaN   \n\n                                          expanded_urls  rating_numerator  \\\n605   https://twitter.com/dog_rates/status/666104133...                 1   \n1446                                                NaN                 1   \n1869  https://twitter.com/dog_rates/status/675153376...                 1   \n1940                                                NaN                 1   \n2038                                                NaN                 1   \n\n      rating_denominator  name doggo floofer pupper puppo  \n605                   10  None  None    None   None  None  \n1446                  10  None  None    None   None  None  \n1869                  10  None  None    None   None  None  \n1940                  10  None  None    None   None  None  \n2038                  10  None  None    None   None  None  ",
      "text/html": "<div>\n<style scoped>\n    .dataframe tbody tr th:only-of-type {\n        vertical-align: middle;\n    }\n\n    .dataframe tbody tr th {\n        vertical-align: top;\n    }\n\n    .dataframe thead th {\n        text-align: right;\n    }\n</style>\n<table border=\"1\" class=\"dataframe\">\n  <thead>\n    <tr style=\"text-align: right;\">\n      <th></th>\n      <th>tweet_id</th>\n      <th>in_reply_to_status_id</th>\n      <th>in_reply_to_user_id</th>\n      <th>timestamp</th>\n      <th>source</th>\n      <th>text</th>\n      <th>retweeted_status_id</th>\n      <th>retweeted_status_user_id</th>\n      <th>retweeted_status_timestamp</th>\n      <th>expanded_urls</th>\n      <th>rating_numerator</th>\n      <th>rating_denominator</th>\n      <th>name</th>\n      <th>doggo</th>\n      <th>floofer</th>\n      <th>pupper</th>\n      <th>puppo</th>\n    </tr>\n  </thead>\n  <tbody>\n    <tr>\n      <th>605</th>\n      <td>798576900688019456</td>\n      <td>NaN</td>\n      <td>NaN</td>\n      <td>2016-11-15 17:22:24 +0000</td>\n      <td>&lt;a href=\"http://twitter.com/download/iphone\" r...</td>\n      <td>RT @dog_rates: Not familiar with this breed. N...</td>\n      <td>6.661041e+17</td>\n      <td>4.196984e+09</td>\n      <td>2015-11-16 04:02:55 +0000</td>\n      <td>https://twitter.com/dog_rates/status/666104133...</td>\n      <td>1</td>\n      <td>10</td>\n      <td>None</td>\n      <td>None</td>\n      <td>None</td>\n      <td>None</td>\n      <td>None</td>\n    </tr>\n    <tr>\n      <th>1446</th>\n      <td>696490539101908992</td>\n      <td>6.964887e+17</td>\n      <td>4.196984e+09</td>\n      <td>2016-02-08 00:27:39 +0000</td>\n      <td>&lt;a href=\"http://twitter.com/download/iphone\" r...</td>\n      <td>After reading the comments I may have overesti...</td>\n      <td>NaN</td>\n      <td>NaN</td>\n      <td>NaN</td>\n      <td>NaN</td>\n      <td>1</td>\n      <td>10</td>\n      <td>None</td>\n      <td>None</td>\n      <td>None</td>\n      <td>None</td>\n      <td>None</td>\n    </tr>\n    <tr>\n      <th>1869</th>\n      <td>675153376133427200</td>\n      <td>NaN</td>\n      <td>NaN</td>\n      <td>2015-12-11 03:21:23 +0000</td>\n      <td>&lt;a href=\"http://twitter.com/download/iphone\" r...</td>\n      <td>What kind of person sends in a picture without...</td>\n      <td>NaN</td>\n      <td>NaN</td>\n      <td>NaN</td>\n      <td>https://twitter.com/dog_rates/status/675153376...</td>\n      <td>1</td>\n      <td>10</td>\n      <td>None</td>\n      <td>None</td>\n      <td>None</td>\n      <td>None</td>\n      <td>None</td>\n    </tr>\n    <tr>\n      <th>1940</th>\n      <td>673716320723169284</td>\n      <td>6.737159e+17</td>\n      <td>4.196984e+09</td>\n      <td>2015-12-07 04:11:02 +0000</td>\n      <td>&lt;a href=\"http://twitter.com/download/iphone\" r...</td>\n      <td>The millennials have spoken and we've decided ...</td>\n      <td>NaN</td>\n      <td>NaN</td>\n      <td>NaN</td>\n      <td>NaN</td>\n      <td>1</td>\n      <td>10</td>\n      <td>None</td>\n      <td>None</td>\n      <td>None</td>\n      <td>None</td>\n      <td>None</td>\n    </tr>\n    <tr>\n      <th>2038</th>\n      <td>671550332464455680</td>\n      <td>6.715449e+17</td>\n      <td>4.196984e+09</td>\n      <td>2015-12-01 04:44:10 +0000</td>\n      <td>&lt;a href=\"http://twitter.com/download/iphone\" r...</td>\n      <td>After 22 minutes of careful deliberation this ...</td>\n      <td>NaN</td>\n      <td>NaN</td>\n      <td>NaN</td>\n      <td>NaN</td>\n      <td>1</td>\n      <td>10</td>\n      <td>None</td>\n      <td>None</td>\n      <td>None</td>\n      <td>None</td>\n      <td>None</td>\n    </tr>\n  </tbody>\n</table>\n</div>"
     },
     "metadata": {},
     "execution_count": 283
    }
   ],
   "source": [
    "df_twitter.query('rating_numerator == \"1\"').head(5)"
   ]
  },
  {
   "cell_type": "markdown",
   "metadata": {},
   "source": [
    "Checking some of the entries we can see that those are joke tweets (a chicken for example)."
   ]
  },
  {
   "cell_type": "code",
   "execution_count": 284,
   "metadata": {},
   "outputs": [
    {
     "output_type": "execute_result",
     "data": {
      "text/plain": "                tweet_id  in_reply_to_status_id  in_reply_to_user_id  \\\n315   835152434251116546                    NaN                  NaN   \n1016  746906459439529985           7.468859e+17         4.196984e+09   \n\n                      timestamp  \\\n315   2017-02-24 15:40:31 +0000   \n1016  2016-06-26 03:22:31 +0000   \n\n                                                 source  \\\n315   <a href=\"http://twitter.com/download/iphone\" r...   \n1016  <a href=\"http://twitter.com/download/iphone\" r...   \n\n                                                   text  retweeted_status_id  \\\n315   When you're so blinded by your systematic plag...                  NaN   \n1016  PUPDATE: can't see any. Even if I could, I cou...                  NaN   \n\n      retweeted_status_user_id retweeted_status_timestamp  \\\n315                        NaN                        NaN   \n1016                       NaN                        NaN   \n\n                                          expanded_urls  rating_numerator  \\\n315   https://twitter.com/dog_rates/status/835152434...                 0   \n1016  https://twitter.com/dog_rates/status/746906459...                 0   \n\n      rating_denominator  name doggo floofer pupper puppo  \n315                   10  None  None    None   None  None  \n1016                  10  None  None    None   None  None  ",
      "text/html": "<div>\n<style scoped>\n    .dataframe tbody tr th:only-of-type {\n        vertical-align: middle;\n    }\n\n    .dataframe tbody tr th {\n        vertical-align: top;\n    }\n\n    .dataframe thead th {\n        text-align: right;\n    }\n</style>\n<table border=\"1\" class=\"dataframe\">\n  <thead>\n    <tr style=\"text-align: right;\">\n      <th></th>\n      <th>tweet_id</th>\n      <th>in_reply_to_status_id</th>\n      <th>in_reply_to_user_id</th>\n      <th>timestamp</th>\n      <th>source</th>\n      <th>text</th>\n      <th>retweeted_status_id</th>\n      <th>retweeted_status_user_id</th>\n      <th>retweeted_status_timestamp</th>\n      <th>expanded_urls</th>\n      <th>rating_numerator</th>\n      <th>rating_denominator</th>\n      <th>name</th>\n      <th>doggo</th>\n      <th>floofer</th>\n      <th>pupper</th>\n      <th>puppo</th>\n    </tr>\n  </thead>\n  <tbody>\n    <tr>\n      <th>315</th>\n      <td>835152434251116546</td>\n      <td>NaN</td>\n      <td>NaN</td>\n      <td>2017-02-24 15:40:31 +0000</td>\n      <td>&lt;a href=\"http://twitter.com/download/iphone\" r...</td>\n      <td>When you're so blinded by your systematic plag...</td>\n      <td>NaN</td>\n      <td>NaN</td>\n      <td>NaN</td>\n      <td>https://twitter.com/dog_rates/status/835152434...</td>\n      <td>0</td>\n      <td>10</td>\n      <td>None</td>\n      <td>None</td>\n      <td>None</td>\n      <td>None</td>\n      <td>None</td>\n    </tr>\n    <tr>\n      <th>1016</th>\n      <td>746906459439529985</td>\n      <td>7.468859e+17</td>\n      <td>4.196984e+09</td>\n      <td>2016-06-26 03:22:31 +0000</td>\n      <td>&lt;a href=\"http://twitter.com/download/iphone\" r...</td>\n      <td>PUPDATE: can't see any. Even if I could, I cou...</td>\n      <td>NaN</td>\n      <td>NaN</td>\n      <td>NaN</td>\n      <td>https://twitter.com/dog_rates/status/746906459...</td>\n      <td>0</td>\n      <td>10</td>\n      <td>None</td>\n      <td>None</td>\n      <td>None</td>\n      <td>None</td>\n      <td>None</td>\n    </tr>\n  </tbody>\n</table>\n</div>"
     },
     "metadata": {},
     "execution_count": 284
    }
   ],
   "source": [
    "df_twitter.query('rating_numerator == \"0\"').head(5)"
   ]
  },
  {
   "cell_type": "markdown",
   "metadata": {},
   "source": [
    "One tweet was deleted, the other was a screenshot of another tweet with a dog in it. Not a very clear picture though."
   ]
  },
  {
   "cell_type": "code",
   "execution_count": 285,
   "metadata": {},
   "outputs": [
    {
     "output_type": "execute_result",
     "data": {
      "text/plain": "10     2333\n11        3\n50        3\n80        2\n20        2\n2         1\n16        1\n40        1\n70        1\n15        1\n90        1\n110       1\n120       1\n130       1\n150       1\n170       1\n7         1\n0         1\nName: rating_denominator, dtype: int64"
     },
     "metadata": {},
     "execution_count": 285
    }
   ],
   "source": [
    "df_twitter['rating_denominator'].value_counts()"
   ]
  },
  {
   "cell_type": "code",
   "execution_count": 286,
   "metadata": {},
   "outputs": [
    {
     "output_type": "execute_result",
     "data": {
      "text/plain": "array(['https://twitter.com/dog_rates/status/731156023742988288/photo/1'],\n      dtype=object)"
     },
     "metadata": {},
     "execution_count": 286
    }
   ],
   "source": [
    "df_twitter.query('rating_denominator == \"170\"')['expanded_urls'].values"
   ]
  },
  {
   "cell_type": "code",
   "execution_count": 287,
   "metadata": {},
   "outputs": [
    {
     "output_type": "execute_result",
     "data": {
      "text/plain": "array([nan], dtype=object)"
     },
     "metadata": {},
     "execution_count": 287
    },
    {
     "output_type": "execute_result",
     "data": {
      "text/plain": "array(['https://www.gofundme.com/sams-smile,https://twitter.com/dog_rates/status/810984652412424192/photo/1'],\n      dtype=object)"
     },
     "metadata": {},
     "execution_count": 287
    }
   ],
   "source": [
    "df_twitter.query('rating_denominator == \"0\"')['expanded_urls'].values\n",
    "df_twitter.query('rating_denominator == \"7\"')['expanded_urls'].values"
   ]
  },
  {
   "cell_type": "code",
   "execution_count": 288,
   "metadata": {},
   "outputs": [
    {
     "output_type": "execute_result",
     "data": {
      "text/plain": "               tweet_id  in_reply_to_status_id  in_reply_to_user_id  \\\n313  835246439529840640           8.352460e+17           26259576.0   \n\n                     timestamp  \\\n313  2017-02-24 21:54:03 +0000   \n\n                                                source  \\\n313  <a href=\"http://twitter.com/download/iphone\" r...   \n\n                                                  text  retweeted_status_id  \\\n313  @jonnysun @Lin_Manuel ok jomny I know you're e...                  NaN   \n\n     retweeted_status_user_id retweeted_status_timestamp expanded_urls  \\\n313                       NaN                        NaN           NaN   \n\n     rating_numerator  rating_denominator  name doggo floofer pupper puppo  \n313               960                   0  None  None    None   None  None  ",
      "text/html": "<div>\n<style scoped>\n    .dataframe tbody tr th:only-of-type {\n        vertical-align: middle;\n    }\n\n    .dataframe tbody tr th {\n        vertical-align: top;\n    }\n\n    .dataframe thead th {\n        text-align: right;\n    }\n</style>\n<table border=\"1\" class=\"dataframe\">\n  <thead>\n    <tr style=\"text-align: right;\">\n      <th></th>\n      <th>tweet_id</th>\n      <th>in_reply_to_status_id</th>\n      <th>in_reply_to_user_id</th>\n      <th>timestamp</th>\n      <th>source</th>\n      <th>text</th>\n      <th>retweeted_status_id</th>\n      <th>retweeted_status_user_id</th>\n      <th>retweeted_status_timestamp</th>\n      <th>expanded_urls</th>\n      <th>rating_numerator</th>\n      <th>rating_denominator</th>\n      <th>name</th>\n      <th>doggo</th>\n      <th>floofer</th>\n      <th>pupper</th>\n      <th>puppo</th>\n    </tr>\n  </thead>\n  <tbody>\n    <tr>\n      <th>313</th>\n      <td>835246439529840640</td>\n      <td>8.352460e+17</td>\n      <td>26259576.0</td>\n      <td>2017-02-24 21:54:03 +0000</td>\n      <td>&lt;a href=\"http://twitter.com/download/iphone\" r...</td>\n      <td>@jonnysun @Lin_Manuel ok jomny I know you're e...</td>\n      <td>NaN</td>\n      <td>NaN</td>\n      <td>NaN</td>\n      <td>NaN</td>\n      <td>960</td>\n      <td>0</td>\n      <td>None</td>\n      <td>None</td>\n      <td>None</td>\n      <td>None</td>\n      <td>None</td>\n    </tr>\n  </tbody>\n</table>\n</div>"
     },
     "metadata": {},
     "execution_count": 288
    }
   ],
   "source": [
    "df_twitter.query('rating_denominator == \"0\"').head(5)"
   ]
  },
  {
   "cell_type": "code",
   "execution_count": 289,
   "metadata": {},
   "outputs": [
    {
     "output_type": "execute_result",
     "data": {
      "text/plain": "               tweet_id  in_reply_to_status_id  in_reply_to_user_id  \\\n516  810984652412424192                    NaN                  NaN   \n\n                     timestamp  \\\n516  2016-12-19 23:06:23 +0000   \n\n                                                source  \\\n516  <a href=\"http://twitter.com/download/iphone\" r...   \n\n                                                  text  retweeted_status_id  \\\n516  Meet Sam. She smiles 24/7 &amp; secretly aspir...                  NaN   \n\n     retweeted_status_user_id retweeted_status_timestamp  \\\n516                       NaN                        NaN   \n\n                                         expanded_urls  rating_numerator  \\\n516  https://www.gofundme.com/sams-smile,https://tw...                24   \n\n     rating_denominator name doggo floofer pupper puppo  \n516                   7  Sam  None    None   None  None  ",
      "text/html": "<div>\n<style scoped>\n    .dataframe tbody tr th:only-of-type {\n        vertical-align: middle;\n    }\n\n    .dataframe tbody tr th {\n        vertical-align: top;\n    }\n\n    .dataframe thead th {\n        text-align: right;\n    }\n</style>\n<table border=\"1\" class=\"dataframe\">\n  <thead>\n    <tr style=\"text-align: right;\">\n      <th></th>\n      <th>tweet_id</th>\n      <th>in_reply_to_status_id</th>\n      <th>in_reply_to_user_id</th>\n      <th>timestamp</th>\n      <th>source</th>\n      <th>text</th>\n      <th>retweeted_status_id</th>\n      <th>retweeted_status_user_id</th>\n      <th>retweeted_status_timestamp</th>\n      <th>expanded_urls</th>\n      <th>rating_numerator</th>\n      <th>rating_denominator</th>\n      <th>name</th>\n      <th>doggo</th>\n      <th>floofer</th>\n      <th>pupper</th>\n      <th>puppo</th>\n    </tr>\n  </thead>\n  <tbody>\n    <tr>\n      <th>516</th>\n      <td>810984652412424192</td>\n      <td>NaN</td>\n      <td>NaN</td>\n      <td>2016-12-19 23:06:23 +0000</td>\n      <td>&lt;a href=\"http://twitter.com/download/iphone\" r...</td>\n      <td>Meet Sam. She smiles 24/7 &amp;amp; secretly aspir...</td>\n      <td>NaN</td>\n      <td>NaN</td>\n      <td>NaN</td>\n      <td>https://www.gofundme.com/sams-smile,https://tw...</td>\n      <td>24</td>\n      <td>7</td>\n      <td>Sam</td>\n      <td>None</td>\n      <td>None</td>\n      <td>None</td>\n      <td>None</td>\n    </tr>\n  </tbody>\n</table>\n</div>"
     },
     "metadata": {},
     "execution_count": 289
    }
   ],
   "source": [
    "\n",
    "df_twitter.query('rating_denominator == \"7\"').head(5)"
   ]
  },
  {
   "cell_type": "markdown",
   "metadata": {},
   "source": [
    "The same problems occur here. Jokes or unclear pictures (multiple dogs in a picture for example). Another problem are wrongly interpreted \"/\" signs. which we'll fix with RegEx now."
   ]
  },
  {
   "cell_type": "code",
   "execution_count": 290,
   "metadata": {},
   "outputs": [],
   "source": [
    "pattern = \"(\\d+(\\.\\d+)?\\/\\d+(\\.\\d+)?)\"\n",
    "\n",
    "check_classification[\"rating\"] = check_classification['text'].str.extract(pattern, expand = True)[0]\n",
    "\n",
    "check_classification[['num', 'denom']] = check_classification['rating'].str.split('/', n=1, expand=True)\n",
    "\n",
    "check_classification['rating_numerator'] = check_classification['rating_numerator'].astype(\"str\")\n",
    "check_classification['rating_denominator'] = check_classification['rating_denominator'].astype(\"str\")\n",
    "\n",
    "# check if we extracted the numerators and denominators correctly\n",
    "check_classification[\"check_num\"] = check_classification[[\"rating_numerator\", \"num\"]].apply(lambda x: False if (x[0] != x[1]) else True, axis = 1)\n",
    "\n",
    "check_classification[\"check_denom\"] = check_classification[[\"rating_denominator\", \"denom\"]].apply(lambda x: False if (x[0] != x[1]) else True, axis = 1)"
   ]
  },
  {
   "cell_type": "code",
   "execution_count": 291,
   "metadata": {},
   "outputs": [
    {
     "output_type": "execute_result",
     "data": {
      "text/plain": "True     2349\nFalse       7\nName: check_num, dtype: int64"
     },
     "metadata": {},
     "execution_count": 291
    }
   ],
   "source": [
    "check_classification[\"check_num\"].value_counts()"
   ]
  },
  {
   "cell_type": "code",
   "execution_count": 292,
   "metadata": {},
   "outputs": [
    {
     "output_type": "execute_result",
     "data": {
      "text/plain": "     rating_numerator    num  check_num\n45                  5   13.5      False\n340                75   9.75      False\n387                 7    007      False\n695                75   9.75      False\n763                27  11.27      False\n1689                5    9.5      False\n1712               26  11.26      False",
      "text/html": "<div>\n<style scoped>\n    .dataframe tbody tr th:only-of-type {\n        vertical-align: middle;\n    }\n\n    .dataframe tbody tr th {\n        vertical-align: top;\n    }\n\n    .dataframe thead th {\n        text-align: right;\n    }\n</style>\n<table border=\"1\" class=\"dataframe\">\n  <thead>\n    <tr style=\"text-align: right;\">\n      <th></th>\n      <th>rating_numerator</th>\n      <th>num</th>\n      <th>check_num</th>\n    </tr>\n  </thead>\n  <tbody>\n    <tr>\n      <th>45</th>\n      <td>5</td>\n      <td>13.5</td>\n      <td>False</td>\n    </tr>\n    <tr>\n      <th>340</th>\n      <td>75</td>\n      <td>9.75</td>\n      <td>False</td>\n    </tr>\n    <tr>\n      <th>387</th>\n      <td>7</td>\n      <td>007</td>\n      <td>False</td>\n    </tr>\n    <tr>\n      <th>695</th>\n      <td>75</td>\n      <td>9.75</td>\n      <td>False</td>\n    </tr>\n    <tr>\n      <th>763</th>\n      <td>27</td>\n      <td>11.27</td>\n      <td>False</td>\n    </tr>\n    <tr>\n      <th>1689</th>\n      <td>5</td>\n      <td>9.5</td>\n      <td>False</td>\n    </tr>\n    <tr>\n      <th>1712</th>\n      <td>26</td>\n      <td>11.26</td>\n      <td>False</td>\n    </tr>\n  </tbody>\n</table>\n</div>"
     },
     "metadata": {},
     "execution_count": 292
    }
   ],
   "source": [
    "check_classification.query(\"check_num == False\")[[\"rating_numerator\", \"num\",\"check_num\"]]"
   ]
  },
  {
   "cell_type": "markdown",
   "metadata": {},
   "source": [
    "Those nums somehow got transformed into floats, which is wrong."
   ]
  },
  {
   "cell_type": "code",
   "execution_count": 293,
   "metadata": {},
   "outputs": [
    {
     "output_type": "execute_result",
     "data": {
      "text/plain": "  rating_numerator num  check_num\n0               13  13       True\n1               13  13       True\n2               12  12       True\n3               13  13       True\n4               12  12       True",
      "text/html": "<div>\n<style scoped>\n    .dataframe tbody tr th:only-of-type {\n        vertical-align: middle;\n    }\n\n    .dataframe tbody tr th {\n        vertical-align: top;\n    }\n\n    .dataframe thead th {\n        text-align: right;\n    }\n</style>\n<table border=\"1\" class=\"dataframe\">\n  <thead>\n    <tr style=\"text-align: right;\">\n      <th></th>\n      <th>rating_numerator</th>\n      <th>num</th>\n      <th>check_num</th>\n    </tr>\n  </thead>\n  <tbody>\n    <tr>\n      <th>0</th>\n      <td>13</td>\n      <td>13</td>\n      <td>True</td>\n    </tr>\n    <tr>\n      <th>1</th>\n      <td>13</td>\n      <td>13</td>\n      <td>True</td>\n    </tr>\n    <tr>\n      <th>2</th>\n      <td>12</td>\n      <td>12</td>\n      <td>True</td>\n    </tr>\n    <tr>\n      <th>3</th>\n      <td>13</td>\n      <td>13</td>\n      <td>True</td>\n    </tr>\n    <tr>\n      <th>4</th>\n      <td>12</td>\n      <td>12</td>\n      <td>True</td>\n    </tr>\n  </tbody>\n</table>\n</div>"
     },
     "metadata": {},
     "execution_count": 293
    }
   ],
   "source": [
    "check_classification[[\"rating_numerator\", \"num\", \"check_num\"]].head(5)"
   ]
  },
  {
   "cell_type": "code",
   "execution_count": 294,
   "metadata": {},
   "outputs": [
    {
     "output_type": "execute_result",
     "data": {
      "text/plain": "     rating_numerator num  check_num\n2351                5   5       True\n2352                6   6       True\n2353                9   9       True\n2354                7   7       True\n2355                8   8       True",
      "text/html": "<div>\n<style scoped>\n    .dataframe tbody tr th:only-of-type {\n        vertical-align: middle;\n    }\n\n    .dataframe tbody tr th {\n        vertical-align: top;\n    }\n\n    .dataframe thead th {\n        text-align: right;\n    }\n</style>\n<table border=\"1\" class=\"dataframe\">\n  <thead>\n    <tr style=\"text-align: right;\">\n      <th></th>\n      <th>rating_numerator</th>\n      <th>num</th>\n      <th>check_num</th>\n    </tr>\n  </thead>\n  <tbody>\n    <tr>\n      <th>2351</th>\n      <td>5</td>\n      <td>5</td>\n      <td>True</td>\n    </tr>\n    <tr>\n      <th>2352</th>\n      <td>6</td>\n      <td>6</td>\n      <td>True</td>\n    </tr>\n    <tr>\n      <th>2353</th>\n      <td>9</td>\n      <td>9</td>\n      <td>True</td>\n    </tr>\n    <tr>\n      <th>2354</th>\n      <td>7</td>\n      <td>7</td>\n      <td>True</td>\n    </tr>\n    <tr>\n      <th>2355</th>\n      <td>8</td>\n      <td>8</td>\n      <td>True</td>\n    </tr>\n  </tbody>\n</table>\n</div>"
     },
     "metadata": {},
     "execution_count": 294
    }
   ],
   "source": [
    "check_classification[[\"rating_numerator\", \"num\", \"check_num\"]].tail(5)"
   ]
  },
  {
   "cell_type": "markdown",
   "metadata": {},
   "source": []
  },
  {
   "cell_type": "code",
   "execution_count": 295,
   "metadata": {},
   "outputs": [
    {
     "output_type": "execute_result",
     "data": {
      "text/plain": "True     2355\nFalse       1\nName: check_denom, dtype: int64"
     },
     "metadata": {},
     "execution_count": 295
    }
   ],
   "source": [
    "check_classification['check_denom'].value_counts()"
   ]
  },
  {
   "cell_type": "code",
   "execution_count": 296,
   "metadata": {},
   "outputs": [
    {
     "output_type": "execute_result",
     "data": {
      "text/plain": "    rating_denominator denom  check_denom\n313                  0    00        False",
      "text/html": "<div>\n<style scoped>\n    .dataframe tbody tr th:only-of-type {\n        vertical-align: middle;\n    }\n\n    .dataframe tbody tr th {\n        vertical-align: top;\n    }\n\n    .dataframe thead th {\n        text-align: right;\n    }\n</style>\n<table border=\"1\" class=\"dataframe\">\n  <thead>\n    <tr style=\"text-align: right;\">\n      <th></th>\n      <th>rating_denominator</th>\n      <th>denom</th>\n      <th>check_denom</th>\n    </tr>\n  </thead>\n  <tbody>\n    <tr>\n      <th>313</th>\n      <td>0</td>\n      <td>00</td>\n      <td>False</td>\n    </tr>\n  </tbody>\n</table>\n</div>"
     },
     "metadata": {},
     "execution_count": 296
    }
   ],
   "source": [
    "check_classification.query(\"check_denom == False\")[[\"rating_denominator\", \"denom\",\"check_denom\"]]"
   ]
  },
  {
   "cell_type": "markdown",
   "metadata": {},
   "source": [
    "Looks like a problem we can ignore for now."
   ]
  },
  {
   "cell_type": "code",
   "execution_count": 297,
   "metadata": {},
   "outputs": [
    {
     "output_type": "execute_result",
     "data": {
      "text/plain": "  rating_denominator denom  check_denom\n0                 10    10         True\n1                 10    10         True\n2                 10    10         True\n3                 10    10         True\n4                 10    10         True",
      "text/html": "<div>\n<style scoped>\n    .dataframe tbody tr th:only-of-type {\n        vertical-align: middle;\n    }\n\n    .dataframe tbody tr th {\n        vertical-align: top;\n    }\n\n    .dataframe thead th {\n        text-align: right;\n    }\n</style>\n<table border=\"1\" class=\"dataframe\">\n  <thead>\n    <tr style=\"text-align: right;\">\n      <th></th>\n      <th>rating_denominator</th>\n      <th>denom</th>\n      <th>check_denom</th>\n    </tr>\n  </thead>\n  <tbody>\n    <tr>\n      <th>0</th>\n      <td>10</td>\n      <td>10</td>\n      <td>True</td>\n    </tr>\n    <tr>\n      <th>1</th>\n      <td>10</td>\n      <td>10</td>\n      <td>True</td>\n    </tr>\n    <tr>\n      <th>2</th>\n      <td>10</td>\n      <td>10</td>\n      <td>True</td>\n    </tr>\n    <tr>\n      <th>3</th>\n      <td>10</td>\n      <td>10</td>\n      <td>True</td>\n    </tr>\n    <tr>\n      <th>4</th>\n      <td>10</td>\n      <td>10</td>\n      <td>True</td>\n    </tr>\n  </tbody>\n</table>\n</div>"
     },
     "metadata": {},
     "execution_count": 297
    }
   ],
   "source": [
    "check_classification[[\"rating_denominator\", \"denom\", \"check_denom\"]].head(5)"
   ]
  },
  {
   "cell_type": "code",
   "execution_count": 298,
   "metadata": {},
   "outputs": [
    {
     "output_type": "execute_result",
     "data": {
      "text/plain": "     rating_denominator denom  check_denom\n2351                 10    10         True\n2352                 10    10         True\n2353                 10    10         True\n2354                 10    10         True\n2355                 10    10         True",
      "text/html": "<div>\n<style scoped>\n    .dataframe tbody tr th:only-of-type {\n        vertical-align: middle;\n    }\n\n    .dataframe tbody tr th {\n        vertical-align: top;\n    }\n\n    .dataframe thead th {\n        text-align: right;\n    }\n</style>\n<table border=\"1\" class=\"dataframe\">\n  <thead>\n    <tr style=\"text-align: right;\">\n      <th></th>\n      <th>rating_denominator</th>\n      <th>denom</th>\n      <th>check_denom</th>\n    </tr>\n  </thead>\n  <tbody>\n    <tr>\n      <th>2351</th>\n      <td>10</td>\n      <td>10</td>\n      <td>True</td>\n    </tr>\n    <tr>\n      <th>2352</th>\n      <td>10</td>\n      <td>10</td>\n      <td>True</td>\n    </tr>\n    <tr>\n      <th>2353</th>\n      <td>10</td>\n      <td>10</td>\n      <td>True</td>\n    </tr>\n    <tr>\n      <th>2354</th>\n      <td>10</td>\n      <td>10</td>\n      <td>True</td>\n    </tr>\n    <tr>\n      <th>2355</th>\n      <td>10</td>\n      <td>10</td>\n      <td>True</td>\n    </tr>\n  </tbody>\n</table>\n</div>"
     },
     "metadata": {},
     "execution_count": 298
    }
   ],
   "source": [
    "check_classification[[\"rating_denominator\", \"denom\", \"check_denom\"]].tail(5)"
   ]
  },
  {
   "cell_type": "markdown",
   "metadata": {},
   "source": [
    "Looks good now!"
   ]
  },
  {
   "cell_type": "code",
   "execution_count": 299,
   "metadata": {},
   "outputs": [],
   "source": [
    "check_classification[\"count\"] = check_classification['text'].str.count(pattern)"
   ]
  },
  {
   "cell_type": "code",
   "execution_count": 300,
   "metadata": {},
   "outputs": [
    {
     "output_type": "execute_result",
     "data": {
      "text/plain": "1    2323\n2      32\n3       1\nName: count, dtype: int64"
     },
     "metadata": {},
     "execution_count": 300
    }
   ],
   "source": [
    "check_classification[\"count\"].value_counts()"
   ]
  },
  {
   "cell_type": "markdown",
   "metadata": {},
   "source": []
  },
  {
   "cell_type": "code",
   "execution_count": 301,
   "metadata": {},
   "outputs": [
    {
     "output_type": "execute_result",
     "data": {
      "text/plain": "                                                                                                                                              text  \\\n55                                                     @roushfenway These are good dogs but 17/10 is an emotional impulse rating. More like 13/10s   \n313                                             @jonnysun @Lin_Manuel ok jomny I know you're excited but 960/00 isn't a valid rating, 13/10 is tho   \n561             RT @dog_rates: \"Yep... just as I suspected. You're not flossing.\" 12/10 and 11/10 for the pup not flossing https://t.co/SuXcI9B7pQ   \n766                            \"Yep... just as I suspected. You're not flossing.\" 12/10 and 11/10 for the pup not flossing https://t.co/SuXcI9B7pQ   \n784   RT @dog_rates: After so many requests, this is Bretagne. She was the last surviving 9/11 search dog, and our second ever 14/10. RIP https:/…   \n860   RT @dog_rates: Meet Eve. She's a raging alcoholic 8/10 (would b 11/10 but pupper alcoholism is a tragic issue that I can't condone) https:/…   \n1007              This is Bookstore and Seaweed. Bookstore is tired and Seaweed is an asshole. 10/10 and 7/10 respectively https://t.co/eUGjGjjFVJ   \n1068  After so many requests, this is Bretagne. She was the last surviving 9/11 search dog, and our second ever 14/10. RIP https://t.co/XAVDNDaVgQ   \n1165                                                                              Happy 4/20 from the squad! 13/10 for all https://t.co/eV1diwds8a   \n1202                         This is Bluebert. He just saw that both #FinalFur match ups are split 50/50. Amazed af. 11/10 https://t.co/Kky1DPG4iq   \n\n      count  \n55        2  \n313       2  \n561       2  \n766       2  \n784       2  \n860       2  \n1007      2  \n1068      2  \n1165      2  \n1202      2  ",
      "text/html": "<div>\n<style scoped>\n    .dataframe tbody tr th:only-of-type {\n        vertical-align: middle;\n    }\n\n    .dataframe tbody tr th {\n        vertical-align: top;\n    }\n\n    .dataframe thead th {\n        text-align: right;\n    }\n</style>\n<table border=\"1\" class=\"dataframe\">\n  <thead>\n    <tr style=\"text-align: right;\">\n      <th></th>\n      <th>text</th>\n      <th>count</th>\n    </tr>\n  </thead>\n  <tbody>\n    <tr>\n      <th>55</th>\n      <td>@roushfenway These are good dogs but 17/10 is an emotional impulse rating. More like 13/10s</td>\n      <td>2</td>\n    </tr>\n    <tr>\n      <th>313</th>\n      <td>@jonnysun @Lin_Manuel ok jomny I know you're excited but 960/00 isn't a valid rating, 13/10 is tho</td>\n      <td>2</td>\n    </tr>\n    <tr>\n      <th>561</th>\n      <td>RT @dog_rates: \"Yep... just as I suspected. You're not flossing.\" 12/10 and 11/10 for the pup not flossing https://t.co/SuXcI9B7pQ</td>\n      <td>2</td>\n    </tr>\n    <tr>\n      <th>766</th>\n      <td>\"Yep... just as I suspected. You're not flossing.\" 12/10 and 11/10 for the pup not flossing https://t.co/SuXcI9B7pQ</td>\n      <td>2</td>\n    </tr>\n    <tr>\n      <th>784</th>\n      <td>RT @dog_rates: After so many requests, this is Bretagne. She was the last surviving 9/11 search dog, and our second ever 14/10. RIP https:/…</td>\n      <td>2</td>\n    </tr>\n    <tr>\n      <th>860</th>\n      <td>RT @dog_rates: Meet Eve. She's a raging alcoholic 8/10 (would b 11/10 but pupper alcoholism is a tragic issue that I can't condone) https:/…</td>\n      <td>2</td>\n    </tr>\n    <tr>\n      <th>1007</th>\n      <td>This is Bookstore and Seaweed. Bookstore is tired and Seaweed is an asshole. 10/10 and 7/10 respectively https://t.co/eUGjGjjFVJ</td>\n      <td>2</td>\n    </tr>\n    <tr>\n      <th>1068</th>\n      <td>After so many requests, this is Bretagne. She was the last surviving 9/11 search dog, and our second ever 14/10. RIP https://t.co/XAVDNDaVgQ</td>\n      <td>2</td>\n    </tr>\n    <tr>\n      <th>1165</th>\n      <td>Happy 4/20 from the squad! 13/10 for all https://t.co/eV1diwds8a</td>\n      <td>2</td>\n    </tr>\n    <tr>\n      <th>1202</th>\n      <td>This is Bluebert. He just saw that both #FinalFur match ups are split 50/50. Amazed af. 11/10 https://t.co/Kky1DPG4iq</td>\n      <td>2</td>\n    </tr>\n  </tbody>\n</table>\n</div>"
     },
     "metadata": {},
     "execution_count": 301
    }
   ],
   "source": [
    "pd.set_option('display.max_columns', 500)\n",
    "pd.set_option('display.max_colwidth', 4000)\n",
    "\n",
    "check_classification[['text', 'count']].query('count != 1').head(10)"
   ]
  },
  {
   "cell_type": "markdown",
   "metadata": {},
   "source": [
    "As we can see there are tweets with multiple ratings in it.\n",
    "\n",
    "This includes retweets!\n",
    "\n",
    "And some of those are ratings which do not conform to the one-to-ten-rating scale."
   ]
  },
  {
   "cell_type": "markdown",
   "metadata": {},
   "source": [
    "#### df_predict\n",
    "\n",
    "Let's also look for missing data first."
   ]
  },
  {
   "cell_type": "code",
   "execution_count": 302,
   "metadata": {},
   "outputs": [
    {
     "output_type": "stream",
     "name": "stdout",
     "text": "<class 'pandas.core.frame.DataFrame'>\nRangeIndex: 2075 entries, 0 to 2074\nData columns (total 12 columns):\n #   Column    Non-Null Count  Dtype  \n---  ------    --------------  -----  \n 0   tweet_id  2075 non-null   int64  \n 1   jpg_url   2075 non-null   object \n 2   img_num   2075 non-null   int64  \n 3   p1        2075 non-null   object \n 4   p1_conf   2075 non-null   float64\n 5   p1_dog    2075 non-null   bool   \n 6   p2        2075 non-null   object \n 7   p2_conf   2075 non-null   float64\n 8   p2_dog    2075 non-null   bool   \n 9   p3        2075 non-null   object \n 10  p3_conf   2075 non-null   float64\n 11  p3_dog    2075 non-null   bool   \ndtypes: bool(3), float64(3), int64(2), object(4)\nmemory usage: 152.1+ KB\n"
    }
   ],
   "source": [
    "df_predict.info()"
   ]
  },
  {
   "cell_type": "code",
   "execution_count": 303,
   "metadata": {},
   "outputs": [
    {
     "output_type": "execute_result",
     "data": {
      "text/plain": "tweet_id    0\njpg_url     0\nimg_num     0\np1          0\np1_conf     0\np1_dog      0\np2          0\np2_conf     0\np2_dog      0\np3          0\np3_conf     0\np3_dog      0\ndtype: int64"
     },
     "metadata": {},
     "execution_count": 303
    }
   ],
   "source": [
    "df_predict.isna().sum()"
   ]
  },
  {
   "cell_type": "code",
   "execution_count": 304,
   "metadata": {},
   "outputs": [
    {
     "output_type": "execute_result",
     "data": {
      "text/plain": "             tweet_id                                          jpg_url  \\\n0  666020888022790149  https://pbs.twimg.com/media/CT4udn0WwAA0aMy.jpg   \n1  666029285002620928  https://pbs.twimg.com/media/CT42GRgUYAA5iDo.jpg   \n2  666033412701032449  https://pbs.twimg.com/media/CT4521TWwAEvMyu.jpg   \n3  666044226329800704  https://pbs.twimg.com/media/CT5Dr8HUEAA-lEu.jpg   \n4  666049248165822465  https://pbs.twimg.com/media/CT5IQmsXIAAKY4A.jpg   \n5  666050758794694657  https://pbs.twimg.com/media/CT5Jof1WUAEuVxN.jpg   \n6  666051853826850816  https://pbs.twimg.com/media/CT5KoJ1WoAAJash.jpg   \n7  666055525042405380  https://pbs.twimg.com/media/CT5N9tpXIAAifs1.jpg   \n8  666057090499244032  https://pbs.twimg.com/media/CT5PY90WoAAQGLo.jpg   \n9  666058600524156928  https://pbs.twimg.com/media/CT5Qw94XAAA_2dP.jpg   \n\n   img_num                      p1   p1_conf  p1_dog                  p2  \\\n0        1  Welsh_springer_spaniel  0.465074    True              collie   \n1        1                 redbone  0.506826    True  miniature_pinscher   \n2        1         German_shepherd  0.596461    True            malinois   \n3        1     Rhodesian_ridgeback  0.408143    True             redbone   \n4        1      miniature_pinscher  0.560311    True          Rottweiler   \n5        1    Bernese_mountain_dog  0.651137    True    English_springer   \n6        1              box_turtle  0.933012   False          mud_turtle   \n7        1                    chow  0.692517    True     Tibetan_mastiff   \n8        1           shopping_cart  0.962465   False     shopping_basket   \n9        1        miniature_poodle  0.201493    True            komondor   \n\n    p2_conf  p2_dog                           p3   p3_conf  p3_dog  \n0  0.156665    True            Shetland_sheepdog  0.061428    True  \n1  0.074192    True          Rhodesian_ridgeback  0.072010    True  \n2  0.138584    True                   bloodhound  0.116197    True  \n3  0.360687    True           miniature_pinscher  0.222752    True  \n4  0.243682    True                     Doberman  0.154629    True  \n5  0.263788    True   Greater_Swiss_Mountain_dog  0.016199    True  \n6  0.045885   False                     terrapin  0.017885   False  \n7  0.058279    True                     fur_coat  0.054449   False  \n8  0.014594   False             golden_retriever  0.007959    True  \n9  0.192305    True  soft-coated_wheaten_terrier  0.082086    True  ",
      "text/html": "<div>\n<style scoped>\n    .dataframe tbody tr th:only-of-type {\n        vertical-align: middle;\n    }\n\n    .dataframe tbody tr th {\n        vertical-align: top;\n    }\n\n    .dataframe thead th {\n        text-align: right;\n    }\n</style>\n<table border=\"1\" class=\"dataframe\">\n  <thead>\n    <tr style=\"text-align: right;\">\n      <th></th>\n      <th>tweet_id</th>\n      <th>jpg_url</th>\n      <th>img_num</th>\n      <th>p1</th>\n      <th>p1_conf</th>\n      <th>p1_dog</th>\n      <th>p2</th>\n      <th>p2_conf</th>\n      <th>p2_dog</th>\n      <th>p3</th>\n      <th>p3_conf</th>\n      <th>p3_dog</th>\n    </tr>\n  </thead>\n  <tbody>\n    <tr>\n      <th>0</th>\n      <td>666020888022790149</td>\n      <td>https://pbs.twimg.com/media/CT4udn0WwAA0aMy.jpg</td>\n      <td>1</td>\n      <td>Welsh_springer_spaniel</td>\n      <td>0.465074</td>\n      <td>True</td>\n      <td>collie</td>\n      <td>0.156665</td>\n      <td>True</td>\n      <td>Shetland_sheepdog</td>\n      <td>0.061428</td>\n      <td>True</td>\n    </tr>\n    <tr>\n      <th>1</th>\n      <td>666029285002620928</td>\n      <td>https://pbs.twimg.com/media/CT42GRgUYAA5iDo.jpg</td>\n      <td>1</td>\n      <td>redbone</td>\n      <td>0.506826</td>\n      <td>True</td>\n      <td>miniature_pinscher</td>\n      <td>0.074192</td>\n      <td>True</td>\n      <td>Rhodesian_ridgeback</td>\n      <td>0.072010</td>\n      <td>True</td>\n    </tr>\n    <tr>\n      <th>2</th>\n      <td>666033412701032449</td>\n      <td>https://pbs.twimg.com/media/CT4521TWwAEvMyu.jpg</td>\n      <td>1</td>\n      <td>German_shepherd</td>\n      <td>0.596461</td>\n      <td>True</td>\n      <td>malinois</td>\n      <td>0.138584</td>\n      <td>True</td>\n      <td>bloodhound</td>\n      <td>0.116197</td>\n      <td>True</td>\n    </tr>\n    <tr>\n      <th>3</th>\n      <td>666044226329800704</td>\n      <td>https://pbs.twimg.com/media/CT5Dr8HUEAA-lEu.jpg</td>\n      <td>1</td>\n      <td>Rhodesian_ridgeback</td>\n      <td>0.408143</td>\n      <td>True</td>\n      <td>redbone</td>\n      <td>0.360687</td>\n      <td>True</td>\n      <td>miniature_pinscher</td>\n      <td>0.222752</td>\n      <td>True</td>\n    </tr>\n    <tr>\n      <th>4</th>\n      <td>666049248165822465</td>\n      <td>https://pbs.twimg.com/media/CT5IQmsXIAAKY4A.jpg</td>\n      <td>1</td>\n      <td>miniature_pinscher</td>\n      <td>0.560311</td>\n      <td>True</td>\n      <td>Rottweiler</td>\n      <td>0.243682</td>\n      <td>True</td>\n      <td>Doberman</td>\n      <td>0.154629</td>\n      <td>True</td>\n    </tr>\n    <tr>\n      <th>5</th>\n      <td>666050758794694657</td>\n      <td>https://pbs.twimg.com/media/CT5Jof1WUAEuVxN.jpg</td>\n      <td>1</td>\n      <td>Bernese_mountain_dog</td>\n      <td>0.651137</td>\n      <td>True</td>\n      <td>English_springer</td>\n      <td>0.263788</td>\n      <td>True</td>\n      <td>Greater_Swiss_Mountain_dog</td>\n      <td>0.016199</td>\n      <td>True</td>\n    </tr>\n    <tr>\n      <th>6</th>\n      <td>666051853826850816</td>\n      <td>https://pbs.twimg.com/media/CT5KoJ1WoAAJash.jpg</td>\n      <td>1</td>\n      <td>box_turtle</td>\n      <td>0.933012</td>\n      <td>False</td>\n      <td>mud_turtle</td>\n      <td>0.045885</td>\n      <td>False</td>\n      <td>terrapin</td>\n      <td>0.017885</td>\n      <td>False</td>\n    </tr>\n    <tr>\n      <th>7</th>\n      <td>666055525042405380</td>\n      <td>https://pbs.twimg.com/media/CT5N9tpXIAAifs1.jpg</td>\n      <td>1</td>\n      <td>chow</td>\n      <td>0.692517</td>\n      <td>True</td>\n      <td>Tibetan_mastiff</td>\n      <td>0.058279</td>\n      <td>True</td>\n      <td>fur_coat</td>\n      <td>0.054449</td>\n      <td>False</td>\n    </tr>\n    <tr>\n      <th>8</th>\n      <td>666057090499244032</td>\n      <td>https://pbs.twimg.com/media/CT5PY90WoAAQGLo.jpg</td>\n      <td>1</td>\n      <td>shopping_cart</td>\n      <td>0.962465</td>\n      <td>False</td>\n      <td>shopping_basket</td>\n      <td>0.014594</td>\n      <td>False</td>\n      <td>golden_retriever</td>\n      <td>0.007959</td>\n      <td>True</td>\n    </tr>\n    <tr>\n      <th>9</th>\n      <td>666058600524156928</td>\n      <td>https://pbs.twimg.com/media/CT5Qw94XAAA_2dP.jpg</td>\n      <td>1</td>\n      <td>miniature_poodle</td>\n      <td>0.201493</td>\n      <td>True</td>\n      <td>komondor</td>\n      <td>0.192305</td>\n      <td>True</td>\n      <td>soft-coated_wheaten_terrier</td>\n      <td>0.082086</td>\n      <td>True</td>\n    </tr>\n  </tbody>\n</table>\n</div>"
     },
     "metadata": {},
     "execution_count": 304
    }
   ],
   "source": [
    "df_predict.head(10)"
   ]
  },
  {
   "cell_type": "markdown",
   "metadata": {},
   "source": [
    "No null values at all! But we can clearly see that there is no standardized format for the dog breed/race prediction as they sometimes start with capital letters and sometimes they do not (German_shepherd but miniature_pinscher).\n",
    "\n",
    "Additionally they are separated by and underscore instead of a whitespace.\n",
    "\n",
    "Lastly there are pictures, which have no prediction at all (p1_dog, p2_dog and p3_dog are all False)."
   ]
  },
  {
   "cell_type": "code",
   "execution_count": 305,
   "metadata": {},
   "outputs": [
    {
     "output_type": "execute_result",
     "data": {
      "text/plain": "https://pbs.twimg.com/media/CcG07BYW0AErrC9.jpg                                            2\nhttps://pbs.twimg.com/media/Ck2d7tJWUAEPTL3.jpg                                            2\nhttps://pbs.twimg.com/media/C4bTH6nWMAAX_bJ.jpg                                            2\nhttps://pbs.twimg.com/media/Co-hmcYXYAASkiG.jpg                                            2\nhttps://pbs.twimg.com/media/CwJR1okWIAA6XMp.jpg                                            2\nhttps://pbs.twimg.com/media/CsVO7ljW8AAckRD.jpg                                            2\nhttps://pbs.twimg.com/ext_tw_video_thumb/807106774843039744/pu/img/8XZg1xW35Xp2J6JW.jpg    2\nhttps://pbs.twimg.com/media/CuRDF-XWcAIZSer.jpg                                            2\nhttps://pbs.twimg.com/media/CrXhIqBW8AA6Bse.jpg                                            2\nhttps://pbs.twimg.com/media/CsGnz64WYAEIDHJ.jpg                                            2\nName: jpg_url, dtype: int64"
     },
     "metadata": {},
     "execution_count": 305
    }
   ],
   "source": [
    "df_predict['jpg_url'].value_counts().head(10)"
   ]
  },
  {
   "cell_type": "markdown",
   "metadata": {},
   "source": [
    "As we can't compare the pictures we'll use the jpg_url to identify duplicates. There are some with multiple entries, meaning that those must be retweets or people just posting multiple pictures of the same dog."
   ]
  },
  {
   "cell_type": "code",
   "execution_count": 306,
   "metadata": {
    "scrolled": true
   },
   "outputs": [
    {
     "output_type": "execute_result",
     "data": {
      "text/plain": "Empty DataFrame\nColumns: [tweet_id, jpg_url, img_num, p1, p1_conf, p1_dog, p2, p2_conf, p2_dog, p3, p3_conf, p3_dog]\nIndex: []",
      "text/html": "<div>\n<style scoped>\n    .dataframe tbody tr th:only-of-type {\n        vertical-align: middle;\n    }\n\n    .dataframe tbody tr th {\n        vertical-align: top;\n    }\n\n    .dataframe thead th {\n        text-align: right;\n    }\n</style>\n<table border=\"1\" class=\"dataframe\">\n  <thead>\n    <tr style=\"text-align: right;\">\n      <th></th>\n      <th>tweet_id</th>\n      <th>jpg_url</th>\n      <th>img_num</th>\n      <th>p1</th>\n      <th>p1_conf</th>\n      <th>p1_dog</th>\n      <th>p2</th>\n      <th>p2_conf</th>\n      <th>p2_dog</th>\n      <th>p3</th>\n      <th>p3_conf</th>\n      <th>p3_dog</th>\n    </tr>\n  </thead>\n  <tbody>\n  </tbody>\n</table>\n</div>"
     },
     "metadata": {},
     "execution_count": 306
    }
   ],
   "source": [
    "df_predict[df_predict['tweet_id'].duplicated()]"
   ]
  },
  {
   "cell_type": "code",
   "execution_count": 307,
   "metadata": {},
   "outputs": [
    {
     "output_type": "execute_result",
     "data": {
      "text/plain": "                tweet_id                                          jpg_url  \\\n713   685325112850124800  https://pbs.twimg.com/media/CYLDikFWEAAIy1y.jpg   \n1368  761750502866649088  https://pbs.twimg.com/media/CYLDikFWEAAIy1y.jpg   \n\n      img_num                p1   p1_conf  p1_dog                  p2  \\\n713         1  golden_retriever  0.586937    True  Labrador_retriever   \n1368        1  golden_retriever  0.586937    True  Labrador_retriever   \n\n      p2_conf  p2_dog      p3  p3_conf  p3_dog  \n713   0.39826    True  kuvasz  0.00541    True  \n1368  0.39826    True  kuvasz  0.00541    True  ",
      "text/html": "<div>\n<style scoped>\n    .dataframe tbody tr th:only-of-type {\n        vertical-align: middle;\n    }\n\n    .dataframe tbody tr th {\n        vertical-align: top;\n    }\n\n    .dataframe thead th {\n        text-align: right;\n    }\n</style>\n<table border=\"1\" class=\"dataframe\">\n  <thead>\n    <tr style=\"text-align: right;\">\n      <th></th>\n      <th>tweet_id</th>\n      <th>jpg_url</th>\n      <th>img_num</th>\n      <th>p1</th>\n      <th>p1_conf</th>\n      <th>p1_dog</th>\n      <th>p2</th>\n      <th>p2_conf</th>\n      <th>p2_dog</th>\n      <th>p3</th>\n      <th>p3_conf</th>\n      <th>p3_dog</th>\n    </tr>\n  </thead>\n  <tbody>\n    <tr>\n      <th>713</th>\n      <td>685325112850124800</td>\n      <td>https://pbs.twimg.com/media/CYLDikFWEAAIy1y.jpg</td>\n      <td>1</td>\n      <td>golden_retriever</td>\n      <td>0.586937</td>\n      <td>True</td>\n      <td>Labrador_retriever</td>\n      <td>0.39826</td>\n      <td>True</td>\n      <td>kuvasz</td>\n      <td>0.00541</td>\n      <td>True</td>\n    </tr>\n    <tr>\n      <th>1368</th>\n      <td>761750502866649088</td>\n      <td>https://pbs.twimg.com/media/CYLDikFWEAAIy1y.jpg</td>\n      <td>1</td>\n      <td>golden_retriever</td>\n      <td>0.586937</td>\n      <td>True</td>\n      <td>Labrador_retriever</td>\n      <td>0.39826</td>\n      <td>True</td>\n      <td>kuvasz</td>\n      <td>0.00541</td>\n      <td>True</td>\n    </tr>\n  </tbody>\n</table>\n</div>"
     },
     "metadata": {},
     "execution_count": 307
    }
   ],
   "source": [
    "df_predict[df_predict['jpg_url'] == 'https://pbs.twimg.com/media/CYLDikFWEAAIy1y.jpg']"
   ]
  },
  {
   "cell_type": "code",
   "execution_count": 308,
   "metadata": {},
   "outputs": [
    {
     "output_type": "execute_result",
     "data": {
      "text/plain": "               tweet_id  in_reply_to_status_id  in_reply_to_user_id  \\\n596  798697898615730177                    NaN                  NaN   \n\n                     timestamp  \\\n596  2016-11-16 01:23:12 +0000   \n\n                                                                                 source  \\\n596  <a href=\"http://twitter.com/download/iphone\" rel=\"nofollow\">Twitter for iPhone</a>   \n\n                                                                               text  \\\n596  RT @dog_rates: This is Stubert. He just arrived. 10/10 https://t.co/HVGs5aAKAn   \n\n     retweeted_status_id  retweeted_status_user_id retweeted_status_timestamp  \\\n596         7.128090e+17              4.196984e+09  2016-03-24 01:11:29 +0000   \n\n                                                                                                                       expanded_urls  \\\n596  https://twitter.com/dog_rates/status/712809025985978368/photo/1,https://twitter.com/dog_rates/status/712809025985978368/photo/1   \n\n     rating_numerator  rating_denominator     name doggo floofer pupper puppo  \n596                10                  10  Stubert  None    None   None  None  ",
      "text/html": "<div>\n<style scoped>\n    .dataframe tbody tr th:only-of-type {\n        vertical-align: middle;\n    }\n\n    .dataframe tbody tr th {\n        vertical-align: top;\n    }\n\n    .dataframe thead th {\n        text-align: right;\n    }\n</style>\n<table border=\"1\" class=\"dataframe\">\n  <thead>\n    <tr style=\"text-align: right;\">\n      <th></th>\n      <th>tweet_id</th>\n      <th>in_reply_to_status_id</th>\n      <th>in_reply_to_user_id</th>\n      <th>timestamp</th>\n      <th>source</th>\n      <th>text</th>\n      <th>retweeted_status_id</th>\n      <th>retweeted_status_user_id</th>\n      <th>retweeted_status_timestamp</th>\n      <th>expanded_urls</th>\n      <th>rating_numerator</th>\n      <th>rating_denominator</th>\n      <th>name</th>\n      <th>doggo</th>\n      <th>floofer</th>\n      <th>pupper</th>\n      <th>puppo</th>\n    </tr>\n  </thead>\n  <tbody>\n    <tr>\n      <th>596</th>\n      <td>798697898615730177</td>\n      <td>NaN</td>\n      <td>NaN</td>\n      <td>2016-11-16 01:23:12 +0000</td>\n      <td>&lt;a href=\"http://twitter.com/download/iphone\" rel=\"nofollow\"&gt;Twitter for iPhone&lt;/a&gt;</td>\n      <td>RT @dog_rates: This is Stubert. He just arrived. 10/10 https://t.co/HVGs5aAKAn</td>\n      <td>7.128090e+17</td>\n      <td>4.196984e+09</td>\n      <td>2016-03-24 01:11:29 +0000</td>\n      <td>https://twitter.com/dog_rates/status/712809025985978368/photo/1,https://twitter.com/dog_rates/status/712809025985978368/photo/1</td>\n      <td>10</td>\n      <td>10</td>\n      <td>Stubert</td>\n      <td>None</td>\n      <td>None</td>\n      <td>None</td>\n      <td>None</td>\n    </tr>\n  </tbody>\n</table>\n</div>"
     },
     "metadata": {},
     "execution_count": 308
    }
   ],
   "source": [
    "df_twitter.query('tweet_id == 798697898615730177')"
   ]
  },
  {
   "cell_type": "markdown",
   "metadata": {},
   "source": [
    "Confirmed retweets as the tweet_id is different."
   ]
  },
  {
   "cell_type": "markdown",
   "metadata": {},
   "source": [
    "We only want Tweets with pictures which contain dogs. Let's see if there are pictures, for which the ML - Algorithm didn't predict any dogs."
   ]
  },
  {
   "cell_type": "code",
   "execution_count": 309,
   "metadata": {
    "scrolled": true
   },
   "outputs": [
    {
     "output_type": "execute_result",
     "data": {
      "text/plain": "              tweet_id                                          jpg_url  \\\n6   666051853826850816  https://pbs.twimg.com/media/CT5KoJ1WoAAJash.jpg   \n17  666104133288665088  https://pbs.twimg.com/media/CT56LSZWoAAlJj2.jpg   \n18  666268910803644416  https://pbs.twimg.com/media/CT8QCd1WEAADXws.jpg   \n21  666293911632134144  https://pbs.twimg.com/media/CT8mx7KW4AEQu8N.jpg   \n25  666362758909284353  https://pbs.twimg.com/media/CT9lXGsUcAAyUFt.jpg   \n29  666411507551481857  https://pbs.twimg.com/media/CT-RugiWIAELEaq.jpg   \n45  666786068205871104  https://pbs.twimg.com/media/CUDmZIkWcAAIPPe.jpg   \n50  666837028449972224  https://pbs.twimg.com/media/CUEUva1WsAA2jPb.jpg   \n51  666983947667116034  https://pbs.twimg.com/media/CUGaXDhW4AY9JUH.jpg   \n53  667012601033924608  https://pbs.twimg.com/media/CUG0bC0U8AAw2su.jpg   \n\n    img_num                p1   p1_conf  p1_dog                   p2  \\\n6         1        box_turtle  0.933012   False           mud_turtle   \n17        1               hen  0.965932   False                 cock   \n18        1  desktop_computer  0.086502   False                 desk   \n21        1  three-toed_sloth  0.914671   False                otter   \n25        1        guinea_pig  0.996496   False                skunk   \n29        1              coho  0.404640   False           barracouta   \n45        1             snail  0.999888   False                 slug   \n50        1       triceratops  0.442113   False            armadillo   \n51        1              swab  0.589446   False            chain_saw   \n53        1             hyena  0.987230   False  African_hunting_dog   \n\n     p2_conf  p2_dog              p3   p3_conf  p3_dog  \n6   0.045885   False        terrapin  0.017885   False  \n17  0.033919   False       partridge  0.000052   False  \n18  0.085547   False        bookcase  0.079480   False  \n21  0.015250   False  great_grey_owl  0.013207   False  \n25  0.002402   False         hamster  0.000461   False  \n29  0.271485   False             gar  0.189945   False  \n45  0.000055   False           acorn  0.000026   False  \n50  0.114071   False   common_iguana  0.043255   False  \n51  0.190142   False             wig  0.034510   False  \n53  0.012601   False          coyote  0.000057   False  ",
      "text/html": "<div>\n<style scoped>\n    .dataframe tbody tr th:only-of-type {\n        vertical-align: middle;\n    }\n\n    .dataframe tbody tr th {\n        vertical-align: top;\n    }\n\n    .dataframe thead th {\n        text-align: right;\n    }\n</style>\n<table border=\"1\" class=\"dataframe\">\n  <thead>\n    <tr style=\"text-align: right;\">\n      <th></th>\n      <th>tweet_id</th>\n      <th>jpg_url</th>\n      <th>img_num</th>\n      <th>p1</th>\n      <th>p1_conf</th>\n      <th>p1_dog</th>\n      <th>p2</th>\n      <th>p2_conf</th>\n      <th>p2_dog</th>\n      <th>p3</th>\n      <th>p3_conf</th>\n      <th>p3_dog</th>\n    </tr>\n  </thead>\n  <tbody>\n    <tr>\n      <th>6</th>\n      <td>666051853826850816</td>\n      <td>https://pbs.twimg.com/media/CT5KoJ1WoAAJash.jpg</td>\n      <td>1</td>\n      <td>box_turtle</td>\n      <td>0.933012</td>\n      <td>False</td>\n      <td>mud_turtle</td>\n      <td>0.045885</td>\n      <td>False</td>\n      <td>terrapin</td>\n      <td>0.017885</td>\n      <td>False</td>\n    </tr>\n    <tr>\n      <th>17</th>\n      <td>666104133288665088</td>\n      <td>https://pbs.twimg.com/media/CT56LSZWoAAlJj2.jpg</td>\n      <td>1</td>\n      <td>hen</td>\n      <td>0.965932</td>\n      <td>False</td>\n      <td>cock</td>\n      <td>0.033919</td>\n      <td>False</td>\n      <td>partridge</td>\n      <td>0.000052</td>\n      <td>False</td>\n    </tr>\n    <tr>\n      <th>18</th>\n      <td>666268910803644416</td>\n      <td>https://pbs.twimg.com/media/CT8QCd1WEAADXws.jpg</td>\n      <td>1</td>\n      <td>desktop_computer</td>\n      <td>0.086502</td>\n      <td>False</td>\n      <td>desk</td>\n      <td>0.085547</td>\n      <td>False</td>\n      <td>bookcase</td>\n      <td>0.079480</td>\n      <td>False</td>\n    </tr>\n    <tr>\n      <th>21</th>\n      <td>666293911632134144</td>\n      <td>https://pbs.twimg.com/media/CT8mx7KW4AEQu8N.jpg</td>\n      <td>1</td>\n      <td>three-toed_sloth</td>\n      <td>0.914671</td>\n      <td>False</td>\n      <td>otter</td>\n      <td>0.015250</td>\n      <td>False</td>\n      <td>great_grey_owl</td>\n      <td>0.013207</td>\n      <td>False</td>\n    </tr>\n    <tr>\n      <th>25</th>\n      <td>666362758909284353</td>\n      <td>https://pbs.twimg.com/media/CT9lXGsUcAAyUFt.jpg</td>\n      <td>1</td>\n      <td>guinea_pig</td>\n      <td>0.996496</td>\n      <td>False</td>\n      <td>skunk</td>\n      <td>0.002402</td>\n      <td>False</td>\n      <td>hamster</td>\n      <td>0.000461</td>\n      <td>False</td>\n    </tr>\n    <tr>\n      <th>29</th>\n      <td>666411507551481857</td>\n      <td>https://pbs.twimg.com/media/CT-RugiWIAELEaq.jpg</td>\n      <td>1</td>\n      <td>coho</td>\n      <td>0.404640</td>\n      <td>False</td>\n      <td>barracouta</td>\n      <td>0.271485</td>\n      <td>False</td>\n      <td>gar</td>\n      <td>0.189945</td>\n      <td>False</td>\n    </tr>\n    <tr>\n      <th>45</th>\n      <td>666786068205871104</td>\n      <td>https://pbs.twimg.com/media/CUDmZIkWcAAIPPe.jpg</td>\n      <td>1</td>\n      <td>snail</td>\n      <td>0.999888</td>\n      <td>False</td>\n      <td>slug</td>\n      <td>0.000055</td>\n      <td>False</td>\n      <td>acorn</td>\n      <td>0.000026</td>\n      <td>False</td>\n    </tr>\n    <tr>\n      <th>50</th>\n      <td>666837028449972224</td>\n      <td>https://pbs.twimg.com/media/CUEUva1WsAA2jPb.jpg</td>\n      <td>1</td>\n      <td>triceratops</td>\n      <td>0.442113</td>\n      <td>False</td>\n      <td>armadillo</td>\n      <td>0.114071</td>\n      <td>False</td>\n      <td>common_iguana</td>\n      <td>0.043255</td>\n      <td>False</td>\n    </tr>\n    <tr>\n      <th>51</th>\n      <td>666983947667116034</td>\n      <td>https://pbs.twimg.com/media/CUGaXDhW4AY9JUH.jpg</td>\n      <td>1</td>\n      <td>swab</td>\n      <td>0.589446</td>\n      <td>False</td>\n      <td>chain_saw</td>\n      <td>0.190142</td>\n      <td>False</td>\n      <td>wig</td>\n      <td>0.034510</td>\n      <td>False</td>\n    </tr>\n    <tr>\n      <th>53</th>\n      <td>667012601033924608</td>\n      <td>https://pbs.twimg.com/media/CUG0bC0U8AAw2su.jpg</td>\n      <td>1</td>\n      <td>hyena</td>\n      <td>0.987230</td>\n      <td>False</td>\n      <td>African_hunting_dog</td>\n      <td>0.012601</td>\n      <td>False</td>\n      <td>coyote</td>\n      <td>0.000057</td>\n      <td>False</td>\n    </tr>\n  </tbody>\n</table>\n</div>"
     },
     "metadata": {},
     "execution_count": 309
    }
   ],
   "source": [
    "df_predict.query('p1_dog == False and p2_dog == False and p3_dog == False').head(10)"
   ]
  },
  {
   "cell_type": "code",
   "execution_count": 310,
   "metadata": {},
   "outputs": [
    {
     "output_type": "execute_result",
     "data": {
      "text/plain": "               tweet_id                                          jpg_url  \\\n8    666057090499244032  https://pbs.twimg.com/media/CT5PY90WoAAQGLo.jpg   \n22   666337882303524864  https://pbs.twimg.com/media/CT9OwFIWEAMuRje.jpg   \n33   666430724426358785  https://pbs.twimg.com/media/CT-jNYqW4AAPi2M.jpg   \n43   666776908487630848  https://pbs.twimg.com/media/CUDeDoWUYAAD-EM.jpg   \n52   666996132027977728  https://pbs.twimg.com/media/CUGlb6iUwAITEbW.jpg   \n87   667524857454854144  https://pbs.twimg.com/media/CUOGUfJW4AA_eni.jpg   \n95   667550904950915073  https://pbs.twimg.com/media/CUOb_gUUkAACXdS.jpg   \n103  667806454573760512  https://pbs.twimg.com/media/CUSGbXeVAAAgztZ.jpg   \n108  667878741721415682  https://pbs.twimg.com/media/CUTILFiWcAE8Rle.jpg   \n113  667915453470232577  https://pbs.twimg.com/media/CUTpj-GWcAATc6A.jpg   \n\n     img_num                  p1   p1_conf  p1_dog                  p2  \\\n8          1       shopping_cart  0.962465   False     shopping_basket   \n22         1                  ox  0.416669   False        Newfoundland   \n33         1               llama  0.505184   False       Irish_terrier   \n43         1           seat_belt  0.375057   False  miniature_pinscher   \n52         1                 hay  0.507637   False          Rottweiler   \n87         1                hare  0.447893   False               dhole   \n95         1            web_site  0.999335   False              vizsla   \n103        1             toyshop  0.253089   False           Chihuahua   \n108        1           seat_belt  0.200373   False  miniature_pinscher   \n113        1  leatherback_turtle  0.452517   False               boxer   \n\n      p2_conf  p2_dog                        p3   p3_conf  p3_dog  \n8    0.014594   False          golden_retriever  0.007959    True  \n22   0.278407    True               groenendael  0.102643    True  \n33   0.104109    True                     dingo  0.062071   False  \n43   0.167175    True                 Chihuahua  0.086951    True  \n52   0.062490    True             water_buffalo  0.048425   False  \n87   0.092435   False  Chesapeake_Bay_retriever  0.088122    True  \n95   0.000081    True                    collie  0.000069    True  \n103  0.187155    True         Brabancon_griffon  0.112799    True  \n108  0.106003    True                schipperke  0.104733    True  \n113  0.196655    True                  terrapin  0.160983   False  ",
      "text/html": "<div>\n<style scoped>\n    .dataframe tbody tr th:only-of-type {\n        vertical-align: middle;\n    }\n\n    .dataframe tbody tr th {\n        vertical-align: top;\n    }\n\n    .dataframe thead th {\n        text-align: right;\n    }\n</style>\n<table border=\"1\" class=\"dataframe\">\n  <thead>\n    <tr style=\"text-align: right;\">\n      <th></th>\n      <th>tweet_id</th>\n      <th>jpg_url</th>\n      <th>img_num</th>\n      <th>p1</th>\n      <th>p1_conf</th>\n      <th>p1_dog</th>\n      <th>p2</th>\n      <th>p2_conf</th>\n      <th>p2_dog</th>\n      <th>p3</th>\n      <th>p3_conf</th>\n      <th>p3_dog</th>\n    </tr>\n  </thead>\n  <tbody>\n    <tr>\n      <th>8</th>\n      <td>666057090499244032</td>\n      <td>https://pbs.twimg.com/media/CT5PY90WoAAQGLo.jpg</td>\n      <td>1</td>\n      <td>shopping_cart</td>\n      <td>0.962465</td>\n      <td>False</td>\n      <td>shopping_basket</td>\n      <td>0.014594</td>\n      <td>False</td>\n      <td>golden_retriever</td>\n      <td>0.007959</td>\n      <td>True</td>\n    </tr>\n    <tr>\n      <th>22</th>\n      <td>666337882303524864</td>\n      <td>https://pbs.twimg.com/media/CT9OwFIWEAMuRje.jpg</td>\n      <td>1</td>\n      <td>ox</td>\n      <td>0.416669</td>\n      <td>False</td>\n      <td>Newfoundland</td>\n      <td>0.278407</td>\n      <td>True</td>\n      <td>groenendael</td>\n      <td>0.102643</td>\n      <td>True</td>\n    </tr>\n    <tr>\n      <th>33</th>\n      <td>666430724426358785</td>\n      <td>https://pbs.twimg.com/media/CT-jNYqW4AAPi2M.jpg</td>\n      <td>1</td>\n      <td>llama</td>\n      <td>0.505184</td>\n      <td>False</td>\n      <td>Irish_terrier</td>\n      <td>0.104109</td>\n      <td>True</td>\n      <td>dingo</td>\n      <td>0.062071</td>\n      <td>False</td>\n    </tr>\n    <tr>\n      <th>43</th>\n      <td>666776908487630848</td>\n      <td>https://pbs.twimg.com/media/CUDeDoWUYAAD-EM.jpg</td>\n      <td>1</td>\n      <td>seat_belt</td>\n      <td>0.375057</td>\n      <td>False</td>\n      <td>miniature_pinscher</td>\n      <td>0.167175</td>\n      <td>True</td>\n      <td>Chihuahua</td>\n      <td>0.086951</td>\n      <td>True</td>\n    </tr>\n    <tr>\n      <th>52</th>\n      <td>666996132027977728</td>\n      <td>https://pbs.twimg.com/media/CUGlb6iUwAITEbW.jpg</td>\n      <td>1</td>\n      <td>hay</td>\n      <td>0.507637</td>\n      <td>False</td>\n      <td>Rottweiler</td>\n      <td>0.062490</td>\n      <td>True</td>\n      <td>water_buffalo</td>\n      <td>0.048425</td>\n      <td>False</td>\n    </tr>\n    <tr>\n      <th>87</th>\n      <td>667524857454854144</td>\n      <td>https://pbs.twimg.com/media/CUOGUfJW4AA_eni.jpg</td>\n      <td>1</td>\n      <td>hare</td>\n      <td>0.447893</td>\n      <td>False</td>\n      <td>dhole</td>\n      <td>0.092435</td>\n      <td>False</td>\n      <td>Chesapeake_Bay_retriever</td>\n      <td>0.088122</td>\n      <td>True</td>\n    </tr>\n    <tr>\n      <th>95</th>\n      <td>667550904950915073</td>\n      <td>https://pbs.twimg.com/media/CUOb_gUUkAACXdS.jpg</td>\n      <td>1</td>\n      <td>web_site</td>\n      <td>0.999335</td>\n      <td>False</td>\n      <td>vizsla</td>\n      <td>0.000081</td>\n      <td>True</td>\n      <td>collie</td>\n      <td>0.000069</td>\n      <td>True</td>\n    </tr>\n    <tr>\n      <th>103</th>\n      <td>667806454573760512</td>\n      <td>https://pbs.twimg.com/media/CUSGbXeVAAAgztZ.jpg</td>\n      <td>1</td>\n      <td>toyshop</td>\n      <td>0.253089</td>\n      <td>False</td>\n      <td>Chihuahua</td>\n      <td>0.187155</td>\n      <td>True</td>\n      <td>Brabancon_griffon</td>\n      <td>0.112799</td>\n      <td>True</td>\n    </tr>\n    <tr>\n      <th>108</th>\n      <td>667878741721415682</td>\n      <td>https://pbs.twimg.com/media/CUTILFiWcAE8Rle.jpg</td>\n      <td>1</td>\n      <td>seat_belt</td>\n      <td>0.200373</td>\n      <td>False</td>\n      <td>miniature_pinscher</td>\n      <td>0.106003</td>\n      <td>True</td>\n      <td>schipperke</td>\n      <td>0.104733</td>\n      <td>True</td>\n    </tr>\n    <tr>\n      <th>113</th>\n      <td>667915453470232577</td>\n      <td>https://pbs.twimg.com/media/CUTpj-GWcAATc6A.jpg</td>\n      <td>1</td>\n      <td>leatherback_turtle</td>\n      <td>0.452517</td>\n      <td>False</td>\n      <td>boxer</td>\n      <td>0.196655</td>\n      <td>True</td>\n      <td>terrapin</td>\n      <td>0.160983</td>\n      <td>False</td>\n    </tr>\n  </tbody>\n</table>\n</div>"
     },
     "metadata": {},
     "execution_count": 310
    }
   ],
   "source": [
    "df_predict.query('p1_dog == False and (p2_dog == True or p3_dog == True)').head(10)"
   ]
  },
  {
   "cell_type": "markdown",
   "metadata": {},
   "source": [
    "After checking some of these pictures it gets clear, that sometimes the dogs are in the background or the pictures don't contain any dogs at all."
   ]
  },
  {
   "cell_type": "markdown",
   "metadata": {},
   "source": [
    "#### df_add\n",
    "\n",
    "Lets repeat the same pattern for this dataset: missing data!"
   ]
  },
  {
   "cell_type": "code",
   "execution_count": 311,
   "metadata": {},
   "outputs": [
    {
     "output_type": "execute_result",
     "data": {
      "text/plain": "             tweet_id  retweet_count  favorite_count  retweeted  \\\n0  892420643555336193           8853           39467      False   \n1  892177421306343426           6514           33819      False   \n2  891815181378084864           4328           25461      False   \n3  891689557279858688           8964           42908      False   \n4  891327558926688256           9774           41048      False   \n5  891087950875897856           3261           20562      False   \n6  890971913173991426           2158           12041      False   \n7  890729181411237888          16716           56848      False   \n8  890609185150312448           4429           28226      False   \n9  890240255349198849           7711           32467      False   \n\n  display_text_range  \n0            [0, 85]  \n1           [0, 138]  \n2           [0, 121]  \n3            [0, 79]  \n4           [0, 138]  \n5           [0, 138]  \n6           [0, 140]  \n7           [0, 118]  \n8           [0, 122]  \n9           [0, 133]  ",
      "text/html": "<div>\n<style scoped>\n    .dataframe tbody tr th:only-of-type {\n        vertical-align: middle;\n    }\n\n    .dataframe tbody tr th {\n        vertical-align: top;\n    }\n\n    .dataframe thead th {\n        text-align: right;\n    }\n</style>\n<table border=\"1\" class=\"dataframe\">\n  <thead>\n    <tr style=\"text-align: right;\">\n      <th></th>\n      <th>tweet_id</th>\n      <th>retweet_count</th>\n      <th>favorite_count</th>\n      <th>retweeted</th>\n      <th>display_text_range</th>\n    </tr>\n  </thead>\n  <tbody>\n    <tr>\n      <th>0</th>\n      <td>892420643555336193</td>\n      <td>8853</td>\n      <td>39467</td>\n      <td>False</td>\n      <td>[0, 85]</td>\n    </tr>\n    <tr>\n      <th>1</th>\n      <td>892177421306343426</td>\n      <td>6514</td>\n      <td>33819</td>\n      <td>False</td>\n      <td>[0, 138]</td>\n    </tr>\n    <tr>\n      <th>2</th>\n      <td>891815181378084864</td>\n      <td>4328</td>\n      <td>25461</td>\n      <td>False</td>\n      <td>[0, 121]</td>\n    </tr>\n    <tr>\n      <th>3</th>\n      <td>891689557279858688</td>\n      <td>8964</td>\n      <td>42908</td>\n      <td>False</td>\n      <td>[0, 79]</td>\n    </tr>\n    <tr>\n      <th>4</th>\n      <td>891327558926688256</td>\n      <td>9774</td>\n      <td>41048</td>\n      <td>False</td>\n      <td>[0, 138]</td>\n    </tr>\n    <tr>\n      <th>5</th>\n      <td>891087950875897856</td>\n      <td>3261</td>\n      <td>20562</td>\n      <td>False</td>\n      <td>[0, 138]</td>\n    </tr>\n    <tr>\n      <th>6</th>\n      <td>890971913173991426</td>\n      <td>2158</td>\n      <td>12041</td>\n      <td>False</td>\n      <td>[0, 140]</td>\n    </tr>\n    <tr>\n      <th>7</th>\n      <td>890729181411237888</td>\n      <td>16716</td>\n      <td>56848</td>\n      <td>False</td>\n      <td>[0, 118]</td>\n    </tr>\n    <tr>\n      <th>8</th>\n      <td>890609185150312448</td>\n      <td>4429</td>\n      <td>28226</td>\n      <td>False</td>\n      <td>[0, 122]</td>\n    </tr>\n    <tr>\n      <th>9</th>\n      <td>890240255349198849</td>\n      <td>7711</td>\n      <td>32467</td>\n      <td>False</td>\n      <td>[0, 133]</td>\n    </tr>\n  </tbody>\n</table>\n</div>"
     },
     "metadata": {},
     "execution_count": 311
    }
   ],
   "source": [
    "df_add.head(10)"
   ]
  },
  {
   "cell_type": "code",
   "execution_count": 312,
   "metadata": {},
   "outputs": [
    {
     "output_type": "stream",
     "name": "stdout",
     "text": "<class 'pandas.core.frame.DataFrame'>\nRangeIndex: 2354 entries, 0 to 2353\nData columns (total 5 columns):\n #   Column              Non-Null Count  Dtype \n---  ------              --------------  ----- \n 0   tweet_id            2354 non-null   int64 \n 1   retweet_count       2354 non-null   int64 \n 2   favorite_count      2354 non-null   int64 \n 3   retweeted           2354 non-null   bool  \n 4   display_text_range  2354 non-null   object\ndtypes: bool(1), int64(3), object(1)\nmemory usage: 76.0+ KB\n"
    }
   ],
   "source": [
    "df_add.info()"
   ]
  },
  {
   "cell_type": "markdown",
   "metadata": {},
   "source": [
    "No missing values here."
   ]
  },
  {
   "cell_type": "markdown",
   "metadata": {},
   "source": [
    "<a id='cleaning'></a>\n",
    "## Data Cleaning"
   ]
  },
  {
   "cell_type": "markdown",
   "metadata": {},
   "source": [
    "Cleaning steps:\n",
    "\n",
    "**1. Merge tables - TIDINESS ISSUE!** \n",
    "\n",
    "**2. Drop everything we found before. Retweets, replies, tweets without an image or tweets without dogs - QUALITY ISSUE!**\n",
    "\n",
    "**3. Fixing datatypes  - QUALITY ISSUE!**\n",
    "\n",
    "**4. Clean the source column - QUALITY ISSUE!**\n",
    "\n",
    "**5. Split the text range into two separate columns - TIDINESS ISSUE!**\n",
    "\n",
    "**6. Merging the different classification columns (doggo, floofer etc.) into one column and removing \"None\" entries - TIDINESS ISSUE!**\n",
    "\n",
    "**7. Remove incorrect names - QUALITY ISSUE!**\n",
    "\n",
    "**8. Just use the column with the highest % and the respective prediction - TIDINESS ISSUE!**\n",
    "\n",
    "**9. Standardize the breeds, because some are uppercase - QUALITY ISSUE!**"
   ]
  },
  {
   "cell_type": "markdown",
   "metadata": {},
   "source": [
    "**1. Merge tables - TIDINESS ISSUE!**\n",
    "\n",
    "As the tweets als have a tweet_id and cleaning would be way easier in one big DataFrame, we'll merge those three DataFrames together now."
   ]
  },
  {
   "cell_type": "code",
   "execution_count": 313,
   "metadata": {},
   "outputs": [],
   "source": [
    "df_main = pd.merge(df_twitter, df_add, on = 'tweet_id', how = 'outer')\n",
    "df_main = pd.merge(df_main, df_predict, on = 'tweet_id', how = 'outer')\n",
    "df_main_cleaned = df_main.copy()"
   ]
  },
  {
   "cell_type": "code",
   "execution_count": 314,
   "metadata": {},
   "outputs": [
    {
     "output_type": "stream",
     "name": "stdout",
     "text": "<class 'pandas.core.frame.DataFrame'>\nInt64Index: 2356 entries, 0 to 2355\nData columns (total 32 columns):\n #   Column                      Non-Null Count  Dtype  \n---  ------                      --------------  -----  \n 0   tweet_id                    2356 non-null   int64  \n 1   in_reply_to_status_id       78 non-null     float64\n 2   in_reply_to_user_id         78 non-null     float64\n 3   timestamp                   2356 non-null   object \n 4   source                      2356 non-null   object \n 5   text                        2356 non-null   object \n 6   retweeted_status_id         181 non-null    float64\n 7   retweeted_status_user_id    181 non-null    float64\n 8   retweeted_status_timestamp  181 non-null    object \n 9   expanded_urls               2297 non-null   object \n 10  rating_numerator            2356 non-null   int64  \n 11  rating_denominator          2356 non-null   int64  \n 12  name                        2356 non-null   object \n 13  doggo                       2356 non-null   object \n 14  floofer                     2356 non-null   object \n 15  pupper                      2356 non-null   object \n 16  puppo                       2356 non-null   object \n 17  retweet_count               2354 non-null   float64\n 18  favorite_count              2354 non-null   float64\n 19  retweeted                   2354 non-null   object \n 20  display_text_range          2354 non-null   object \n 21  jpg_url                     2075 non-null   object \n 22  img_num                     2075 non-null   float64\n 23  p1                          2075 non-null   object \n 24  p1_conf                     2075 non-null   float64\n 25  p1_dog                      2075 non-null   object \n 26  p2                          2075 non-null   object \n 27  p2_conf                     2075 non-null   float64\n 28  p2_dog                      2075 non-null   object \n 29  p3                          2075 non-null   object \n 30  p3_conf                     2075 non-null   float64\n 31  p3_dog                      2075 non-null   object \ndtypes: float64(10), int64(3), object(19)\nmemory usage: 607.4+ KB\n"
    }
   ],
   "source": [
    "df_main_cleaned.info()"
   ]
  },
  {
   "cell_type": "markdown",
   "metadata": {},
   "source": [
    "**2. Drop everything we found before. Retweets, replies, tweets without an image or tweets without dogs - QUALITY ISSUE!**"
   ]
  },
  {
   "cell_type": "code",
   "execution_count": 315,
   "metadata": {},
   "outputs": [
    {
     "output_type": "execute_result",
     "data": {
      "text/plain": "               tweet_id  in_reply_to_status_id  in_reply_to_user_id  \\\n19   888202515573088257                    NaN                  NaN   \n815  771004394259247104                    NaN                  NaN   \n\n                     timestamp  \\\n19   2017-07-21 01:02:36 +0000   \n815  2016-08-31 15:19:06 +0000   \n\n                                                source  \\\n19   <a href=\"http://twitter.com/download/iphone\" r...   \n815  <a href=\"http://twitter.com/download/iphone\" r...   \n\n                                                  text  retweeted_status_id  \\\n19   RT @dog_rates: This is Canela. She attempted s...         8.874740e+17   \n815  RT @katieornah: @dog_rates learning a lot at c...         7.710021e+17   \n\n     retweeted_status_user_id retweeted_status_timestamp  \\\n19               4.196984e+09  2017-07-19 00:47:34 +0000   \n815              1.732729e+09  2016-08-31 15:10:07 +0000   \n\n                                         expanded_urls  rating_numerator  \\\n19   https://twitter.com/dog_rates/status/887473957...                13   \n815  https://twitter.com/katieornah/status/77100213...                12   \n\n     rating_denominator    name doggo floofer  pupper puppo  retweet_count  \\\n19                   10  Canela  None    None    None  None            NaN   \n815                  10    None  None    None  pupper  None            NaN   \n\n     favorite_count retweeted display_text_range  \\\n19              NaN       NaN                NaN   \n815             NaN       NaN                NaN   \n\n                                             jpg_url  img_num            p1  \\\n19   https://pbs.twimg.com/media/DFDw2tyUQAAAFke.jpg      2.0      Pembroke   \n815  https://pbs.twimg.com/media/CrMmVqyWcAIDCHI.jpg      1.0  home_theater   \n\n      p1_conf p1_dog                   p2   p2_conf p2_dog          p3  \\\n19   0.809197   True  Rhodesian_ridgeback  0.054950   True      beagle   \n815  0.414338  False                 iPod  0.052741  False  pop_bottle   \n\n      p3_conf p3_dog  \n19   0.038915   True  \n815  0.048821  False  ",
      "text/html": "<div>\n<style scoped>\n    .dataframe tbody tr th:only-of-type {\n        vertical-align: middle;\n    }\n\n    .dataframe tbody tr th {\n        vertical-align: top;\n    }\n\n    .dataframe thead th {\n        text-align: right;\n    }\n</style>\n<table border=\"1\" class=\"dataframe\">\n  <thead>\n    <tr style=\"text-align: right;\">\n      <th></th>\n      <th>tweet_id</th>\n      <th>in_reply_to_status_id</th>\n      <th>in_reply_to_user_id</th>\n      <th>timestamp</th>\n      <th>source</th>\n      <th>text</th>\n      <th>retweeted_status_id</th>\n      <th>retweeted_status_user_id</th>\n      <th>retweeted_status_timestamp</th>\n      <th>expanded_urls</th>\n      <th>rating_numerator</th>\n      <th>rating_denominator</th>\n      <th>name</th>\n      <th>doggo</th>\n      <th>floofer</th>\n      <th>pupper</th>\n      <th>puppo</th>\n      <th>retweet_count</th>\n      <th>favorite_count</th>\n      <th>retweeted</th>\n      <th>display_text_range</th>\n      <th>jpg_url</th>\n      <th>img_num</th>\n      <th>p1</th>\n      <th>p1_conf</th>\n      <th>p1_dog</th>\n      <th>p2</th>\n      <th>p2_conf</th>\n      <th>p2_dog</th>\n      <th>p3</th>\n      <th>p3_conf</th>\n      <th>p3_dog</th>\n    </tr>\n  </thead>\n  <tbody>\n    <tr>\n      <th>19</th>\n      <td>888202515573088257</td>\n      <td>NaN</td>\n      <td>NaN</td>\n      <td>2017-07-21 01:02:36 +0000</td>\n      <td>&lt;a href=\"http://twitter.com/download/iphone\" r...</td>\n      <td>RT @dog_rates: This is Canela. She attempted s...</td>\n      <td>8.874740e+17</td>\n      <td>4.196984e+09</td>\n      <td>2017-07-19 00:47:34 +0000</td>\n      <td>https://twitter.com/dog_rates/status/887473957...</td>\n      <td>13</td>\n      <td>10</td>\n      <td>Canela</td>\n      <td>None</td>\n      <td>None</td>\n      <td>None</td>\n      <td>None</td>\n      <td>NaN</td>\n      <td>NaN</td>\n      <td>NaN</td>\n      <td>NaN</td>\n      <td>https://pbs.twimg.com/media/DFDw2tyUQAAAFke.jpg</td>\n      <td>2.0</td>\n      <td>Pembroke</td>\n      <td>0.809197</td>\n      <td>True</td>\n      <td>Rhodesian_ridgeback</td>\n      <td>0.054950</td>\n      <td>True</td>\n      <td>beagle</td>\n      <td>0.038915</td>\n      <td>True</td>\n    </tr>\n    <tr>\n      <th>815</th>\n      <td>771004394259247104</td>\n      <td>NaN</td>\n      <td>NaN</td>\n      <td>2016-08-31 15:19:06 +0000</td>\n      <td>&lt;a href=\"http://twitter.com/download/iphone\" r...</td>\n      <td>RT @katieornah: @dog_rates learning a lot at c...</td>\n      <td>7.710021e+17</td>\n      <td>1.732729e+09</td>\n      <td>2016-08-31 15:10:07 +0000</td>\n      <td>https://twitter.com/katieornah/status/77100213...</td>\n      <td>12</td>\n      <td>10</td>\n      <td>None</td>\n      <td>None</td>\n      <td>None</td>\n      <td>pupper</td>\n      <td>None</td>\n      <td>NaN</td>\n      <td>NaN</td>\n      <td>NaN</td>\n      <td>NaN</td>\n      <td>https://pbs.twimg.com/media/CrMmVqyWcAIDCHI.jpg</td>\n      <td>1.0</td>\n      <td>home_theater</td>\n      <td>0.414338</td>\n      <td>False</td>\n      <td>iPod</td>\n      <td>0.052741</td>\n      <td>False</td>\n      <td>pop_bottle</td>\n      <td>0.048821</td>\n      <td>False</td>\n    </tr>\n  </tbody>\n</table>\n</div>"
     },
     "metadata": {},
     "execution_count": 315
    }
   ],
   "source": [
    "pd.set_option('display.max_colwidth', 50)\n",
    "df_main_cleaned[df_main_cleaned['retweeted'].isnull()]"
   ]
  },
  {
   "cell_type": "code",
   "execution_count": 316,
   "metadata": {},
   "outputs": [],
   "source": [
    "df_main_cleaned = df_main_cleaned[df_main_cleaned['retweeted_status_id'].isnull()]\n",
    "df_main_cleaned = df_main_cleaned[df_main_cleaned['in_reply_to_status_id'].isnull()]\n",
    "df_main_cleaned.dropna(subset = [\"retweeted\"], inplace = True)"
   ]
  },
  {
   "cell_type": "code",
   "execution_count": 317,
   "metadata": {},
   "outputs": [
    {
     "output_type": "execute_result",
     "data": {
      "text/plain": "False    2097\nName: retweeted, dtype: int64"
     },
     "metadata": {},
     "execution_count": 317
    }
   ],
   "source": [
    "df_main_cleaned['retweeted'].value_counts()"
   ]
  },
  {
   "cell_type": "markdown",
   "metadata": {},
   "source": [
    "No more retweets in the dataset and no more records with missing data."
   ]
  },
  {
   "cell_type": "code",
   "execution_count": 318,
   "metadata": {},
   "outputs": [],
   "source": [
    "df_main_cleaned.drop(['in_reply_to_status_id', 'in_reply_to_user_id',\n",
    "                      'retweeted_status_id', 'retweeted_status_user_id', \n",
    "                      'retweeted_status_timestamp', 'retweeted'], inplace=True, axis = 1)"
   ]
  },
  {
   "cell_type": "markdown",
   "metadata": {},
   "source": [
    "We've dropped the unnecessary columns now."
   ]
  },
  {
   "cell_type": "code",
   "execution_count": 319,
   "metadata": {},
   "outputs": [
    {
     "output_type": "execute_result",
     "data": {
      "text/plain": "0"
     },
     "metadata": {},
     "execution_count": 319
    }
   ],
   "source": [
    "df_main_cleaned.dropna(subset = ['jpg_url'], inplace = True)\n",
    "df_main_cleaned['jpg_url'].duplicated().sum()"
   ]
  },
  {
   "cell_type": "markdown",
   "metadata": {},
   "source": [
    "Dropped records with a missing image."
   ]
  },
  {
   "cell_type": "code",
   "execution_count": 320,
   "metadata": {},
   "outputs": [],
   "source": [
    "# As noted in the comments, this action could delete rows with useful information. Just because the algorithm couldn't predict a dog, doesn't mean that there was no dog in the picture!\n",
    "# df_main_cleaned.drop(df_main_cleaned.query('p1_dog == False and p2_dog == False and p3_dog == False').index, inplace = True)\n",
    "# df_main_cleaned.query('p1_dog == False and p2_dog == False and p3_dog == False')"
   ]
  },
  {
   "cell_type": "code",
   "execution_count": 321,
   "metadata": {},
   "outputs": [
    {
     "output_type": "stream",
     "name": "stdout",
     "text": "<class 'pandas.core.frame.DataFrame'>\nInt64Index: 1971 entries, 0 to 2355\nData columns (total 26 columns):\n #   Column              Non-Null Count  Dtype  \n---  ------              --------------  -----  \n 0   tweet_id            1971 non-null   int64  \n 1   timestamp           1971 non-null   object \n 2   source              1971 non-null   object \n 3   text                1971 non-null   object \n 4   expanded_urls       1971 non-null   object \n 5   rating_numerator    1971 non-null   int64  \n 6   rating_denominator  1971 non-null   int64  \n 7   name                1971 non-null   object \n 8   doggo               1971 non-null   object \n 9   floofer             1971 non-null   object \n 10  pupper              1971 non-null   object \n 11  puppo               1971 non-null   object \n 12  retweet_count       1971 non-null   float64\n 13  favorite_count      1971 non-null   float64\n 14  display_text_range  1971 non-null   object \n 15  jpg_url             1971 non-null   object \n 16  img_num             1971 non-null   float64\n 17  p1                  1971 non-null   object \n 18  p1_conf             1971 non-null   float64\n 19  p1_dog              1971 non-null   object \n 20  p2                  1971 non-null   object \n 21  p2_conf             1971 non-null   float64\n 22  p2_dog              1971 non-null   object \n 23  p3                  1971 non-null   object \n 24  p3_conf             1971 non-null   float64\n 25  p3_dog              1971 non-null   object \ndtypes: float64(6), int64(3), object(17)\nmemory usage: 415.8+ KB\n"
    }
   ],
   "source": [
    "df_main_cleaned.info()"
   ]
  },
  {
   "cell_type": "markdown",
   "metadata": {},
   "source": [
    "Lastly we dropped records which did not contain dogs."
   ]
  },
  {
   "cell_type": "markdown",
   "metadata": {},
   "source": [
    "**3. Fixing datatypes - QUALITY ISSUE!**"
   ]
  },
  {
   "cell_type": "code",
   "execution_count": 322,
   "metadata": {},
   "outputs": [],
   "source": [
    "df_main_cleaned['tweet_id'] = df_main_cleaned['tweet_id'].astype('str')\n",
    "df_main_cleaned['timestamp'] = pd.to_datetime(df_main_cleaned['timestamp'])\n",
    "for x in ['retweet_count', 'favorite_count', 'img_num']:\n",
    "    df_main_cleaned[x] = df_main_cleaned[x].astype('int64')"
   ]
  },
  {
   "cell_type": "code",
   "execution_count": 323,
   "metadata": {},
   "outputs": [
    {
     "output_type": "stream",
     "name": "stdout",
     "text": "<class 'pandas.core.frame.DataFrame'>\nInt64Index: 1971 entries, 0 to 2355\nData columns (total 26 columns):\n #   Column              Non-Null Count  Dtype              \n---  ------              --------------  -----              \n 0   tweet_id            1971 non-null   object             \n 1   timestamp           1971 non-null   datetime64[ns, UTC]\n 2   source              1971 non-null   object             \n 3   text                1971 non-null   object             \n 4   expanded_urls       1971 non-null   object             \n 5   rating_numerator    1971 non-null   int64              \n 6   rating_denominator  1971 non-null   int64              \n 7   name                1971 non-null   object             \n 8   doggo               1971 non-null   object             \n 9   floofer             1971 non-null   object             \n 10  pupper              1971 non-null   object             \n 11  puppo               1971 non-null   object             \n 12  retweet_count       1971 non-null   int64              \n 13  favorite_count      1971 non-null   int64              \n 14  display_text_range  1971 non-null   object             \n 15  jpg_url             1971 non-null   object             \n 16  img_num             1971 non-null   int64              \n 17  p1                  1971 non-null   object             \n 18  p1_conf             1971 non-null   float64            \n 19  p1_dog              1971 non-null   object             \n 20  p2                  1971 non-null   object             \n 21  p2_conf             1971 non-null   float64            \n 22  p2_dog              1971 non-null   object             \n 23  p3                  1971 non-null   object             \n 24  p3_conf             1971 non-null   float64            \n 25  p3_dog              1971 non-null   object             \ndtypes: datetime64[ns, UTC](1), float64(3), int64(5), object(17)\nmemory usage: 415.8+ KB\n"
    }
   ],
   "source": [
    "df_main_cleaned.info()"
   ]
  },
  {
   "cell_type": "markdown",
   "metadata": {},
   "source": [
    "**4. Clean the source column - QUALITY ISSUE!**\n",
    "\n",
    "The source column has HTML clutter all in it, which makes the column very hard to use. We'll extract only the essential stuff."
   ]
  },
  {
   "cell_type": "code",
   "execution_count": 324,
   "metadata": {
    "scrolled": true
   },
   "outputs": [
    {
     "output_type": "execute_result",
     "data": {
      "text/plain": "                tweet_id                 timestamp  \\\n2351  666049248165822465 2015-11-16 00:24:50+00:00   \n2352  666044226329800704 2015-11-16 00:04:52+00:00   \n2353  666033412701032449 2015-11-15 23:21:54+00:00   \n2354  666029285002620928 2015-11-15 23:05:30+00:00   \n2355  666020888022790149 2015-11-15 22:32:08+00:00   \n\n                                                 source  \\\n2351  <a href=\"http://twitter.com/download/iphone\" r...   \n2352  <a href=\"http://twitter.com/download/iphone\" r...   \n2353  <a href=\"http://twitter.com/download/iphone\" r...   \n2354  <a href=\"http://twitter.com/download/iphone\" r...   \n2355  <a href=\"http://twitter.com/download/iphone\" r...   \n\n                                                   text  \\\n2351  Here we have a 1949 1st generation vulpix. Enj...   \n2352  This is a purebred Piers Morgan. Loves to Netf...   \n2353  Here is a very happy pup. Big fan of well-main...   \n2354  This is a western brown Mitsubishi terrier. Up...   \n2355  Here we have a Japanese Irish Setter. Lost eye...   \n\n                                          expanded_urls  rating_numerator  \\\n2351  https://twitter.com/dog_rates/status/666049248...                 5   \n2352  https://twitter.com/dog_rates/status/666044226...                 6   \n2353  https://twitter.com/dog_rates/status/666033412...                 9   \n2354  https://twitter.com/dog_rates/status/666029285...                 7   \n2355  https://twitter.com/dog_rates/status/666020888...                 8   \n\n      rating_denominator  name doggo floofer pupper puppo  retweet_count  \\\n2351                  10  None  None    None   None  None             41   \n2352                  10     a  None    None   None  None            147   \n2353                  10     a  None    None   None  None             47   \n2354                  10     a  None    None   None  None             48   \n2355                  10  None  None    None   None  None            532   \n\n      favorite_count display_text_range  \\\n2351             111           [0, 120]   \n2352             311           [0, 137]   \n2353             128           [0, 130]   \n2354             132           [0, 139]   \n2355            2535           [0, 131]   \n\n                                              jpg_url  img_num  \\\n2351  https://pbs.twimg.com/media/CT5IQmsXIAAKY4A.jpg        1   \n2352  https://pbs.twimg.com/media/CT5Dr8HUEAA-lEu.jpg        1   \n2353  https://pbs.twimg.com/media/CT4521TWwAEvMyu.jpg        1   \n2354  https://pbs.twimg.com/media/CT42GRgUYAA5iDo.jpg        1   \n2355  https://pbs.twimg.com/media/CT4udn0WwAA0aMy.jpg        1   \n\n                          p1   p1_conf p1_dog                  p2   p2_conf  \\\n2351      miniature_pinscher  0.560311   True          Rottweiler  0.243682   \n2352     Rhodesian_ridgeback  0.408143   True             redbone  0.360687   \n2353         German_shepherd  0.596461   True            malinois  0.138584   \n2354                 redbone  0.506826   True  miniature_pinscher  0.074192   \n2355  Welsh_springer_spaniel  0.465074   True              collie  0.156665   \n\n     p2_dog                   p3   p3_conf p3_dog  \n2351   True             Doberman  0.154629   True  \n2352   True   miniature_pinscher  0.222752   True  \n2353   True           bloodhound  0.116197   True  \n2354   True  Rhodesian_ridgeback  0.072010   True  \n2355   True    Shetland_sheepdog  0.061428   True  ",
      "text/html": "<div>\n<style scoped>\n    .dataframe tbody tr th:only-of-type {\n        vertical-align: middle;\n    }\n\n    .dataframe tbody tr th {\n        vertical-align: top;\n    }\n\n    .dataframe thead th {\n        text-align: right;\n    }\n</style>\n<table border=\"1\" class=\"dataframe\">\n  <thead>\n    <tr style=\"text-align: right;\">\n      <th></th>\n      <th>tweet_id</th>\n      <th>timestamp</th>\n      <th>source</th>\n      <th>text</th>\n      <th>expanded_urls</th>\n      <th>rating_numerator</th>\n      <th>rating_denominator</th>\n      <th>name</th>\n      <th>doggo</th>\n      <th>floofer</th>\n      <th>pupper</th>\n      <th>puppo</th>\n      <th>retweet_count</th>\n      <th>favorite_count</th>\n      <th>display_text_range</th>\n      <th>jpg_url</th>\n      <th>img_num</th>\n      <th>p1</th>\n      <th>p1_conf</th>\n      <th>p1_dog</th>\n      <th>p2</th>\n      <th>p2_conf</th>\n      <th>p2_dog</th>\n      <th>p3</th>\n      <th>p3_conf</th>\n      <th>p3_dog</th>\n    </tr>\n  </thead>\n  <tbody>\n    <tr>\n      <th>2351</th>\n      <td>666049248165822465</td>\n      <td>2015-11-16 00:24:50+00:00</td>\n      <td>&lt;a href=\"http://twitter.com/download/iphone\" r...</td>\n      <td>Here we have a 1949 1st generation vulpix. Enj...</td>\n      <td>https://twitter.com/dog_rates/status/666049248...</td>\n      <td>5</td>\n      <td>10</td>\n      <td>None</td>\n      <td>None</td>\n      <td>None</td>\n      <td>None</td>\n      <td>None</td>\n      <td>41</td>\n      <td>111</td>\n      <td>[0, 120]</td>\n      <td>https://pbs.twimg.com/media/CT5IQmsXIAAKY4A.jpg</td>\n      <td>1</td>\n      <td>miniature_pinscher</td>\n      <td>0.560311</td>\n      <td>True</td>\n      <td>Rottweiler</td>\n      <td>0.243682</td>\n      <td>True</td>\n      <td>Doberman</td>\n      <td>0.154629</td>\n      <td>True</td>\n    </tr>\n    <tr>\n      <th>2352</th>\n      <td>666044226329800704</td>\n      <td>2015-11-16 00:04:52+00:00</td>\n      <td>&lt;a href=\"http://twitter.com/download/iphone\" r...</td>\n      <td>This is a purebred Piers Morgan. Loves to Netf...</td>\n      <td>https://twitter.com/dog_rates/status/666044226...</td>\n      <td>6</td>\n      <td>10</td>\n      <td>a</td>\n      <td>None</td>\n      <td>None</td>\n      <td>None</td>\n      <td>None</td>\n      <td>147</td>\n      <td>311</td>\n      <td>[0, 137]</td>\n      <td>https://pbs.twimg.com/media/CT5Dr8HUEAA-lEu.jpg</td>\n      <td>1</td>\n      <td>Rhodesian_ridgeback</td>\n      <td>0.408143</td>\n      <td>True</td>\n      <td>redbone</td>\n      <td>0.360687</td>\n      <td>True</td>\n      <td>miniature_pinscher</td>\n      <td>0.222752</td>\n      <td>True</td>\n    </tr>\n    <tr>\n      <th>2353</th>\n      <td>666033412701032449</td>\n      <td>2015-11-15 23:21:54+00:00</td>\n      <td>&lt;a href=\"http://twitter.com/download/iphone\" r...</td>\n      <td>Here is a very happy pup. Big fan of well-main...</td>\n      <td>https://twitter.com/dog_rates/status/666033412...</td>\n      <td>9</td>\n      <td>10</td>\n      <td>a</td>\n      <td>None</td>\n      <td>None</td>\n      <td>None</td>\n      <td>None</td>\n      <td>47</td>\n      <td>128</td>\n      <td>[0, 130]</td>\n      <td>https://pbs.twimg.com/media/CT4521TWwAEvMyu.jpg</td>\n      <td>1</td>\n      <td>German_shepherd</td>\n      <td>0.596461</td>\n      <td>True</td>\n      <td>malinois</td>\n      <td>0.138584</td>\n      <td>True</td>\n      <td>bloodhound</td>\n      <td>0.116197</td>\n      <td>True</td>\n    </tr>\n    <tr>\n      <th>2354</th>\n      <td>666029285002620928</td>\n      <td>2015-11-15 23:05:30+00:00</td>\n      <td>&lt;a href=\"http://twitter.com/download/iphone\" r...</td>\n      <td>This is a western brown Mitsubishi terrier. Up...</td>\n      <td>https://twitter.com/dog_rates/status/666029285...</td>\n      <td>7</td>\n      <td>10</td>\n      <td>a</td>\n      <td>None</td>\n      <td>None</td>\n      <td>None</td>\n      <td>None</td>\n      <td>48</td>\n      <td>132</td>\n      <td>[0, 139]</td>\n      <td>https://pbs.twimg.com/media/CT42GRgUYAA5iDo.jpg</td>\n      <td>1</td>\n      <td>redbone</td>\n      <td>0.506826</td>\n      <td>True</td>\n      <td>miniature_pinscher</td>\n      <td>0.074192</td>\n      <td>True</td>\n      <td>Rhodesian_ridgeback</td>\n      <td>0.072010</td>\n      <td>True</td>\n    </tr>\n    <tr>\n      <th>2355</th>\n      <td>666020888022790149</td>\n      <td>2015-11-15 22:32:08+00:00</td>\n      <td>&lt;a href=\"http://twitter.com/download/iphone\" r...</td>\n      <td>Here we have a Japanese Irish Setter. Lost eye...</td>\n      <td>https://twitter.com/dog_rates/status/666020888...</td>\n      <td>8</td>\n      <td>10</td>\n      <td>None</td>\n      <td>None</td>\n      <td>None</td>\n      <td>None</td>\n      <td>None</td>\n      <td>532</td>\n      <td>2535</td>\n      <td>[0, 131]</td>\n      <td>https://pbs.twimg.com/media/CT4udn0WwAA0aMy.jpg</td>\n      <td>1</td>\n      <td>Welsh_springer_spaniel</td>\n      <td>0.465074</td>\n      <td>True</td>\n      <td>collie</td>\n      <td>0.156665</td>\n      <td>True</td>\n      <td>Shetland_sheepdog</td>\n      <td>0.061428</td>\n      <td>True</td>\n    </tr>\n  </tbody>\n</table>\n</div>"
     },
     "metadata": {},
     "execution_count": 324
    }
   ],
   "source": [
    "df_main_cleaned.tail(5)"
   ]
  },
  {
   "cell_type": "code",
   "execution_count": 325,
   "metadata": {},
   "outputs": [
    {
     "output_type": "execute_result",
     "data": {
      "text/plain": "                tweet_id                 timestamp              source\n2351  666049248165822465 2015-11-16 00:24:50+00:00  Twitter for iPhone\n2352  666044226329800704 2015-11-16 00:04:52+00:00  Twitter for iPhone\n2353  666033412701032449 2015-11-15 23:21:54+00:00  Twitter for iPhone\n2354  666029285002620928 2015-11-15 23:05:30+00:00  Twitter for iPhone\n2355  666020888022790149 2015-11-15 22:32:08+00:00  Twitter for iPhone",
      "text/html": "<div>\n<style scoped>\n    .dataframe tbody tr th:only-of-type {\n        vertical-align: middle;\n    }\n\n    .dataframe tbody tr th {\n        vertical-align: top;\n    }\n\n    .dataframe thead th {\n        text-align: right;\n    }\n</style>\n<table border=\"1\" class=\"dataframe\">\n  <thead>\n    <tr style=\"text-align: right;\">\n      <th></th>\n      <th>tweet_id</th>\n      <th>timestamp</th>\n      <th>source</th>\n    </tr>\n  </thead>\n  <tbody>\n    <tr>\n      <th>2351</th>\n      <td>666049248165822465</td>\n      <td>2015-11-16 00:24:50+00:00</td>\n      <td>Twitter for iPhone</td>\n    </tr>\n    <tr>\n      <th>2352</th>\n      <td>666044226329800704</td>\n      <td>2015-11-16 00:04:52+00:00</td>\n      <td>Twitter for iPhone</td>\n    </tr>\n    <tr>\n      <th>2353</th>\n      <td>666033412701032449</td>\n      <td>2015-11-15 23:21:54+00:00</td>\n      <td>Twitter for iPhone</td>\n    </tr>\n    <tr>\n      <th>2354</th>\n      <td>666029285002620928</td>\n      <td>2015-11-15 23:05:30+00:00</td>\n      <td>Twitter for iPhone</td>\n    </tr>\n    <tr>\n      <th>2355</th>\n      <td>666020888022790149</td>\n      <td>2015-11-15 22:32:08+00:00</td>\n      <td>Twitter for iPhone</td>\n    </tr>\n  </tbody>\n</table>\n</div>"
     },
     "metadata": {},
     "execution_count": 325
    }
   ],
   "source": [
    "df_main_cleaned['source'] = df_main_cleaned['source'].str.extract(\"\\>(.*?)\\<\", expand = True)\n",
    "df_main_cleaned.iloc[:,:3].tail(5)"
   ]
  },
  {
   "cell_type": "code",
   "execution_count": 326,
   "metadata": {},
   "outputs": [
    {
     "output_type": "execute_result",
     "data": {
      "text/plain": "Twitter for iPhone    1932\nTwitter Web Client      28\nTweetDeck               11\nName: source, dtype: int64"
     },
     "metadata": {},
     "execution_count": 326
    }
   ],
   "source": [
    "df_main_cleaned['source'].value_counts()"
   ]
  },
  {
   "cell_type": "markdown",
   "metadata": {},
   "source": [
    "Column is way more useable now!"
   ]
  },
  {
   "cell_type": "markdown",
   "metadata": {},
   "source": [
    "**5. Split the text range into two separate columns - TIDINESS ISSUE!**"
   ]
  },
  {
   "cell_type": "code",
   "execution_count": 327,
   "metadata": {},
   "outputs": [
    {
     "output_type": "stream",
     "name": "stdout",
     "text": "<class 'pandas.core.frame.DataFrame'>\nInt64Index: 1971 entries, 0 to 2355\nData columns (total 26 columns):\n #   Column              Non-Null Count  Dtype              \n---  ------              --------------  -----              \n 0   tweet_id            1971 non-null   object             \n 1   timestamp           1971 non-null   datetime64[ns, UTC]\n 2   source              1971 non-null   object             \n 3   text                1971 non-null   object             \n 4   expanded_urls       1971 non-null   object             \n 5   rating_numerator    1971 non-null   int64              \n 6   rating_denominator  1971 non-null   int64              \n 7   name                1971 non-null   object             \n 8   doggo               1971 non-null   object             \n 9   floofer             1971 non-null   object             \n 10  pupper              1971 non-null   object             \n 11  puppo               1971 non-null   object             \n 12  retweet_count       1971 non-null   int64              \n 13  favorite_count      1971 non-null   int64              \n 14  display_text_range  1971 non-null   object             \n 15  jpg_url             1971 non-null   object             \n 16  img_num             1971 non-null   int64              \n 17  p1                  1971 non-null   object             \n 18  p1_conf             1971 non-null   float64            \n 19  p1_dog              1971 non-null   object             \n 20  p2                  1971 non-null   object             \n 21  p2_conf             1971 non-null   float64            \n 22  p2_dog              1971 non-null   object             \n 23  p3                  1971 non-null   object             \n 24  p3_conf             1971 non-null   float64            \n 25  p3_dog              1971 non-null   object             \ndtypes: datetime64[ns, UTC](1), float64(3), int64(5), object(17)\nmemory usage: 415.8+ KB\n"
    }
   ],
   "source": [
    "df_main_cleaned.info()"
   ]
  },
  {
   "cell_type": "code",
   "execution_count": 328,
   "metadata": {},
   "outputs": [
    {
     "output_type": "execute_result",
     "data": {
      "text/plain": "0     [0, 85]\n1    [0, 138]\n2    [0, 121]\n3     [0, 79]\n4    [0, 138]\nName: display_text_range, dtype: object"
     },
     "metadata": {},
     "execution_count": 328
    }
   ],
   "source": [
    "df_main_cleaned['display_text_range'].head(5)"
   ]
  },
  {
   "cell_type": "code",
   "execution_count": 329,
   "metadata": {},
   "outputs": [],
   "source": [
    "df_main_cleaned['lower_text_range'] = df_main_cleaned['display_text_range'].apply(lambda x: x[0])\n",
    "\n",
    "df_main_cleaned['upper_text_range'] = df_main_cleaned['display_text_range'].apply(lambda x: x[1])\n",
    "df_main_cleaned.drop('display_text_range', axis = 1, inplace = True)"
   ]
  },
  {
   "cell_type": "code",
   "execution_count": 330,
   "metadata": {},
   "outputs": [
    {
     "output_type": "execute_result",
     "data": {
      "text/plain": "   lower_text_range  upper_text_range\n0                 0                85\n1                 0               138\n2                 0               121\n3                 0                79\n4                 0               138",
      "text/html": "<div>\n<style scoped>\n    .dataframe tbody tr th:only-of-type {\n        vertical-align: middle;\n    }\n\n    .dataframe tbody tr th {\n        vertical-align: top;\n    }\n\n    .dataframe thead th {\n        text-align: right;\n    }\n</style>\n<table border=\"1\" class=\"dataframe\">\n  <thead>\n    <tr style=\"text-align: right;\">\n      <th></th>\n      <th>lower_text_range</th>\n      <th>upper_text_range</th>\n    </tr>\n  </thead>\n  <tbody>\n    <tr>\n      <th>0</th>\n      <td>0</td>\n      <td>85</td>\n    </tr>\n    <tr>\n      <th>1</th>\n      <td>0</td>\n      <td>138</td>\n    </tr>\n    <tr>\n      <th>2</th>\n      <td>0</td>\n      <td>121</td>\n    </tr>\n    <tr>\n      <th>3</th>\n      <td>0</td>\n      <td>79</td>\n    </tr>\n    <tr>\n      <th>4</th>\n      <td>0</td>\n      <td>138</td>\n    </tr>\n  </tbody>\n</table>\n</div>"
     },
     "metadata": {},
     "execution_count": 330
    }
   ],
   "source": [
    "df_main_cleaned[[\"lower_text_range\", \"upper_text_range\"]].head()"
   ]
  },
  {
   "cell_type": "markdown",
   "metadata": {},
   "source": [
    "As the display_text_range just contained lists we could extract them easily with list comprehension."
   ]
  },
  {
   "cell_type": "markdown",
   "metadata": {},
   "source": [
    "**6. Merging the different classification columns (doggo, floofer etc.) into one column and removing \"None\" entries - TIDINESS ISSUE!**"
   ]
  },
  {
   "cell_type": "code",
   "execution_count": 331,
   "metadata": {},
   "outputs": [],
   "source": [
    "for dog_type in ['doggo', 'floofer', 'pupper', 'puppo']:\n",
    "    df_main_cleaned[dog_type].replace('None', '', inplace = True)\n",
    "\n",
    "df_main_cleaned['dog_type'] = df_main_cleaned['doggo'].map(str) + df_main_cleaned['floofer'].map(str) + df_main_cleaned['pupper'].map(str) + df_main_cleaned['puppo'].map(str)"
   ]
  },
  {
   "cell_type": "code",
   "execution_count": 332,
   "metadata": {},
   "outputs": [
    {
     "output_type": "execute_result",
     "data": {
      "text/plain": "                1668\npupper           201\ndoggo             63\npuppo             22\ndoggopupper        8\nfloofer            7\ndoggofloofer       1\ndoggopuppo         1\nName: dog_type, dtype: int64"
     },
     "metadata": {},
     "execution_count": 332
    }
   ],
   "source": [
    "df_main_cleaned['dog_type'].value_counts()"
   ]
  },
  {
   "cell_type": "code",
   "execution_count": 333,
   "metadata": {},
   "outputs": [],
   "source": [
    "df_main_cleaned['dog_type'].replace('', np.nan, inplace = True)"
   ]
  },
  {
   "cell_type": "code",
   "execution_count": 334,
   "metadata": {},
   "outputs": [
    {
     "output_type": "execute_result",
     "data": {
      "text/plain": "pupper          201\ndoggo            63\npuppo            22\ndoggopupper       8\nfloofer           7\ndoggofloofer      1\ndoggopuppo        1\nName: dog_type, dtype: int64"
     },
     "metadata": {},
     "execution_count": 334
    }
   ],
   "source": [
    "df_main_cleaned['dog_type'].value_counts() "
   ]
  },
  {
   "cell_type": "code",
   "execution_count": 335,
   "metadata": {},
   "outputs": [
    {
     "output_type": "execute_result",
     "data": {
      "text/plain": "tweet_id              10\ntimestamp             10\nsource                10\ntext                  10\nexpanded_urls         10\nrating_numerator      10\nrating_denominator    10\nname                  10\ndoggo                 10\nfloofer               10\npupper                10\npuppo                 10\nretweet_count         10\nfavorite_count        10\njpg_url               10\nimg_num               10\np1                    10\np1_conf               10\np1_dog                10\np2                    10\np2_conf               10\np2_dog                10\np3                    10\np3_conf               10\np3_dog                10\nlower_text_range      10\nupper_text_range      10\ndog_type              10\ndtype: int64"
     },
     "metadata": {},
     "execution_count": 335
    }
   ],
   "source": [
    "df_main_cleaned.query('dog_type != (\"pupper\", \"doggo\", \"puppo\", \"floofer\") & ~dog_type.isnull()').count()"
   ]
  },
  {
   "cell_type": "code",
   "execution_count": 336,
   "metadata": {},
   "outputs": [],
   "source": [
    "df_main_cleaned.drop(df_main_cleaned.query('dog_type != (\"pupper\", \"doggo\", \"puppo\", \"floofer\") & ~dog_type.isnull()').index, inplace=True)"
   ]
  },
  {
   "cell_type": "code",
   "execution_count": 337,
   "metadata": {},
   "outputs": [],
   "source": [
    "df_main_cleaned.drop(['doggo', 'floofer', 'pupper', 'puppo',], inplace = True, axis = 1)"
   ]
  },
  {
   "cell_type": "markdown",
   "metadata": {},
   "source": [
    "As there were some wrong types (multiple categories) I dropped those (9 entries) and the original columns, which are not necessary anymore."
   ]
  },
  {
   "cell_type": "markdown",
   "metadata": {},
   "source": [
    "**7. Remove incorrect names - QUALITY ISSUE!**\n",
    "\n",
    "As the incorrect dog names are all lowercase, so I can look for lowercase names.\n",
    "\n",
    "Instead of dropping those rows I've decided to rename those entries, because watching some tweets with incorrect names, we can see that those are indeed dogs (I looked at about 5).\n",
    "\n",
    "The names are even provided in the tweet (for my sample of 5 at least), but they didn't get parsed correctly I guess."
   ]
  },
  {
   "cell_type": "code",
   "execution_count": 338,
   "metadata": {},
   "outputs": [
    {
     "output_type": "execute_result",
     "data": {
      "text/plain": "array(['https://twitter.com/dog_rates/status/887517139158093824/video/1',\n       'https://twitter.com/dog_rates/status/881536004380872706/video/1',\n       'https://twitter.com/dog_rates/status/859196978902773760/video/1',\n       'https://twitter.com/dog_rates/status/855459453768019968/photo/1,https://twitter.com/dog_rates/status/855459453768019968/photo/1',\n       'https://twitter.com/dog_rates/status/828650029636317184/photo/1,https://twitter.com/dog_rates/status/828650029636317184/photo/1,https://twitter.com/dog_rates/status/828650029636317184/photo/1',\n       'https://twitter.com/dog_rates/status/806219024703037440/photo/1',\n       'https://twitter.com/dog_rates/status/792913359805018113/photo/1,https://twitter.com/dog_rates/status/792913359805018113/photo/1,https://twitter.com/dog_rates/status/792913359805018113/photo/1,https://twitter.com/dog_rates/status/792913359805018113/photo/1',\n       'https://twitter.com/dog_rates/status/772581559778025472/photo/1,https://twitter.com/dog_rates/status/772581559778025472/photo/1,https://twitter.com/dog_rates/status/772581559778025472/photo/1',\n       'https://twitter.com/dog_rates/status/770655142660169732/photo/1',\n       'https://twitter.com/dog_rates/status/765395769549590528/photo/1',\n       'https://twitter.com/dog_rates/status/755206590534418437/photo/1,https://twitter.com/dog_rates/status/755206590534418437/photo/1,https://twitter.com/dog_rates/status/755206590534418437/photo/1,https://twitter.com/dog_rates/status/755206590534418437/photo/1',\n       'https://twitter.com/dog_rates/status/748977405889503236/photo/1',\n       'https://twitter.com/dog_rates/status/748692773788876800/photo/1',\n       'https://twitter.com/dog_rates/status/748575535303884801/photo/1',\n       'https://twitter.com/dog_rates/status/747885874273214464/photo/1,https://twitter.com/dog_rates/status/747885874273214464/photo/1',\n       'https://twitter.com/dog_rates/status/747816857231626240/photo/1',\n       'https://twitter.com/dog_rates/status/746872823977771008/photo/1,https://twitter.com/dog_rates/status/746872823977771008/photo/1',\n       'https://twitter.com/dog_rates/status/746369468511756288/photo/1',\n       'https://twitter.com/dog_rates/status/745422732645535745/photo/1',\n       'https://twitter.com/dog_rates/status/743222593470234624/photo/1',\n       'https://twitter.com/dog_rates/status/740214038584557568/photo/1',\n       'https://twitter.com/dog_rates/status/736225175608430592/photo/1',\n       'https://twitter.com/dog_rates/status/731156023742988288/photo/1',\n       'https://twitter.com/dog_rates/status/730924654643314689/photo/1',\n       'https://twitter.com/dog_rates/status/728035342121635841/photo/1,https://twitter.com/dog_rates/status/728035342121635841/photo/1',\n       'https://twitter.com/dog_rates/status/717537687239008257/photo/1',\n       'https://twitter.com/dog_rates/status/715733265223708672/photo/1',\n       'https://twitter.com/dog_rates/status/710272297844797440/photo/1',\n       'https://twitter.com/dog_rates/status/704859558691414016/photo/1',\n       'https://twitter.com/dog_rates/status/704054845121142784/photo/1',\n       'https://twitter.com/dog_rates/status/703079050210877440/photo/1,https://twitter.com/dog_rates/status/703079050210877440/photo/1',\n       'https://twitter.com/dog_rates/status/703041949650034688/photo/1',\n       'https://twitter.com/dog_rates/status/702539513671897089/photo/1,https://twitter.com/dog_rates/status/702539513671897089/photo/1,https://twitter.com/dog_rates/status/702539513671897089/photo/1',\n       'https://twitter.com/dog_rates/status/700864154249383937/photo/1',\n       'https://twitter.com/dog_rates/status/700747788515020802/photo/1',\n       'https://twitter.com/dog_rates/status/697259378236399616/photo/1',\n       'https://twitter.com/dog_rates/status/695095422348574720/photo/1',\n       'https://twitter.com/dog_rates/status/692187005137076224/photo/1,https://twitter.com/dog_rates/status/692187005137076224/photo/1,https://twitter.com/dog_rates/status/692187005137076224/photo/1',\n       'https://twitter.com/dog_rates/status/690360449368465409/photo/1',\n       'https://twitter.com/dog_rates/status/685943807276412928/video/1',\n       'https://twitter.com/dog_rates/status/681297372102656000/photo/1',\n       'https://twitter.com/dog_rates/status/680085611152338944/photo/1,https://twitter.com/dog_rates/status/680085611152338944/photo/1,https://twitter.com/dog_rates/status/680085611152338944/photo/1',\n       'https://twitter.com/dog_rates/status/679530280114372609/photo/1',\n       'https://twitter.com/dog_rates/status/679111216690831360/video/1',\n       'https://twitter.com/dog_rates/status/677644091929329666/video/1',\n       'https://twitter.com/dog_rates/status/677269281705472000/photo/1',\n       'https://twitter.com/dog_rates/status/676613908052996102/photo/1',\n       'https://twitter.com/dog_rates/status/675706639471788032/photo/1',\n       'https://twitter.com/dog_rates/status/675534494439489536/photo/1',\n       'https://twitter.com/dog_rates/status/675109292475830276/photo/1',\n       'https://twitter.com/dog_rates/status/675047298674663426/photo/1',\n       'https://twitter.com/dog_rates/status/674082852460433408/photo/1',\n       'https://twitter.com/dog_rates/status/673956914389192708/photo/1',\n       'https://twitter.com/dog_rates/status/673715861853720576/photo/1',\n       'https://twitter.com/dog_rates/status/673636718965334016/photo/1',\n       'https://twitter.com/dog_rates/status/672604026190569472/photo/1',\n       'https://twitter.com/dog_rates/status/672482722825261057/photo/1',\n       'https://twitter.com/dog_rates/status/672125275208069120/photo/1',\n       'https://twitter.com/dog_rates/status/671789708968640512/photo/1',\n       'https://twitter.com/dog_rates/status/671743150407421952/photo/1',\n       'https://twitter.com/dog_rates/status/671561002136281088/photo/1',\n       'https://twitter.com/dog_rates/status/671147085991960577/photo/1',\n       'https://twitter.com/dog_rates/status/670427002554466305/photo/1',\n       'https://twitter.com/dog_rates/status/670361874861563904/photo/1',\n       'https://twitter.com/dog_rates/status/670303360680108032/photo/1',\n       'https://twitter.com/dog_rates/status/669923323644657664/photo/1',\n       'https://twitter.com/dog_rates/status/669661792646373376/photo/1',\n       'https://twitter.com/dog_rates/status/669564461267722241/photo/1',\n       'https://twitter.com/dog_rates/status/668955713004314625/photo/1',\n       'https://twitter.com/dog_rates/status/668815180734689280/photo/1',\n       'https://twitter.com/dog_rates/status/668636665813057536/photo/1',\n       'https://twitter.com/dog_rates/status/668614819948453888/photo/1',\n       'https://twitter.com/dog_rates/status/668507509523615744/photo/1',\n       'https://twitter.com/dog_rates/status/668466899341221888/photo/1',\n       'https://twitter.com/dog_rates/status/668171859951755264/photo/1',\n       'https://twitter.com/dog_rates/status/667861340749471744/photo/1',\n       'https://twitter.com/dog_rates/status/667773195014021121/photo/1',\n       'https://twitter.com/dog_rates/status/667538891197542400/photo/1',\n       'https://twitter.com/dog_rates/status/667470559035432960/photo/1',\n       'https://twitter.com/dog_rates/status/667177989038297088/photo/1',\n       'https://twitter.com/dog_rates/status/666983947667116034/photo/1',\n       'https://twitter.com/dog_rates/status/666781792255496192/photo/1',\n       'https://twitter.com/dog_rates/status/666701168228331520/photo/1',\n       'https://twitter.com/dog_rates/status/666411507551481857/photo/1',\n       'https://twitter.com/dog_rates/status/666407126856765440/photo/1',\n       'https://twitter.com/dog_rates/status/666337882303524864/photo/1',\n       'https://twitter.com/dog_rates/status/666293911632134144/photo/1',\n       'https://twitter.com/dog_rates/status/666287406224695296/photo/1',\n       'https://twitter.com/dog_rates/status/666063827256086533/photo/1',\n       'https://twitter.com/dog_rates/status/666058600524156928/photo/1',\n       'https://twitter.com/dog_rates/status/666057090499244032/photo/1',\n       'https://twitter.com/dog_rates/status/666055525042405380/photo/1',\n       'https://twitter.com/dog_rates/status/666051853826850816/photo/1',\n       'https://twitter.com/dog_rates/status/666050758794694657/photo/1',\n       'https://twitter.com/dog_rates/status/666044226329800704/photo/1',\n       'https://twitter.com/dog_rates/status/666033412701032449/photo/1',\n       'https://twitter.com/dog_rates/status/666029285002620928/photo/1'],\n      dtype=object)"
     },
     "metadata": {},
     "execution_count": 338
    }
   ],
   "source": [
    "df_main_cleaned[df_main_cleaned['name'].str.islower()]['expanded_urls'].values"
   ]
  },
  {
   "cell_type": "code",
   "execution_count": 339,
   "metadata": {},
   "outputs": [
    {
     "output_type": "execute_result",
     "data": {
      "text/plain": "a               55\nthe              7\nan               6\nvery             4\none              4\nquite            3\njust             2\ngetting          2\nmy               1\nthis             1\nincredibly       1\nactually         1\nall              1\nofficially       1\nby               1\ninfuriating      1\nlight            1\nsuch             1\nunacceptable     1\nnot              1\nhis              1\nspace            1\nName: name, dtype: int64"
     },
     "metadata": {},
     "execution_count": 339
    }
   ],
   "source": [
    "df_main_cleaned[df_main_cleaned['name'].str.islower()]['name'].value_counts()"
   ]
  },
  {
   "cell_type": "code",
   "execution_count": 340,
   "metadata": {},
   "outputs": [],
   "source": [
    "#df_main_cleaned.drop(df_main_cleaned[df_main_cleaned['name'].str.islower()]['name'].index, inplace=True)\n",
    "\n",
    "for index, row in df_main_cleaned[df_main_cleaned['name'].str.islower()].iterrows():\n",
    "   df_main_cleaned.loc[index, 'name'] = 'None'"
   ]
  },
  {
   "cell_type": "code",
   "execution_count": 341,
   "metadata": {},
   "outputs": [
    {
     "output_type": "execute_result",
     "data": {
      "text/plain": "Series([], Name: name, dtype: int64)"
     },
     "metadata": {},
     "execution_count": 341
    }
   ],
   "source": [
    "df_main_cleaned[df_main_cleaned['name'].str.islower()]['name'].value_counts()"
   ]
  },
  {
   "cell_type": "code",
   "execution_count": 342,
   "metadata": {},
   "outputs": [
    {
     "output_type": "execute_result",
     "data": {
      "text/plain": "None       616\nCharlie     11\nLucy        10\nOliver      10\nCooper      10\n          ... \nIvar         1\nEevee        1\nLili         1\nOreo         1\nBaloo        1\nName: name, Length: 910, dtype: int64"
     },
     "metadata": {},
     "execution_count": 342
    }
   ],
   "source": [
    "df_main_cleaned['name'].value_counts()"
   ]
  },
  {
   "cell_type": "code",
   "execution_count": 343,
   "metadata": {},
   "outputs": [
    {
     "output_type": "execute_result",
     "data": {
      "text/plain": "             tweet_id                 timestamp              source  \\\n0  892420643555336193 2017-08-01 16:23:56+00:00  Twitter for iPhone   \n1  892177421306343426 2017-08-01 00:17:27+00:00  Twitter for iPhone   \n2  891815181378084864 2017-07-31 00:18:03+00:00  Twitter for iPhone   \n3  891689557279858688 2017-07-30 15:58:51+00:00  Twitter for iPhone   \n4  891327558926688256 2017-07-29 16:00:24+00:00  Twitter for iPhone   \n\n                                                text  \\\n0  This is Phineas. He's a mystical boy. Only eve...   \n1  This is Tilly. She's just checking pup on you....   \n2  This is Archie. He is a rare Norwegian Pouncin...   \n3  This is Darla. She commenced a snooze mid meal...   \n4  This is Franklin. He would like you to stop ca...   \n\n                                       expanded_urls  rating_numerator  \\\n0  https://twitter.com/dog_rates/status/892420643...                13   \n1  https://twitter.com/dog_rates/status/892177421...                13   \n2  https://twitter.com/dog_rates/status/891815181...                12   \n3  https://twitter.com/dog_rates/status/891689557...                13   \n4  https://twitter.com/dog_rates/status/891327558...                12   \n\n   rating_denominator      name  retweet_count  favorite_count  \\\n0                  10   Phineas           8853           39467   \n1                  10     Tilly           6514           33819   \n2                  10    Archie           4328           25461   \n3                  10     Darla           8964           42908   \n4                  10  Franklin           9774           41048   \n\n                                           jpg_url  img_num           p1  \\\n0  https://pbs.twimg.com/media/DGKD1-bXoAAIAUK.jpg        1       orange   \n1  https://pbs.twimg.com/media/DGGmoV4XsAAUL6n.jpg        1    Chihuahua   \n2  https://pbs.twimg.com/media/DGBdLU1WsAANxJ9.jpg        1    Chihuahua   \n3  https://pbs.twimg.com/media/DF_q7IAWsAEuuN8.jpg        1  paper_towel   \n4  https://pbs.twimg.com/media/DF6hr6BUMAAzZgT.jpg        2       basset   \n\n    p1_conf p1_dog                  p2   p2_conf p2_dog  \\\n0  0.097049  False               bagel  0.085851  False   \n1  0.323581   True            Pekinese  0.090647   True   \n2  0.716012   True            malamute  0.078253   True   \n3  0.170278  False  Labrador_retriever  0.168086   True   \n4  0.555712   True    English_springer  0.225770   True   \n\n                            p3   p3_conf p3_dog  lower_text_range  \\\n0                       banana  0.076110  False                 0   \n1                     papillon  0.068957   True                 0   \n2                       kelpie  0.031379   True                 0   \n3                      spatula  0.040836  False                 0   \n4  German_short-haired_pointer  0.175219   True                 0   \n\n   upper_text_range dog_type  \n0                85      NaN  \n1               138      NaN  \n2               121      NaN  \n3                79      NaN  \n4               138      NaN  ",
      "text/html": "<div>\n<style scoped>\n    .dataframe tbody tr th:only-of-type {\n        vertical-align: middle;\n    }\n\n    .dataframe tbody tr th {\n        vertical-align: top;\n    }\n\n    .dataframe thead th {\n        text-align: right;\n    }\n</style>\n<table border=\"1\" class=\"dataframe\">\n  <thead>\n    <tr style=\"text-align: right;\">\n      <th></th>\n      <th>tweet_id</th>\n      <th>timestamp</th>\n      <th>source</th>\n      <th>text</th>\n      <th>expanded_urls</th>\n      <th>rating_numerator</th>\n      <th>rating_denominator</th>\n      <th>name</th>\n      <th>retweet_count</th>\n      <th>favorite_count</th>\n      <th>jpg_url</th>\n      <th>img_num</th>\n      <th>p1</th>\n      <th>p1_conf</th>\n      <th>p1_dog</th>\n      <th>p2</th>\n      <th>p2_conf</th>\n      <th>p2_dog</th>\n      <th>p3</th>\n      <th>p3_conf</th>\n      <th>p3_dog</th>\n      <th>lower_text_range</th>\n      <th>upper_text_range</th>\n      <th>dog_type</th>\n    </tr>\n  </thead>\n  <tbody>\n    <tr>\n      <th>0</th>\n      <td>892420643555336193</td>\n      <td>2017-08-01 16:23:56+00:00</td>\n      <td>Twitter for iPhone</td>\n      <td>This is Phineas. He's a mystical boy. Only eve...</td>\n      <td>https://twitter.com/dog_rates/status/892420643...</td>\n      <td>13</td>\n      <td>10</td>\n      <td>Phineas</td>\n      <td>8853</td>\n      <td>39467</td>\n      <td>https://pbs.twimg.com/media/DGKD1-bXoAAIAUK.jpg</td>\n      <td>1</td>\n      <td>orange</td>\n      <td>0.097049</td>\n      <td>False</td>\n      <td>bagel</td>\n      <td>0.085851</td>\n      <td>False</td>\n      <td>banana</td>\n      <td>0.076110</td>\n      <td>False</td>\n      <td>0</td>\n      <td>85</td>\n      <td>NaN</td>\n    </tr>\n    <tr>\n      <th>1</th>\n      <td>892177421306343426</td>\n      <td>2017-08-01 00:17:27+00:00</td>\n      <td>Twitter for iPhone</td>\n      <td>This is Tilly. She's just checking pup on you....</td>\n      <td>https://twitter.com/dog_rates/status/892177421...</td>\n      <td>13</td>\n      <td>10</td>\n      <td>Tilly</td>\n      <td>6514</td>\n      <td>33819</td>\n      <td>https://pbs.twimg.com/media/DGGmoV4XsAAUL6n.jpg</td>\n      <td>1</td>\n      <td>Chihuahua</td>\n      <td>0.323581</td>\n      <td>True</td>\n      <td>Pekinese</td>\n      <td>0.090647</td>\n      <td>True</td>\n      <td>papillon</td>\n      <td>0.068957</td>\n      <td>True</td>\n      <td>0</td>\n      <td>138</td>\n      <td>NaN</td>\n    </tr>\n    <tr>\n      <th>2</th>\n      <td>891815181378084864</td>\n      <td>2017-07-31 00:18:03+00:00</td>\n      <td>Twitter for iPhone</td>\n      <td>This is Archie. He is a rare Norwegian Pouncin...</td>\n      <td>https://twitter.com/dog_rates/status/891815181...</td>\n      <td>12</td>\n      <td>10</td>\n      <td>Archie</td>\n      <td>4328</td>\n      <td>25461</td>\n      <td>https://pbs.twimg.com/media/DGBdLU1WsAANxJ9.jpg</td>\n      <td>1</td>\n      <td>Chihuahua</td>\n      <td>0.716012</td>\n      <td>True</td>\n      <td>malamute</td>\n      <td>0.078253</td>\n      <td>True</td>\n      <td>kelpie</td>\n      <td>0.031379</td>\n      <td>True</td>\n      <td>0</td>\n      <td>121</td>\n      <td>NaN</td>\n    </tr>\n    <tr>\n      <th>3</th>\n      <td>891689557279858688</td>\n      <td>2017-07-30 15:58:51+00:00</td>\n      <td>Twitter for iPhone</td>\n      <td>This is Darla. She commenced a snooze mid meal...</td>\n      <td>https://twitter.com/dog_rates/status/891689557...</td>\n      <td>13</td>\n      <td>10</td>\n      <td>Darla</td>\n      <td>8964</td>\n      <td>42908</td>\n      <td>https://pbs.twimg.com/media/DF_q7IAWsAEuuN8.jpg</td>\n      <td>1</td>\n      <td>paper_towel</td>\n      <td>0.170278</td>\n      <td>False</td>\n      <td>Labrador_retriever</td>\n      <td>0.168086</td>\n      <td>True</td>\n      <td>spatula</td>\n      <td>0.040836</td>\n      <td>False</td>\n      <td>0</td>\n      <td>79</td>\n      <td>NaN</td>\n    </tr>\n    <tr>\n      <th>4</th>\n      <td>891327558926688256</td>\n      <td>2017-07-29 16:00:24+00:00</td>\n      <td>Twitter for iPhone</td>\n      <td>This is Franklin. He would like you to stop ca...</td>\n      <td>https://twitter.com/dog_rates/status/891327558...</td>\n      <td>12</td>\n      <td>10</td>\n      <td>Franklin</td>\n      <td>9774</td>\n      <td>41048</td>\n      <td>https://pbs.twimg.com/media/DF6hr6BUMAAzZgT.jpg</td>\n      <td>2</td>\n      <td>basset</td>\n      <td>0.555712</td>\n      <td>True</td>\n      <td>English_springer</td>\n      <td>0.225770</td>\n      <td>True</td>\n      <td>German_short-haired_pointer</td>\n      <td>0.175219</td>\n      <td>True</td>\n      <td>0</td>\n      <td>138</td>\n      <td>NaN</td>\n    </tr>\n  </tbody>\n</table>\n</div>"
     },
     "metadata": {},
     "execution_count": 343
    }
   ],
   "source": [
    "df_main_cleaned.head()"
   ]
  },
  {
   "cell_type": "code",
   "execution_count": 344,
   "metadata": {},
   "outputs": [
    {
     "output_type": "stream",
     "name": "stdout",
     "text": "<class 'pandas.core.frame.DataFrame'>\nInt64Index: 1961 entries, 0 to 2355\nData columns (total 24 columns):\n #   Column              Non-Null Count  Dtype              \n---  ------              --------------  -----              \n 0   tweet_id            1961 non-null   object             \n 1   timestamp           1961 non-null   datetime64[ns, UTC]\n 2   source              1961 non-null   object             \n 3   text                1961 non-null   object             \n 4   expanded_urls       1961 non-null   object             \n 5   rating_numerator    1961 non-null   int64              \n 6   rating_denominator  1961 non-null   int64              \n 7   name                1961 non-null   object             \n 8   retweet_count       1961 non-null   int64              \n 9   favorite_count      1961 non-null   int64              \n 10  jpg_url             1961 non-null   object             \n 11  img_num             1961 non-null   int64              \n 12  p1                  1961 non-null   object             \n 13  p1_conf             1961 non-null   float64            \n 14  p1_dog              1961 non-null   object             \n 15  p2                  1961 non-null   object             \n 16  p2_conf             1961 non-null   float64            \n 17  p2_dog              1961 non-null   object             \n 18  p3                  1961 non-null   object             \n 19  p3_conf             1961 non-null   float64            \n 20  p3_dog              1961 non-null   object             \n 21  lower_text_range    1961 non-null   int64              \n 22  upper_text_range    1961 non-null   int64              \n 23  dog_type            293 non-null    object             \ndtypes: datetime64[ns, UTC](1), float64(3), int64(7), object(13)\nmemory usage: 463.0+ KB\n"
    }
   ],
   "source": [
    "df_main_cleaned.info()"
   ]
  },
  {
   "cell_type": "markdown",
   "metadata": {},
   "source": [
    "**8. Just use the column with the highest % and the respective prediction - TIDINESS ISSUE!**"
   ]
  },
  {
   "cell_type": "code",
   "execution_count": 345,
   "metadata": {},
   "outputs": [
    {
     "output_type": "execute_result",
     "data": {
      "text/plain": "Empty DataFrame\nColumns: [tweet_id, timestamp, source, text, expanded_urls, rating_numerator, rating_denominator, name, retweet_count, favorite_count, jpg_url, img_num, p1, p1_conf, p1_dog, p2, p2_conf, p2_dog, p3, p3_conf, p3_dog, lower_text_range, upper_text_range, dog_type]\nIndex: []",
      "text/html": "<div>\n<style scoped>\n    .dataframe tbody tr th:only-of-type {\n        vertical-align: middle;\n    }\n\n    .dataframe tbody tr th {\n        vertical-align: top;\n    }\n\n    .dataframe thead th {\n        text-align: right;\n    }\n</style>\n<table border=\"1\" class=\"dataframe\">\n  <thead>\n    <tr style=\"text-align: right;\">\n      <th></th>\n      <th>tweet_id</th>\n      <th>timestamp</th>\n      <th>source</th>\n      <th>text</th>\n      <th>expanded_urls</th>\n      <th>rating_numerator</th>\n      <th>rating_denominator</th>\n      <th>name</th>\n      <th>retweet_count</th>\n      <th>favorite_count</th>\n      <th>jpg_url</th>\n      <th>img_num</th>\n      <th>p1</th>\n      <th>p1_conf</th>\n      <th>p1_dog</th>\n      <th>p2</th>\n      <th>p2_conf</th>\n      <th>p2_dog</th>\n      <th>p3</th>\n      <th>p3_conf</th>\n      <th>p3_dog</th>\n      <th>lower_text_range</th>\n      <th>upper_text_range</th>\n      <th>dog_type</th>\n    </tr>\n  </thead>\n  <tbody>\n  </tbody>\n</table>\n</div>"
     },
     "metadata": {},
     "execution_count": 345
    }
   ],
   "source": [
    "df_main_cleaned.query(\"p2_conf > p1_conf\")"
   ]
  },
  {
   "cell_type": "code",
   "execution_count": 346,
   "metadata": {},
   "outputs": [
    {
     "output_type": "execute_result",
     "data": {
      "text/plain": "Empty DataFrame\nColumns: [tweet_id, timestamp, source, text, expanded_urls, rating_numerator, rating_denominator, name, retweet_count, favorite_count, jpg_url, img_num, p1, p1_conf, p1_dog, p2, p2_conf, p2_dog, p3, p3_conf, p3_dog, lower_text_range, upper_text_range, dog_type]\nIndex: []",
      "text/html": "<div>\n<style scoped>\n    .dataframe tbody tr th:only-of-type {\n        vertical-align: middle;\n    }\n\n    .dataframe tbody tr th {\n        vertical-align: top;\n    }\n\n    .dataframe thead th {\n        text-align: right;\n    }\n</style>\n<table border=\"1\" class=\"dataframe\">\n  <thead>\n    <tr style=\"text-align: right;\">\n      <th></th>\n      <th>tweet_id</th>\n      <th>timestamp</th>\n      <th>source</th>\n      <th>text</th>\n      <th>expanded_urls</th>\n      <th>rating_numerator</th>\n      <th>rating_denominator</th>\n      <th>name</th>\n      <th>retweet_count</th>\n      <th>favorite_count</th>\n      <th>jpg_url</th>\n      <th>img_num</th>\n      <th>p1</th>\n      <th>p1_conf</th>\n      <th>p1_dog</th>\n      <th>p2</th>\n      <th>p2_conf</th>\n      <th>p2_dog</th>\n      <th>p3</th>\n      <th>p3_conf</th>\n      <th>p3_dog</th>\n      <th>lower_text_range</th>\n      <th>upper_text_range</th>\n      <th>dog_type</th>\n    </tr>\n  </thead>\n  <tbody>\n  </tbody>\n</table>\n</div>"
     },
     "metadata": {},
     "execution_count": 346
    }
   ],
   "source": [
    "df_main_cleaned.query(\"p3_conf > p1_conf\")"
   ]
  },
  {
   "cell_type": "code",
   "execution_count": 347,
   "metadata": {
    "scrolled": true
   },
   "outputs": [
    {
     "output_type": "execute_result",
     "data": {
      "text/plain": "Empty DataFrame\nColumns: [tweet_id, timestamp, source, text, expanded_urls, rating_numerator, rating_denominator, name, retweet_count, favorite_count, jpg_url, img_num, p1, p1_conf, p1_dog, p2, p2_conf, p2_dog, p3, p3_conf, p3_dog, lower_text_range, upper_text_range, dog_type]\nIndex: []",
      "text/html": "<div>\n<style scoped>\n    .dataframe tbody tr th:only-of-type {\n        vertical-align: middle;\n    }\n\n    .dataframe tbody tr th {\n        vertical-align: top;\n    }\n\n    .dataframe thead th {\n        text-align: right;\n    }\n</style>\n<table border=\"1\" class=\"dataframe\">\n  <thead>\n    <tr style=\"text-align: right;\">\n      <th></th>\n      <th>tweet_id</th>\n      <th>timestamp</th>\n      <th>source</th>\n      <th>text</th>\n      <th>expanded_urls</th>\n      <th>rating_numerator</th>\n      <th>rating_denominator</th>\n      <th>name</th>\n      <th>retweet_count</th>\n      <th>favorite_count</th>\n      <th>jpg_url</th>\n      <th>img_num</th>\n      <th>p1</th>\n      <th>p1_conf</th>\n      <th>p1_dog</th>\n      <th>p2</th>\n      <th>p2_conf</th>\n      <th>p2_dog</th>\n      <th>p3</th>\n      <th>p3_conf</th>\n      <th>p3_dog</th>\n      <th>lower_text_range</th>\n      <th>upper_text_range</th>\n      <th>dog_type</th>\n    </tr>\n  </thead>\n  <tbody>\n  </tbody>\n</table>\n</div>"
     },
     "metadata": {},
     "execution_count": 347
    }
   ],
   "source": [
    "df_main_cleaned.query(\"p3_conf > p2_conf\")"
   ]
  },
  {
   "cell_type": "markdown",
   "metadata": {},
   "source": [
    "Checking the order of the columns - seems like it is ordered from p1 to p3. But the highest prediction % doesn't always mean that it's really a dog (3rd record has p1 as a paper_towel and p2 as a Labrador_retriever for example)."
   ]
  },
  {
   "cell_type": "code",
   "execution_count": 348,
   "metadata": {},
   "outputs": [],
   "source": [
    "# This is not plagiarized, it is just a very common way to solve problems like this. Before I had it like this:\n",
    "# https://stackoverflow.com/questions/48872234/using-apply-in-pandas-lambda-functions-with-multiple-if-statements\n",
    "# That solution of course is very unclean and a quick google search led to this solution. This is not some niche solution nobody gets, it's very common on the internet.\n",
    "\n",
    "def get_correct_breed(x):\n",
    "    if x[0] == True:\n",
    "        return x[1]\n",
    "    elif x[2] == True:\n",
    "        return x[3]\n",
    "    else:\n",
    "        return x[4]\n",
    "    \n",
    "df_main_cleaned[\"breed\"] = df_main_cleaned[[\"p1_dog\", \"p1\", \"p2_dog\", \"p2\", \"p3\"]].apply(get_correct_breed, axis = 1)\n",
    "df_main_cleaned[\"conf\"] = df_main_cleaned[[\"p1_dog\", \"p1_conf\", \"p2_dog\", \"p2_conf\", \"p3_conf\"]].apply(get_correct_breed, axis = 1)"
   ]
  },
  {
   "cell_type": "code",
   "execution_count": 349,
   "metadata": {},
   "outputs": [
    {
     "output_type": "execute_result",
     "data": {
      "text/plain": "                          p1   p1_conf p1_dog                  p2   p2_conf  \\\n0                     orange  0.097049  False               bagel  0.085851   \n1                  Chihuahua  0.323581   True            Pekinese  0.090647   \n2                  Chihuahua  0.716012   True            malamute  0.078253   \n3                paper_towel  0.170278  False  Labrador_retriever  0.168086   \n4                     basset  0.555712   True    English_springer  0.225770   \n...                      ...       ...    ...                 ...       ...   \n2351      miniature_pinscher  0.560311   True          Rottweiler  0.243682   \n2352     Rhodesian_ridgeback  0.408143   True             redbone  0.360687   \n2353         German_shepherd  0.596461   True            malinois  0.138584   \n2354                 redbone  0.506826   True  miniature_pinscher  0.074192   \n2355  Welsh_springer_spaniel  0.465074   True              collie  0.156665   \n\n     p2_dog                           p3   p3_conf p3_dog  lower_text_range  \\\n0     False                       banana  0.076110  False                 0   \n1      True                     papillon  0.068957   True                 0   \n2      True                       kelpie  0.031379   True                 0   \n3      True                      spatula  0.040836  False                 0   \n4      True  German_short-haired_pointer  0.175219   True                 0   \n...     ...                          ...       ...    ...               ...   \n2351   True                     Doberman  0.154629   True                 0   \n2352   True           miniature_pinscher  0.222752   True                 0   \n2353   True                   bloodhound  0.116197   True                 0   \n2354   True          Rhodesian_ridgeback  0.072010   True                 0   \n2355   True            Shetland_sheepdog  0.061428   True                 0   \n\n      upper_text_range dog_type                   breed      conf  \n0                   85      NaN                  banana  0.076110  \n1                  138      NaN               Chihuahua  0.323581  \n2                  121      NaN               Chihuahua  0.716012  \n3                   79      NaN      Labrador_retriever  0.168086  \n4                  138      NaN                  basset  0.555712  \n...                ...      ...                     ...       ...  \n2351               120      NaN      miniature_pinscher  0.560311  \n2352               137      NaN     Rhodesian_ridgeback  0.408143  \n2353               130      NaN         German_shepherd  0.596461  \n2354               139      NaN                 redbone  0.506826  \n2355               131      NaN  Welsh_springer_spaniel  0.465074  \n\n[1961 rows x 14 columns]",
      "text/html": "<div>\n<style scoped>\n    .dataframe tbody tr th:only-of-type {\n        vertical-align: middle;\n    }\n\n    .dataframe tbody tr th {\n        vertical-align: top;\n    }\n\n    .dataframe thead th {\n        text-align: right;\n    }\n</style>\n<table border=\"1\" class=\"dataframe\">\n  <thead>\n    <tr style=\"text-align: right;\">\n      <th></th>\n      <th>p1</th>\n      <th>p1_conf</th>\n      <th>p1_dog</th>\n      <th>p2</th>\n      <th>p2_conf</th>\n      <th>p2_dog</th>\n      <th>p3</th>\n      <th>p3_conf</th>\n      <th>p3_dog</th>\n      <th>lower_text_range</th>\n      <th>upper_text_range</th>\n      <th>dog_type</th>\n      <th>breed</th>\n      <th>conf</th>\n    </tr>\n  </thead>\n  <tbody>\n    <tr>\n      <th>0</th>\n      <td>orange</td>\n      <td>0.097049</td>\n      <td>False</td>\n      <td>bagel</td>\n      <td>0.085851</td>\n      <td>False</td>\n      <td>banana</td>\n      <td>0.076110</td>\n      <td>False</td>\n      <td>0</td>\n      <td>85</td>\n      <td>NaN</td>\n      <td>banana</td>\n      <td>0.076110</td>\n    </tr>\n    <tr>\n      <th>1</th>\n      <td>Chihuahua</td>\n      <td>0.323581</td>\n      <td>True</td>\n      <td>Pekinese</td>\n      <td>0.090647</td>\n      <td>True</td>\n      <td>papillon</td>\n      <td>0.068957</td>\n      <td>True</td>\n      <td>0</td>\n      <td>138</td>\n      <td>NaN</td>\n      <td>Chihuahua</td>\n      <td>0.323581</td>\n    </tr>\n    <tr>\n      <th>2</th>\n      <td>Chihuahua</td>\n      <td>0.716012</td>\n      <td>True</td>\n      <td>malamute</td>\n      <td>0.078253</td>\n      <td>True</td>\n      <td>kelpie</td>\n      <td>0.031379</td>\n      <td>True</td>\n      <td>0</td>\n      <td>121</td>\n      <td>NaN</td>\n      <td>Chihuahua</td>\n      <td>0.716012</td>\n    </tr>\n    <tr>\n      <th>3</th>\n      <td>paper_towel</td>\n      <td>0.170278</td>\n      <td>False</td>\n      <td>Labrador_retriever</td>\n      <td>0.168086</td>\n      <td>True</td>\n      <td>spatula</td>\n      <td>0.040836</td>\n      <td>False</td>\n      <td>0</td>\n      <td>79</td>\n      <td>NaN</td>\n      <td>Labrador_retriever</td>\n      <td>0.168086</td>\n    </tr>\n    <tr>\n      <th>4</th>\n      <td>basset</td>\n      <td>0.555712</td>\n      <td>True</td>\n      <td>English_springer</td>\n      <td>0.225770</td>\n      <td>True</td>\n      <td>German_short-haired_pointer</td>\n      <td>0.175219</td>\n      <td>True</td>\n      <td>0</td>\n      <td>138</td>\n      <td>NaN</td>\n      <td>basset</td>\n      <td>0.555712</td>\n    </tr>\n    <tr>\n      <th>...</th>\n      <td>...</td>\n      <td>...</td>\n      <td>...</td>\n      <td>...</td>\n      <td>...</td>\n      <td>...</td>\n      <td>...</td>\n      <td>...</td>\n      <td>...</td>\n      <td>...</td>\n      <td>...</td>\n      <td>...</td>\n      <td>...</td>\n      <td>...</td>\n    </tr>\n    <tr>\n      <th>2351</th>\n      <td>miniature_pinscher</td>\n      <td>0.560311</td>\n      <td>True</td>\n      <td>Rottweiler</td>\n      <td>0.243682</td>\n      <td>True</td>\n      <td>Doberman</td>\n      <td>0.154629</td>\n      <td>True</td>\n      <td>0</td>\n      <td>120</td>\n      <td>NaN</td>\n      <td>miniature_pinscher</td>\n      <td>0.560311</td>\n    </tr>\n    <tr>\n      <th>2352</th>\n      <td>Rhodesian_ridgeback</td>\n      <td>0.408143</td>\n      <td>True</td>\n      <td>redbone</td>\n      <td>0.360687</td>\n      <td>True</td>\n      <td>miniature_pinscher</td>\n      <td>0.222752</td>\n      <td>True</td>\n      <td>0</td>\n      <td>137</td>\n      <td>NaN</td>\n      <td>Rhodesian_ridgeback</td>\n      <td>0.408143</td>\n    </tr>\n    <tr>\n      <th>2353</th>\n      <td>German_shepherd</td>\n      <td>0.596461</td>\n      <td>True</td>\n      <td>malinois</td>\n      <td>0.138584</td>\n      <td>True</td>\n      <td>bloodhound</td>\n      <td>0.116197</td>\n      <td>True</td>\n      <td>0</td>\n      <td>130</td>\n      <td>NaN</td>\n      <td>German_shepherd</td>\n      <td>0.596461</td>\n    </tr>\n    <tr>\n      <th>2354</th>\n      <td>redbone</td>\n      <td>0.506826</td>\n      <td>True</td>\n      <td>miniature_pinscher</td>\n      <td>0.074192</td>\n      <td>True</td>\n      <td>Rhodesian_ridgeback</td>\n      <td>0.072010</td>\n      <td>True</td>\n      <td>0</td>\n      <td>139</td>\n      <td>NaN</td>\n      <td>redbone</td>\n      <td>0.506826</td>\n    </tr>\n    <tr>\n      <th>2355</th>\n      <td>Welsh_springer_spaniel</td>\n      <td>0.465074</td>\n      <td>True</td>\n      <td>collie</td>\n      <td>0.156665</td>\n      <td>True</td>\n      <td>Shetland_sheepdog</td>\n      <td>0.061428</td>\n      <td>True</td>\n      <td>0</td>\n      <td>131</td>\n      <td>NaN</td>\n      <td>Welsh_springer_spaniel</td>\n      <td>0.465074</td>\n    </tr>\n  </tbody>\n</table>\n<p>1961 rows × 14 columns</p>\n</div>"
     },
     "metadata": {},
     "execution_count": 349
    }
   ],
   "source": [
    "df_main_cleaned.iloc[:, 12:]"
   ]
  },
  {
   "cell_type": "code",
   "execution_count": 350,
   "metadata": {},
   "outputs": [],
   "source": [
    "df_main_cleaned.drop(df_main_cleaned.columns[12:21], inplace = True, axis = 1)"
   ]
  },
  {
   "cell_type": "code",
   "execution_count": 351,
   "metadata": {},
   "outputs": [
    {
     "output_type": "execute_result",
     "data": {
      "text/plain": "             tweet_id                 timestamp              source  \\\n0  892420643555336193 2017-08-01 16:23:56+00:00  Twitter for iPhone   \n1  892177421306343426 2017-08-01 00:17:27+00:00  Twitter for iPhone   \n2  891815181378084864 2017-07-31 00:18:03+00:00  Twitter for iPhone   \n3  891689557279858688 2017-07-30 15:58:51+00:00  Twitter for iPhone   \n4  891327558926688256 2017-07-29 16:00:24+00:00  Twitter for iPhone   \n\n                                                text  \\\n0  This is Phineas. He's a mystical boy. Only eve...   \n1  This is Tilly. She's just checking pup on you....   \n2  This is Archie. He is a rare Norwegian Pouncin...   \n3  This is Darla. She commenced a snooze mid meal...   \n4  This is Franklin. He would like you to stop ca...   \n\n                                       expanded_urls  rating_numerator  \\\n0  https://twitter.com/dog_rates/status/892420643...                13   \n1  https://twitter.com/dog_rates/status/892177421...                13   \n2  https://twitter.com/dog_rates/status/891815181...                12   \n3  https://twitter.com/dog_rates/status/891689557...                13   \n4  https://twitter.com/dog_rates/status/891327558...                12   \n\n   rating_denominator      name  retweet_count  favorite_count  \\\n0                  10   Phineas           8853           39467   \n1                  10     Tilly           6514           33819   \n2                  10    Archie           4328           25461   \n3                  10     Darla           8964           42908   \n4                  10  Franklin           9774           41048   \n\n                                           jpg_url  img_num  lower_text_range  \\\n0  https://pbs.twimg.com/media/DGKD1-bXoAAIAUK.jpg        1                 0   \n1  https://pbs.twimg.com/media/DGGmoV4XsAAUL6n.jpg        1                 0   \n2  https://pbs.twimg.com/media/DGBdLU1WsAANxJ9.jpg        1                 0   \n3  https://pbs.twimg.com/media/DF_q7IAWsAEuuN8.jpg        1                 0   \n4  https://pbs.twimg.com/media/DF6hr6BUMAAzZgT.jpg        2                 0   \n\n   upper_text_range dog_type               breed      conf  \n0                85      NaN              banana  0.076110  \n1               138      NaN           Chihuahua  0.323581  \n2               121      NaN           Chihuahua  0.716012  \n3                79      NaN  Labrador_retriever  0.168086  \n4               138      NaN              basset  0.555712  ",
      "text/html": "<div>\n<style scoped>\n    .dataframe tbody tr th:only-of-type {\n        vertical-align: middle;\n    }\n\n    .dataframe tbody tr th {\n        vertical-align: top;\n    }\n\n    .dataframe thead th {\n        text-align: right;\n    }\n</style>\n<table border=\"1\" class=\"dataframe\">\n  <thead>\n    <tr style=\"text-align: right;\">\n      <th></th>\n      <th>tweet_id</th>\n      <th>timestamp</th>\n      <th>source</th>\n      <th>text</th>\n      <th>expanded_urls</th>\n      <th>rating_numerator</th>\n      <th>rating_denominator</th>\n      <th>name</th>\n      <th>retweet_count</th>\n      <th>favorite_count</th>\n      <th>jpg_url</th>\n      <th>img_num</th>\n      <th>lower_text_range</th>\n      <th>upper_text_range</th>\n      <th>dog_type</th>\n      <th>breed</th>\n      <th>conf</th>\n    </tr>\n  </thead>\n  <tbody>\n    <tr>\n      <th>0</th>\n      <td>892420643555336193</td>\n      <td>2017-08-01 16:23:56+00:00</td>\n      <td>Twitter for iPhone</td>\n      <td>This is Phineas. He's a mystical boy. Only eve...</td>\n      <td>https://twitter.com/dog_rates/status/892420643...</td>\n      <td>13</td>\n      <td>10</td>\n      <td>Phineas</td>\n      <td>8853</td>\n      <td>39467</td>\n      <td>https://pbs.twimg.com/media/DGKD1-bXoAAIAUK.jpg</td>\n      <td>1</td>\n      <td>0</td>\n      <td>85</td>\n      <td>NaN</td>\n      <td>banana</td>\n      <td>0.076110</td>\n    </tr>\n    <tr>\n      <th>1</th>\n      <td>892177421306343426</td>\n      <td>2017-08-01 00:17:27+00:00</td>\n      <td>Twitter for iPhone</td>\n      <td>This is Tilly. She's just checking pup on you....</td>\n      <td>https://twitter.com/dog_rates/status/892177421...</td>\n      <td>13</td>\n      <td>10</td>\n      <td>Tilly</td>\n      <td>6514</td>\n      <td>33819</td>\n      <td>https://pbs.twimg.com/media/DGGmoV4XsAAUL6n.jpg</td>\n      <td>1</td>\n      <td>0</td>\n      <td>138</td>\n      <td>NaN</td>\n      <td>Chihuahua</td>\n      <td>0.323581</td>\n    </tr>\n    <tr>\n      <th>2</th>\n      <td>891815181378084864</td>\n      <td>2017-07-31 00:18:03+00:00</td>\n      <td>Twitter for iPhone</td>\n      <td>This is Archie. He is a rare Norwegian Pouncin...</td>\n      <td>https://twitter.com/dog_rates/status/891815181...</td>\n      <td>12</td>\n      <td>10</td>\n      <td>Archie</td>\n      <td>4328</td>\n      <td>25461</td>\n      <td>https://pbs.twimg.com/media/DGBdLU1WsAANxJ9.jpg</td>\n      <td>1</td>\n      <td>0</td>\n      <td>121</td>\n      <td>NaN</td>\n      <td>Chihuahua</td>\n      <td>0.716012</td>\n    </tr>\n    <tr>\n      <th>3</th>\n      <td>891689557279858688</td>\n      <td>2017-07-30 15:58:51+00:00</td>\n      <td>Twitter for iPhone</td>\n      <td>This is Darla. She commenced a snooze mid meal...</td>\n      <td>https://twitter.com/dog_rates/status/891689557...</td>\n      <td>13</td>\n      <td>10</td>\n      <td>Darla</td>\n      <td>8964</td>\n      <td>42908</td>\n      <td>https://pbs.twimg.com/media/DF_q7IAWsAEuuN8.jpg</td>\n      <td>1</td>\n      <td>0</td>\n      <td>79</td>\n      <td>NaN</td>\n      <td>Labrador_retriever</td>\n      <td>0.168086</td>\n    </tr>\n    <tr>\n      <th>4</th>\n      <td>891327558926688256</td>\n      <td>2017-07-29 16:00:24+00:00</td>\n      <td>Twitter for iPhone</td>\n      <td>This is Franklin. He would like you to stop ca...</td>\n      <td>https://twitter.com/dog_rates/status/891327558...</td>\n      <td>12</td>\n      <td>10</td>\n      <td>Franklin</td>\n      <td>9774</td>\n      <td>41048</td>\n      <td>https://pbs.twimg.com/media/DF6hr6BUMAAzZgT.jpg</td>\n      <td>2</td>\n      <td>0</td>\n      <td>138</td>\n      <td>NaN</td>\n      <td>basset</td>\n      <td>0.555712</td>\n    </tr>\n  </tbody>\n</table>\n</div>"
     },
     "metadata": {},
     "execution_count": 351
    }
   ],
   "source": [
    "df_main_cleaned.head()"
   ]
  },
  {
   "cell_type": "markdown",
   "metadata": {},
   "source": [
    "We've correctly extracted the prediction with the highest chance now (and of course checked if it's a dog)."
   ]
  },
  {
   "cell_type": "markdown",
   "metadata": {},
   "source": [
    "**9. Standardize the breeds, because some are uppercase - QUALITY ISSUE!**"
   ]
  },
  {
   "cell_type": "code",
   "execution_count": 352,
   "metadata": {},
   "outputs": [],
   "source": [
    "df_main_cleaned['breed'] = df_main_cleaned['breed'].str.lower()"
   ]
  },
  {
   "cell_type": "code",
   "execution_count": 353,
   "metadata": {},
   "outputs": [
    {
     "output_type": "execute_result",
     "data": {
      "text/plain": "boathouse      1\ncommon_newt    1\nchain          1\nsiamese_cat    1\nplunger        1\ntiti           1\nblack_swan     1\ngrand_piano    1\nhammerhead     1\nseashore       1\nName: breed, dtype: int64"
     },
     "metadata": {},
     "execution_count": 353
    }
   ],
   "source": [
    "df_main_cleaned['breed'].value_counts().tail(10)"
   ]
  },
  {
   "cell_type": "code",
   "execution_count": 354,
   "metadata": {},
   "outputs": [
    {
     "output_type": "execute_result",
     "data": {
      "text/plain": "              tweet_id                 timestamp              source  \\\n0   892420643555336193 2017-08-01 16:23:56+00:00  Twitter for iPhone   \n1   892177421306343426 2017-08-01 00:17:27+00:00  Twitter for iPhone   \n2   891815181378084864 2017-07-31 00:18:03+00:00  Twitter for iPhone   \n3   891689557279858688 2017-07-30 15:58:51+00:00  Twitter for iPhone   \n4   891327558926688256 2017-07-29 16:00:24+00:00  Twitter for iPhone   \n5   891087950875897856 2017-07-29 00:08:17+00:00  Twitter for iPhone   \n6   890971913173991426 2017-07-28 16:27:12+00:00  Twitter for iPhone   \n7   890729181411237888 2017-07-28 00:22:40+00:00  Twitter for iPhone   \n8   890609185150312448 2017-07-27 16:25:51+00:00  Twitter for iPhone   \n9   890240255349198849 2017-07-26 15:59:51+00:00  Twitter for iPhone   \n10  890006608113172480 2017-07-26 00:31:25+00:00  Twitter for iPhone   \n11  889880896479866881 2017-07-25 16:11:53+00:00  Twitter for iPhone   \n12  889665388333682689 2017-07-25 01:55:32+00:00  Twitter for iPhone   \n13  889638837579907072 2017-07-25 00:10:02+00:00  Twitter for iPhone   \n14  889531135344209921 2017-07-24 17:02:04+00:00  Twitter for iPhone   \n15  889278841981685760 2017-07-24 00:19:32+00:00  Twitter for iPhone   \n16  888917238123831296 2017-07-23 00:22:39+00:00  Twitter for iPhone   \n17  888804989199671297 2017-07-22 16:56:37+00:00  Twitter for iPhone   \n18  888554962724278272 2017-07-22 00:23:06+00:00  Twitter for iPhone   \n20  888078434458587136 2017-07-20 16:49:33+00:00  Twitter for iPhone   \n\n                                                 text  \\\n0   This is Phineas. He's a mystical boy. Only eve...   \n1   This is Tilly. She's just checking pup on you....   \n2   This is Archie. He is a rare Norwegian Pouncin...   \n3   This is Darla. She commenced a snooze mid meal...   \n4   This is Franklin. He would like you to stop ca...   \n5   Here we have a majestic great white breaching ...   \n6   Meet Jax. He enjoys ice cream so much he gets ...   \n7   When you watch your owner call another dog a g...   \n8   This is Zoey. She doesn't want to be one of th...   \n9   This is Cassie. She is a college pup. Studying...   \n10  This is Koda. He is a South Australian decksha...   \n11  This is Bruno. He is a service shark. Only get...   \n12  Here's a puppo that seems to be on the fence a...   \n13  This is Ted. He does his best. Sometimes that'...   \n14  This is Stuart. He's sporting his favorite fan...   \n15  This is Oliver. You're witnessing one of his m...   \n16  This is Jim. He found a fren. Taught him how t...   \n17  This is Zeke. He has a new stick. Very proud o...   \n18  This is Ralphus. He's powering up. Attempting ...   \n20  This is Gerald. He was just told he didn't get...   \n\n                                        expanded_urls  rating_numerator  \\\n0   https://twitter.com/dog_rates/status/892420643...                13   \n1   https://twitter.com/dog_rates/status/892177421...                13   \n2   https://twitter.com/dog_rates/status/891815181...                12   \n3   https://twitter.com/dog_rates/status/891689557...                13   \n4   https://twitter.com/dog_rates/status/891327558...                12   \n5   https://twitter.com/dog_rates/status/891087950...                13   \n6   https://gofundme.com/ydvmve-surgery-for-jax,ht...                13   \n7   https://twitter.com/dog_rates/status/890729181...                13   \n8   https://twitter.com/dog_rates/status/890609185...                13   \n9   https://twitter.com/dog_rates/status/890240255...                14   \n10  https://twitter.com/dog_rates/status/890006608...                13   \n11  https://twitter.com/dog_rates/status/889880896...                13   \n12  https://twitter.com/dog_rates/status/889665388...                13   \n13  https://twitter.com/dog_rates/status/889638837...                12   \n14  https://twitter.com/dog_rates/status/889531135...                13   \n15  https://twitter.com/dog_rates/status/889278841...                13   \n16  https://twitter.com/dog_rates/status/888917238...                12   \n17  https://twitter.com/dog_rates/status/888804989...                13   \n18  https://twitter.com/dog_rates/status/888554962...                13   \n20  https://twitter.com/dog_rates/status/888078434...                12   \n\n    rating_denominator      name  retweet_count  favorite_count  \\\n0                   10   Phineas           8853           39467   \n1                   10     Tilly           6514           33819   \n2                   10    Archie           4328           25461   \n3                   10     Darla           8964           42908   \n4                   10  Franklin           9774           41048   \n5                   10      None           3261           20562   \n6                   10       Jax           2158           12041   \n7                   10      None          16716           56848   \n8                   10      Zoey           4429           28226   \n9                   10    Cassie           7711           32467   \n10                  10      Koda           7624           31166   \n11                  10     Bruno           5156           28268   \n12                  10      None           8538           38818   \n13                  10       Ted           4735           27672   \n14                  10    Stuart           2321           15359   \n15                  10    Oliver           5637           25652   \n16                  10       Jim           4709           29611   \n17                  10      Zeke           4559           26080   \n18                  10   Ralphus           3732           20290   \n20                  10    Gerald           3653           22201   \n\n                                              jpg_url  img_num  \\\n0     https://pbs.twimg.com/media/DGKD1-bXoAAIAUK.jpg        1   \n1     https://pbs.twimg.com/media/DGGmoV4XsAAUL6n.jpg        1   \n2     https://pbs.twimg.com/media/DGBdLU1WsAANxJ9.jpg        1   \n3     https://pbs.twimg.com/media/DF_q7IAWsAEuuN8.jpg        1   \n4     https://pbs.twimg.com/media/DF6hr6BUMAAzZgT.jpg        2   \n5     https://pbs.twimg.com/media/DF3HwyEWsAABqE6.jpg        1   \n6     https://pbs.twimg.com/media/DF1eOmZXUAALUcq.jpg        1   \n7     https://pbs.twimg.com/media/DFyBahAVwAAhUTd.jpg        2   \n8     https://pbs.twimg.com/media/DFwUU__XcAEpyXI.jpg        1   \n9     https://pbs.twimg.com/media/DFrEyVuW0AAO3t9.jpg        1   \n10    https://pbs.twimg.com/media/DFnwSY4WAAAMliS.jpg        1   \n11    https://pbs.twimg.com/media/DFl99B1WsAITKsg.jpg        1   \n12    https://pbs.twimg.com/media/DFi579UWsAAatzw.jpg        1   \n13    https://pbs.twimg.com/media/DFihzFfXsAYGDPR.jpg        1   \n14    https://pbs.twimg.com/media/DFg_2PVW0AEHN3p.jpg        1   \n15  https://pbs.twimg.com/ext_tw_video_thumb/88927...        1   \n16    https://pbs.twimg.com/media/DFYRgsOUQAARGhO.jpg        1   \n17    https://pbs.twimg.com/media/DFWra-3VYAA2piG.jpg        1   \n18    https://pbs.twimg.com/media/DFTH_O-UQAACu20.jpg        3   \n20    https://pbs.twimg.com/media/DFMWn56WsAAkA7B.jpg        1   \n\n    lower_text_range  upper_text_range dog_type                     breed  \\\n0                  0                85      NaN                    banana   \n1                  0               138      NaN                 chihuahua   \n2                  0               121      NaN                 chihuahua   \n3                  0                79      NaN        labrador_retriever   \n4                  0               138      NaN                    basset   \n5                  0               138      NaN  chesapeake_bay_retriever   \n6                  0               140      NaN               appenzeller   \n7                  0               118      NaN                pomeranian   \n8                  0               122      NaN             irish_terrier   \n9                  0               133    doggo                  pembroke   \n10                 0               130      NaN                   samoyed   \n11                 0               107      NaN            french_bulldog   \n12                 0               106    puppo                  pembroke   \n13                 0                91      NaN            french_bulldog   \n14                 0               118    puppo          golden_retriever   \n15                 0               138      NaN                   whippet   \n16                 0                86      NaN          golden_retriever   \n17                 0               128      NaN          golden_retriever   \n18                 0                87      NaN            siberian_husky   \n20                 0               127      NaN            french_bulldog   \n\n        conf  \n0   0.076110  \n1   0.323581  \n2   0.716012  \n3   0.168086  \n4   0.555712  \n5   0.425595  \n6   0.341703  \n7   0.566142  \n8   0.487574  \n9   0.511319  \n10  0.957979  \n11  0.377417  \n12  0.966327  \n13  0.991650  \n14  0.953442  \n15  0.626152  \n16  0.714719  \n17  0.469760  \n18  0.700377  \n20  0.995026  ",
      "text/html": "<div>\n<style scoped>\n    .dataframe tbody tr th:only-of-type {\n        vertical-align: middle;\n    }\n\n    .dataframe tbody tr th {\n        vertical-align: top;\n    }\n\n    .dataframe thead th {\n        text-align: right;\n    }\n</style>\n<table border=\"1\" class=\"dataframe\">\n  <thead>\n    <tr style=\"text-align: right;\">\n      <th></th>\n      <th>tweet_id</th>\n      <th>timestamp</th>\n      <th>source</th>\n      <th>text</th>\n      <th>expanded_urls</th>\n      <th>rating_numerator</th>\n      <th>rating_denominator</th>\n      <th>name</th>\n      <th>retweet_count</th>\n      <th>favorite_count</th>\n      <th>jpg_url</th>\n      <th>img_num</th>\n      <th>lower_text_range</th>\n      <th>upper_text_range</th>\n      <th>dog_type</th>\n      <th>breed</th>\n      <th>conf</th>\n    </tr>\n  </thead>\n  <tbody>\n    <tr>\n      <th>0</th>\n      <td>892420643555336193</td>\n      <td>2017-08-01 16:23:56+00:00</td>\n      <td>Twitter for iPhone</td>\n      <td>This is Phineas. He's a mystical boy. Only eve...</td>\n      <td>https://twitter.com/dog_rates/status/892420643...</td>\n      <td>13</td>\n      <td>10</td>\n      <td>Phineas</td>\n      <td>8853</td>\n      <td>39467</td>\n      <td>https://pbs.twimg.com/media/DGKD1-bXoAAIAUK.jpg</td>\n      <td>1</td>\n      <td>0</td>\n      <td>85</td>\n      <td>NaN</td>\n      <td>banana</td>\n      <td>0.076110</td>\n    </tr>\n    <tr>\n      <th>1</th>\n      <td>892177421306343426</td>\n      <td>2017-08-01 00:17:27+00:00</td>\n      <td>Twitter for iPhone</td>\n      <td>This is Tilly. She's just checking pup on you....</td>\n      <td>https://twitter.com/dog_rates/status/892177421...</td>\n      <td>13</td>\n      <td>10</td>\n      <td>Tilly</td>\n      <td>6514</td>\n      <td>33819</td>\n      <td>https://pbs.twimg.com/media/DGGmoV4XsAAUL6n.jpg</td>\n      <td>1</td>\n      <td>0</td>\n      <td>138</td>\n      <td>NaN</td>\n      <td>chihuahua</td>\n      <td>0.323581</td>\n    </tr>\n    <tr>\n      <th>2</th>\n      <td>891815181378084864</td>\n      <td>2017-07-31 00:18:03+00:00</td>\n      <td>Twitter for iPhone</td>\n      <td>This is Archie. He is a rare Norwegian Pouncin...</td>\n      <td>https://twitter.com/dog_rates/status/891815181...</td>\n      <td>12</td>\n      <td>10</td>\n      <td>Archie</td>\n      <td>4328</td>\n      <td>25461</td>\n      <td>https://pbs.twimg.com/media/DGBdLU1WsAANxJ9.jpg</td>\n      <td>1</td>\n      <td>0</td>\n      <td>121</td>\n      <td>NaN</td>\n      <td>chihuahua</td>\n      <td>0.716012</td>\n    </tr>\n    <tr>\n      <th>3</th>\n      <td>891689557279858688</td>\n      <td>2017-07-30 15:58:51+00:00</td>\n      <td>Twitter for iPhone</td>\n      <td>This is Darla. She commenced a snooze mid meal...</td>\n      <td>https://twitter.com/dog_rates/status/891689557...</td>\n      <td>13</td>\n      <td>10</td>\n      <td>Darla</td>\n      <td>8964</td>\n      <td>42908</td>\n      <td>https://pbs.twimg.com/media/DF_q7IAWsAEuuN8.jpg</td>\n      <td>1</td>\n      <td>0</td>\n      <td>79</td>\n      <td>NaN</td>\n      <td>labrador_retriever</td>\n      <td>0.168086</td>\n    </tr>\n    <tr>\n      <th>4</th>\n      <td>891327558926688256</td>\n      <td>2017-07-29 16:00:24+00:00</td>\n      <td>Twitter for iPhone</td>\n      <td>This is Franklin. He would like you to stop ca...</td>\n      <td>https://twitter.com/dog_rates/status/891327558...</td>\n      <td>12</td>\n      <td>10</td>\n      <td>Franklin</td>\n      <td>9774</td>\n      <td>41048</td>\n      <td>https://pbs.twimg.com/media/DF6hr6BUMAAzZgT.jpg</td>\n      <td>2</td>\n      <td>0</td>\n      <td>138</td>\n      <td>NaN</td>\n      <td>basset</td>\n      <td>0.555712</td>\n    </tr>\n    <tr>\n      <th>5</th>\n      <td>891087950875897856</td>\n      <td>2017-07-29 00:08:17+00:00</td>\n      <td>Twitter for iPhone</td>\n      <td>Here we have a majestic great white breaching ...</td>\n      <td>https://twitter.com/dog_rates/status/891087950...</td>\n      <td>13</td>\n      <td>10</td>\n      <td>None</td>\n      <td>3261</td>\n      <td>20562</td>\n      <td>https://pbs.twimg.com/media/DF3HwyEWsAABqE6.jpg</td>\n      <td>1</td>\n      <td>0</td>\n      <td>138</td>\n      <td>NaN</td>\n      <td>chesapeake_bay_retriever</td>\n      <td>0.425595</td>\n    </tr>\n    <tr>\n      <th>6</th>\n      <td>890971913173991426</td>\n      <td>2017-07-28 16:27:12+00:00</td>\n      <td>Twitter for iPhone</td>\n      <td>Meet Jax. He enjoys ice cream so much he gets ...</td>\n      <td>https://gofundme.com/ydvmve-surgery-for-jax,ht...</td>\n      <td>13</td>\n      <td>10</td>\n      <td>Jax</td>\n      <td>2158</td>\n      <td>12041</td>\n      <td>https://pbs.twimg.com/media/DF1eOmZXUAALUcq.jpg</td>\n      <td>1</td>\n      <td>0</td>\n      <td>140</td>\n      <td>NaN</td>\n      <td>appenzeller</td>\n      <td>0.341703</td>\n    </tr>\n    <tr>\n      <th>7</th>\n      <td>890729181411237888</td>\n      <td>2017-07-28 00:22:40+00:00</td>\n      <td>Twitter for iPhone</td>\n      <td>When you watch your owner call another dog a g...</td>\n      <td>https://twitter.com/dog_rates/status/890729181...</td>\n      <td>13</td>\n      <td>10</td>\n      <td>None</td>\n      <td>16716</td>\n      <td>56848</td>\n      <td>https://pbs.twimg.com/media/DFyBahAVwAAhUTd.jpg</td>\n      <td>2</td>\n      <td>0</td>\n      <td>118</td>\n      <td>NaN</td>\n      <td>pomeranian</td>\n      <td>0.566142</td>\n    </tr>\n    <tr>\n      <th>8</th>\n      <td>890609185150312448</td>\n      <td>2017-07-27 16:25:51+00:00</td>\n      <td>Twitter for iPhone</td>\n      <td>This is Zoey. She doesn't want to be one of th...</td>\n      <td>https://twitter.com/dog_rates/status/890609185...</td>\n      <td>13</td>\n      <td>10</td>\n      <td>Zoey</td>\n      <td>4429</td>\n      <td>28226</td>\n      <td>https://pbs.twimg.com/media/DFwUU__XcAEpyXI.jpg</td>\n      <td>1</td>\n      <td>0</td>\n      <td>122</td>\n      <td>NaN</td>\n      <td>irish_terrier</td>\n      <td>0.487574</td>\n    </tr>\n    <tr>\n      <th>9</th>\n      <td>890240255349198849</td>\n      <td>2017-07-26 15:59:51+00:00</td>\n      <td>Twitter for iPhone</td>\n      <td>This is Cassie. She is a college pup. Studying...</td>\n      <td>https://twitter.com/dog_rates/status/890240255...</td>\n      <td>14</td>\n      <td>10</td>\n      <td>Cassie</td>\n      <td>7711</td>\n      <td>32467</td>\n      <td>https://pbs.twimg.com/media/DFrEyVuW0AAO3t9.jpg</td>\n      <td>1</td>\n      <td>0</td>\n      <td>133</td>\n      <td>doggo</td>\n      <td>pembroke</td>\n      <td>0.511319</td>\n    </tr>\n    <tr>\n      <th>10</th>\n      <td>890006608113172480</td>\n      <td>2017-07-26 00:31:25+00:00</td>\n      <td>Twitter for iPhone</td>\n      <td>This is Koda. He is a South Australian decksha...</td>\n      <td>https://twitter.com/dog_rates/status/890006608...</td>\n      <td>13</td>\n      <td>10</td>\n      <td>Koda</td>\n      <td>7624</td>\n      <td>31166</td>\n      <td>https://pbs.twimg.com/media/DFnwSY4WAAAMliS.jpg</td>\n      <td>1</td>\n      <td>0</td>\n      <td>130</td>\n      <td>NaN</td>\n      <td>samoyed</td>\n      <td>0.957979</td>\n    </tr>\n    <tr>\n      <th>11</th>\n      <td>889880896479866881</td>\n      <td>2017-07-25 16:11:53+00:00</td>\n      <td>Twitter for iPhone</td>\n      <td>This is Bruno. He is a service shark. Only get...</td>\n      <td>https://twitter.com/dog_rates/status/889880896...</td>\n      <td>13</td>\n      <td>10</td>\n      <td>Bruno</td>\n      <td>5156</td>\n      <td>28268</td>\n      <td>https://pbs.twimg.com/media/DFl99B1WsAITKsg.jpg</td>\n      <td>1</td>\n      <td>0</td>\n      <td>107</td>\n      <td>NaN</td>\n      <td>french_bulldog</td>\n      <td>0.377417</td>\n    </tr>\n    <tr>\n      <th>12</th>\n      <td>889665388333682689</td>\n      <td>2017-07-25 01:55:32+00:00</td>\n      <td>Twitter for iPhone</td>\n      <td>Here's a puppo that seems to be on the fence a...</td>\n      <td>https://twitter.com/dog_rates/status/889665388...</td>\n      <td>13</td>\n      <td>10</td>\n      <td>None</td>\n      <td>8538</td>\n      <td>38818</td>\n      <td>https://pbs.twimg.com/media/DFi579UWsAAatzw.jpg</td>\n      <td>1</td>\n      <td>0</td>\n      <td>106</td>\n      <td>puppo</td>\n      <td>pembroke</td>\n      <td>0.966327</td>\n    </tr>\n    <tr>\n      <th>13</th>\n      <td>889638837579907072</td>\n      <td>2017-07-25 00:10:02+00:00</td>\n      <td>Twitter for iPhone</td>\n      <td>This is Ted. He does his best. Sometimes that'...</td>\n      <td>https://twitter.com/dog_rates/status/889638837...</td>\n      <td>12</td>\n      <td>10</td>\n      <td>Ted</td>\n      <td>4735</td>\n      <td>27672</td>\n      <td>https://pbs.twimg.com/media/DFihzFfXsAYGDPR.jpg</td>\n      <td>1</td>\n      <td>0</td>\n      <td>91</td>\n      <td>NaN</td>\n      <td>french_bulldog</td>\n      <td>0.991650</td>\n    </tr>\n    <tr>\n      <th>14</th>\n      <td>889531135344209921</td>\n      <td>2017-07-24 17:02:04+00:00</td>\n      <td>Twitter for iPhone</td>\n      <td>This is Stuart. He's sporting his favorite fan...</td>\n      <td>https://twitter.com/dog_rates/status/889531135...</td>\n      <td>13</td>\n      <td>10</td>\n      <td>Stuart</td>\n      <td>2321</td>\n      <td>15359</td>\n      <td>https://pbs.twimg.com/media/DFg_2PVW0AEHN3p.jpg</td>\n      <td>1</td>\n      <td>0</td>\n      <td>118</td>\n      <td>puppo</td>\n      <td>golden_retriever</td>\n      <td>0.953442</td>\n    </tr>\n    <tr>\n      <th>15</th>\n      <td>889278841981685760</td>\n      <td>2017-07-24 00:19:32+00:00</td>\n      <td>Twitter for iPhone</td>\n      <td>This is Oliver. You're witnessing one of his m...</td>\n      <td>https://twitter.com/dog_rates/status/889278841...</td>\n      <td>13</td>\n      <td>10</td>\n      <td>Oliver</td>\n      <td>5637</td>\n      <td>25652</td>\n      <td>https://pbs.twimg.com/ext_tw_video_thumb/88927...</td>\n      <td>1</td>\n      <td>0</td>\n      <td>138</td>\n      <td>NaN</td>\n      <td>whippet</td>\n      <td>0.626152</td>\n    </tr>\n    <tr>\n      <th>16</th>\n      <td>888917238123831296</td>\n      <td>2017-07-23 00:22:39+00:00</td>\n      <td>Twitter for iPhone</td>\n      <td>This is Jim. He found a fren. Taught him how t...</td>\n      <td>https://twitter.com/dog_rates/status/888917238...</td>\n      <td>12</td>\n      <td>10</td>\n      <td>Jim</td>\n      <td>4709</td>\n      <td>29611</td>\n      <td>https://pbs.twimg.com/media/DFYRgsOUQAARGhO.jpg</td>\n      <td>1</td>\n      <td>0</td>\n      <td>86</td>\n      <td>NaN</td>\n      <td>golden_retriever</td>\n      <td>0.714719</td>\n    </tr>\n    <tr>\n      <th>17</th>\n      <td>888804989199671297</td>\n      <td>2017-07-22 16:56:37+00:00</td>\n      <td>Twitter for iPhone</td>\n      <td>This is Zeke. He has a new stick. Very proud o...</td>\n      <td>https://twitter.com/dog_rates/status/888804989...</td>\n      <td>13</td>\n      <td>10</td>\n      <td>Zeke</td>\n      <td>4559</td>\n      <td>26080</td>\n      <td>https://pbs.twimg.com/media/DFWra-3VYAA2piG.jpg</td>\n      <td>1</td>\n      <td>0</td>\n      <td>128</td>\n      <td>NaN</td>\n      <td>golden_retriever</td>\n      <td>0.469760</td>\n    </tr>\n    <tr>\n      <th>18</th>\n      <td>888554962724278272</td>\n      <td>2017-07-22 00:23:06+00:00</td>\n      <td>Twitter for iPhone</td>\n      <td>This is Ralphus. He's powering up. Attempting ...</td>\n      <td>https://twitter.com/dog_rates/status/888554962...</td>\n      <td>13</td>\n      <td>10</td>\n      <td>Ralphus</td>\n      <td>3732</td>\n      <td>20290</td>\n      <td>https://pbs.twimg.com/media/DFTH_O-UQAACu20.jpg</td>\n      <td>3</td>\n      <td>0</td>\n      <td>87</td>\n      <td>NaN</td>\n      <td>siberian_husky</td>\n      <td>0.700377</td>\n    </tr>\n    <tr>\n      <th>20</th>\n      <td>888078434458587136</td>\n      <td>2017-07-20 16:49:33+00:00</td>\n      <td>Twitter for iPhone</td>\n      <td>This is Gerald. He was just told he didn't get...</td>\n      <td>https://twitter.com/dog_rates/status/888078434...</td>\n      <td>12</td>\n      <td>10</td>\n      <td>Gerald</td>\n      <td>3653</td>\n      <td>22201</td>\n      <td>https://pbs.twimg.com/media/DFMWn56WsAAkA7B.jpg</td>\n      <td>1</td>\n      <td>0</td>\n      <td>127</td>\n      <td>NaN</td>\n      <td>french_bulldog</td>\n      <td>0.995026</td>\n    </tr>\n  </tbody>\n</table>\n</div>"
     },
     "metadata": {},
     "execution_count": 354
    }
   ],
   "source": [
    "df_main_cleaned.head(20)"
   ]
  },
  {
   "cell_type": "code",
   "execution_count": 355,
   "metadata": {},
   "outputs": [],
   "source": [
    "df_main_cleaned.reset_index(drop = True, inplace = True)"
   ]
  },
  {
   "cell_type": "code",
   "execution_count": 356,
   "metadata": {},
   "outputs": [
    {
     "output_type": "execute_result",
     "data": {
      "text/plain": "              tweet_id                 timestamp              source  \\\n0   892420643555336193 2017-08-01 16:23:56+00:00  Twitter for iPhone   \n1   892177421306343426 2017-08-01 00:17:27+00:00  Twitter for iPhone   \n2   891815181378084864 2017-07-31 00:18:03+00:00  Twitter for iPhone   \n3   891689557279858688 2017-07-30 15:58:51+00:00  Twitter for iPhone   \n4   891327558926688256 2017-07-29 16:00:24+00:00  Twitter for iPhone   \n5   891087950875897856 2017-07-29 00:08:17+00:00  Twitter for iPhone   \n6   890971913173991426 2017-07-28 16:27:12+00:00  Twitter for iPhone   \n7   890729181411237888 2017-07-28 00:22:40+00:00  Twitter for iPhone   \n8   890609185150312448 2017-07-27 16:25:51+00:00  Twitter for iPhone   \n9   890240255349198849 2017-07-26 15:59:51+00:00  Twitter for iPhone   \n10  890006608113172480 2017-07-26 00:31:25+00:00  Twitter for iPhone   \n11  889880896479866881 2017-07-25 16:11:53+00:00  Twitter for iPhone   \n12  889665388333682689 2017-07-25 01:55:32+00:00  Twitter for iPhone   \n13  889638837579907072 2017-07-25 00:10:02+00:00  Twitter for iPhone   \n14  889531135344209921 2017-07-24 17:02:04+00:00  Twitter for iPhone   \n15  889278841981685760 2017-07-24 00:19:32+00:00  Twitter for iPhone   \n16  888917238123831296 2017-07-23 00:22:39+00:00  Twitter for iPhone   \n17  888804989199671297 2017-07-22 16:56:37+00:00  Twitter for iPhone   \n18  888554962724278272 2017-07-22 00:23:06+00:00  Twitter for iPhone   \n19  888078434458587136 2017-07-20 16:49:33+00:00  Twitter for iPhone   \n\n                                                 text  \\\n0   This is Phineas. He's a mystical boy. Only eve...   \n1   This is Tilly. She's just checking pup on you....   \n2   This is Archie. He is a rare Norwegian Pouncin...   \n3   This is Darla. She commenced a snooze mid meal...   \n4   This is Franklin. He would like you to stop ca...   \n5   Here we have a majestic great white breaching ...   \n6   Meet Jax. He enjoys ice cream so much he gets ...   \n7   When you watch your owner call another dog a g...   \n8   This is Zoey. She doesn't want to be one of th...   \n9   This is Cassie. She is a college pup. Studying...   \n10  This is Koda. He is a South Australian decksha...   \n11  This is Bruno. He is a service shark. Only get...   \n12  Here's a puppo that seems to be on the fence a...   \n13  This is Ted. He does his best. Sometimes that'...   \n14  This is Stuart. He's sporting his favorite fan...   \n15  This is Oliver. You're witnessing one of his m...   \n16  This is Jim. He found a fren. Taught him how t...   \n17  This is Zeke. He has a new stick. Very proud o...   \n18  This is Ralphus. He's powering up. Attempting ...   \n19  This is Gerald. He was just told he didn't get...   \n\n                                        expanded_urls  rating_numerator  \\\n0   https://twitter.com/dog_rates/status/892420643...                13   \n1   https://twitter.com/dog_rates/status/892177421...                13   \n2   https://twitter.com/dog_rates/status/891815181...                12   \n3   https://twitter.com/dog_rates/status/891689557...                13   \n4   https://twitter.com/dog_rates/status/891327558...                12   \n5   https://twitter.com/dog_rates/status/891087950...                13   \n6   https://gofundme.com/ydvmve-surgery-for-jax,ht...                13   \n7   https://twitter.com/dog_rates/status/890729181...                13   \n8   https://twitter.com/dog_rates/status/890609185...                13   \n9   https://twitter.com/dog_rates/status/890240255...                14   \n10  https://twitter.com/dog_rates/status/890006608...                13   \n11  https://twitter.com/dog_rates/status/889880896...                13   \n12  https://twitter.com/dog_rates/status/889665388...                13   \n13  https://twitter.com/dog_rates/status/889638837...                12   \n14  https://twitter.com/dog_rates/status/889531135...                13   \n15  https://twitter.com/dog_rates/status/889278841...                13   \n16  https://twitter.com/dog_rates/status/888917238...                12   \n17  https://twitter.com/dog_rates/status/888804989...                13   \n18  https://twitter.com/dog_rates/status/888554962...                13   \n19  https://twitter.com/dog_rates/status/888078434...                12   \n\n    rating_denominator      name  retweet_count  favorite_count  \\\n0                   10   Phineas           8853           39467   \n1                   10     Tilly           6514           33819   \n2                   10    Archie           4328           25461   \n3                   10     Darla           8964           42908   \n4                   10  Franklin           9774           41048   \n5                   10      None           3261           20562   \n6                   10       Jax           2158           12041   \n7                   10      None          16716           56848   \n8                   10      Zoey           4429           28226   \n9                   10    Cassie           7711           32467   \n10                  10      Koda           7624           31166   \n11                  10     Bruno           5156           28268   \n12                  10      None           8538           38818   \n13                  10       Ted           4735           27672   \n14                  10    Stuart           2321           15359   \n15                  10    Oliver           5637           25652   \n16                  10       Jim           4709           29611   \n17                  10      Zeke           4559           26080   \n18                  10   Ralphus           3732           20290   \n19                  10    Gerald           3653           22201   \n\n                                              jpg_url  img_num  \\\n0     https://pbs.twimg.com/media/DGKD1-bXoAAIAUK.jpg        1   \n1     https://pbs.twimg.com/media/DGGmoV4XsAAUL6n.jpg        1   \n2     https://pbs.twimg.com/media/DGBdLU1WsAANxJ9.jpg        1   \n3     https://pbs.twimg.com/media/DF_q7IAWsAEuuN8.jpg        1   \n4     https://pbs.twimg.com/media/DF6hr6BUMAAzZgT.jpg        2   \n5     https://pbs.twimg.com/media/DF3HwyEWsAABqE6.jpg        1   \n6     https://pbs.twimg.com/media/DF1eOmZXUAALUcq.jpg        1   \n7     https://pbs.twimg.com/media/DFyBahAVwAAhUTd.jpg        2   \n8     https://pbs.twimg.com/media/DFwUU__XcAEpyXI.jpg        1   \n9     https://pbs.twimg.com/media/DFrEyVuW0AAO3t9.jpg        1   \n10    https://pbs.twimg.com/media/DFnwSY4WAAAMliS.jpg        1   \n11    https://pbs.twimg.com/media/DFl99B1WsAITKsg.jpg        1   \n12    https://pbs.twimg.com/media/DFi579UWsAAatzw.jpg        1   \n13    https://pbs.twimg.com/media/DFihzFfXsAYGDPR.jpg        1   \n14    https://pbs.twimg.com/media/DFg_2PVW0AEHN3p.jpg        1   \n15  https://pbs.twimg.com/ext_tw_video_thumb/88927...        1   \n16    https://pbs.twimg.com/media/DFYRgsOUQAARGhO.jpg        1   \n17    https://pbs.twimg.com/media/DFWra-3VYAA2piG.jpg        1   \n18    https://pbs.twimg.com/media/DFTH_O-UQAACu20.jpg        3   \n19    https://pbs.twimg.com/media/DFMWn56WsAAkA7B.jpg        1   \n\n    lower_text_range  upper_text_range dog_type                     breed  \\\n0                  0                85      NaN                    banana   \n1                  0               138      NaN                 chihuahua   \n2                  0               121      NaN                 chihuahua   \n3                  0                79      NaN        labrador_retriever   \n4                  0               138      NaN                    basset   \n5                  0               138      NaN  chesapeake_bay_retriever   \n6                  0               140      NaN               appenzeller   \n7                  0               118      NaN                pomeranian   \n8                  0               122      NaN             irish_terrier   \n9                  0               133    doggo                  pembroke   \n10                 0               130      NaN                   samoyed   \n11                 0               107      NaN            french_bulldog   \n12                 0               106    puppo                  pembroke   \n13                 0                91      NaN            french_bulldog   \n14                 0               118    puppo          golden_retriever   \n15                 0               138      NaN                   whippet   \n16                 0                86      NaN          golden_retriever   \n17                 0               128      NaN          golden_retriever   \n18                 0                87      NaN            siberian_husky   \n19                 0               127      NaN            french_bulldog   \n\n        conf  \n0   0.076110  \n1   0.323581  \n2   0.716012  \n3   0.168086  \n4   0.555712  \n5   0.425595  \n6   0.341703  \n7   0.566142  \n8   0.487574  \n9   0.511319  \n10  0.957979  \n11  0.377417  \n12  0.966327  \n13  0.991650  \n14  0.953442  \n15  0.626152  \n16  0.714719  \n17  0.469760  \n18  0.700377  \n19  0.995026  ",
      "text/html": "<div>\n<style scoped>\n    .dataframe tbody tr th:only-of-type {\n        vertical-align: middle;\n    }\n\n    .dataframe tbody tr th {\n        vertical-align: top;\n    }\n\n    .dataframe thead th {\n        text-align: right;\n    }\n</style>\n<table border=\"1\" class=\"dataframe\">\n  <thead>\n    <tr style=\"text-align: right;\">\n      <th></th>\n      <th>tweet_id</th>\n      <th>timestamp</th>\n      <th>source</th>\n      <th>text</th>\n      <th>expanded_urls</th>\n      <th>rating_numerator</th>\n      <th>rating_denominator</th>\n      <th>name</th>\n      <th>retweet_count</th>\n      <th>favorite_count</th>\n      <th>jpg_url</th>\n      <th>img_num</th>\n      <th>lower_text_range</th>\n      <th>upper_text_range</th>\n      <th>dog_type</th>\n      <th>breed</th>\n      <th>conf</th>\n    </tr>\n  </thead>\n  <tbody>\n    <tr>\n      <th>0</th>\n      <td>892420643555336193</td>\n      <td>2017-08-01 16:23:56+00:00</td>\n      <td>Twitter for iPhone</td>\n      <td>This is Phineas. He's a mystical boy. Only eve...</td>\n      <td>https://twitter.com/dog_rates/status/892420643...</td>\n      <td>13</td>\n      <td>10</td>\n      <td>Phineas</td>\n      <td>8853</td>\n      <td>39467</td>\n      <td>https://pbs.twimg.com/media/DGKD1-bXoAAIAUK.jpg</td>\n      <td>1</td>\n      <td>0</td>\n      <td>85</td>\n      <td>NaN</td>\n      <td>banana</td>\n      <td>0.076110</td>\n    </tr>\n    <tr>\n      <th>1</th>\n      <td>892177421306343426</td>\n      <td>2017-08-01 00:17:27+00:00</td>\n      <td>Twitter for iPhone</td>\n      <td>This is Tilly. She's just checking pup on you....</td>\n      <td>https://twitter.com/dog_rates/status/892177421...</td>\n      <td>13</td>\n      <td>10</td>\n      <td>Tilly</td>\n      <td>6514</td>\n      <td>33819</td>\n      <td>https://pbs.twimg.com/media/DGGmoV4XsAAUL6n.jpg</td>\n      <td>1</td>\n      <td>0</td>\n      <td>138</td>\n      <td>NaN</td>\n      <td>chihuahua</td>\n      <td>0.323581</td>\n    </tr>\n    <tr>\n      <th>2</th>\n      <td>891815181378084864</td>\n      <td>2017-07-31 00:18:03+00:00</td>\n      <td>Twitter for iPhone</td>\n      <td>This is Archie. He is a rare Norwegian Pouncin...</td>\n      <td>https://twitter.com/dog_rates/status/891815181...</td>\n      <td>12</td>\n      <td>10</td>\n      <td>Archie</td>\n      <td>4328</td>\n      <td>25461</td>\n      <td>https://pbs.twimg.com/media/DGBdLU1WsAANxJ9.jpg</td>\n      <td>1</td>\n      <td>0</td>\n      <td>121</td>\n      <td>NaN</td>\n      <td>chihuahua</td>\n      <td>0.716012</td>\n    </tr>\n    <tr>\n      <th>3</th>\n      <td>891689557279858688</td>\n      <td>2017-07-30 15:58:51+00:00</td>\n      <td>Twitter for iPhone</td>\n      <td>This is Darla. She commenced a snooze mid meal...</td>\n      <td>https://twitter.com/dog_rates/status/891689557...</td>\n      <td>13</td>\n      <td>10</td>\n      <td>Darla</td>\n      <td>8964</td>\n      <td>42908</td>\n      <td>https://pbs.twimg.com/media/DF_q7IAWsAEuuN8.jpg</td>\n      <td>1</td>\n      <td>0</td>\n      <td>79</td>\n      <td>NaN</td>\n      <td>labrador_retriever</td>\n      <td>0.168086</td>\n    </tr>\n    <tr>\n      <th>4</th>\n      <td>891327558926688256</td>\n      <td>2017-07-29 16:00:24+00:00</td>\n      <td>Twitter for iPhone</td>\n      <td>This is Franklin. He would like you to stop ca...</td>\n      <td>https://twitter.com/dog_rates/status/891327558...</td>\n      <td>12</td>\n      <td>10</td>\n      <td>Franklin</td>\n      <td>9774</td>\n      <td>41048</td>\n      <td>https://pbs.twimg.com/media/DF6hr6BUMAAzZgT.jpg</td>\n      <td>2</td>\n      <td>0</td>\n      <td>138</td>\n      <td>NaN</td>\n      <td>basset</td>\n      <td>0.555712</td>\n    </tr>\n    <tr>\n      <th>5</th>\n      <td>891087950875897856</td>\n      <td>2017-07-29 00:08:17+00:00</td>\n      <td>Twitter for iPhone</td>\n      <td>Here we have a majestic great white breaching ...</td>\n      <td>https://twitter.com/dog_rates/status/891087950...</td>\n      <td>13</td>\n      <td>10</td>\n      <td>None</td>\n      <td>3261</td>\n      <td>20562</td>\n      <td>https://pbs.twimg.com/media/DF3HwyEWsAABqE6.jpg</td>\n      <td>1</td>\n      <td>0</td>\n      <td>138</td>\n      <td>NaN</td>\n      <td>chesapeake_bay_retriever</td>\n      <td>0.425595</td>\n    </tr>\n    <tr>\n      <th>6</th>\n      <td>890971913173991426</td>\n      <td>2017-07-28 16:27:12+00:00</td>\n      <td>Twitter for iPhone</td>\n      <td>Meet Jax. He enjoys ice cream so much he gets ...</td>\n      <td>https://gofundme.com/ydvmve-surgery-for-jax,ht...</td>\n      <td>13</td>\n      <td>10</td>\n      <td>Jax</td>\n      <td>2158</td>\n      <td>12041</td>\n      <td>https://pbs.twimg.com/media/DF1eOmZXUAALUcq.jpg</td>\n      <td>1</td>\n      <td>0</td>\n      <td>140</td>\n      <td>NaN</td>\n      <td>appenzeller</td>\n      <td>0.341703</td>\n    </tr>\n    <tr>\n      <th>7</th>\n      <td>890729181411237888</td>\n      <td>2017-07-28 00:22:40+00:00</td>\n      <td>Twitter for iPhone</td>\n      <td>When you watch your owner call another dog a g...</td>\n      <td>https://twitter.com/dog_rates/status/890729181...</td>\n      <td>13</td>\n      <td>10</td>\n      <td>None</td>\n      <td>16716</td>\n      <td>56848</td>\n      <td>https://pbs.twimg.com/media/DFyBahAVwAAhUTd.jpg</td>\n      <td>2</td>\n      <td>0</td>\n      <td>118</td>\n      <td>NaN</td>\n      <td>pomeranian</td>\n      <td>0.566142</td>\n    </tr>\n    <tr>\n      <th>8</th>\n      <td>890609185150312448</td>\n      <td>2017-07-27 16:25:51+00:00</td>\n      <td>Twitter for iPhone</td>\n      <td>This is Zoey. She doesn't want to be one of th...</td>\n      <td>https://twitter.com/dog_rates/status/890609185...</td>\n      <td>13</td>\n      <td>10</td>\n      <td>Zoey</td>\n      <td>4429</td>\n      <td>28226</td>\n      <td>https://pbs.twimg.com/media/DFwUU__XcAEpyXI.jpg</td>\n      <td>1</td>\n      <td>0</td>\n      <td>122</td>\n      <td>NaN</td>\n      <td>irish_terrier</td>\n      <td>0.487574</td>\n    </tr>\n    <tr>\n      <th>9</th>\n      <td>890240255349198849</td>\n      <td>2017-07-26 15:59:51+00:00</td>\n      <td>Twitter for iPhone</td>\n      <td>This is Cassie. She is a college pup. Studying...</td>\n      <td>https://twitter.com/dog_rates/status/890240255...</td>\n      <td>14</td>\n      <td>10</td>\n      <td>Cassie</td>\n      <td>7711</td>\n      <td>32467</td>\n      <td>https://pbs.twimg.com/media/DFrEyVuW0AAO3t9.jpg</td>\n      <td>1</td>\n      <td>0</td>\n      <td>133</td>\n      <td>doggo</td>\n      <td>pembroke</td>\n      <td>0.511319</td>\n    </tr>\n    <tr>\n      <th>10</th>\n      <td>890006608113172480</td>\n      <td>2017-07-26 00:31:25+00:00</td>\n      <td>Twitter for iPhone</td>\n      <td>This is Koda. He is a South Australian decksha...</td>\n      <td>https://twitter.com/dog_rates/status/890006608...</td>\n      <td>13</td>\n      <td>10</td>\n      <td>Koda</td>\n      <td>7624</td>\n      <td>31166</td>\n      <td>https://pbs.twimg.com/media/DFnwSY4WAAAMliS.jpg</td>\n      <td>1</td>\n      <td>0</td>\n      <td>130</td>\n      <td>NaN</td>\n      <td>samoyed</td>\n      <td>0.957979</td>\n    </tr>\n    <tr>\n      <th>11</th>\n      <td>889880896479866881</td>\n      <td>2017-07-25 16:11:53+00:00</td>\n      <td>Twitter for iPhone</td>\n      <td>This is Bruno. He is a service shark. Only get...</td>\n      <td>https://twitter.com/dog_rates/status/889880896...</td>\n      <td>13</td>\n      <td>10</td>\n      <td>Bruno</td>\n      <td>5156</td>\n      <td>28268</td>\n      <td>https://pbs.twimg.com/media/DFl99B1WsAITKsg.jpg</td>\n      <td>1</td>\n      <td>0</td>\n      <td>107</td>\n      <td>NaN</td>\n      <td>french_bulldog</td>\n      <td>0.377417</td>\n    </tr>\n    <tr>\n      <th>12</th>\n      <td>889665388333682689</td>\n      <td>2017-07-25 01:55:32+00:00</td>\n      <td>Twitter for iPhone</td>\n      <td>Here's a puppo that seems to be on the fence a...</td>\n      <td>https://twitter.com/dog_rates/status/889665388...</td>\n      <td>13</td>\n      <td>10</td>\n      <td>None</td>\n      <td>8538</td>\n      <td>38818</td>\n      <td>https://pbs.twimg.com/media/DFi579UWsAAatzw.jpg</td>\n      <td>1</td>\n      <td>0</td>\n      <td>106</td>\n      <td>puppo</td>\n      <td>pembroke</td>\n      <td>0.966327</td>\n    </tr>\n    <tr>\n      <th>13</th>\n      <td>889638837579907072</td>\n      <td>2017-07-25 00:10:02+00:00</td>\n      <td>Twitter for iPhone</td>\n      <td>This is Ted. He does his best. Sometimes that'...</td>\n      <td>https://twitter.com/dog_rates/status/889638837...</td>\n      <td>12</td>\n      <td>10</td>\n      <td>Ted</td>\n      <td>4735</td>\n      <td>27672</td>\n      <td>https://pbs.twimg.com/media/DFihzFfXsAYGDPR.jpg</td>\n      <td>1</td>\n      <td>0</td>\n      <td>91</td>\n      <td>NaN</td>\n      <td>french_bulldog</td>\n      <td>0.991650</td>\n    </tr>\n    <tr>\n      <th>14</th>\n      <td>889531135344209921</td>\n      <td>2017-07-24 17:02:04+00:00</td>\n      <td>Twitter for iPhone</td>\n      <td>This is Stuart. He's sporting his favorite fan...</td>\n      <td>https://twitter.com/dog_rates/status/889531135...</td>\n      <td>13</td>\n      <td>10</td>\n      <td>Stuart</td>\n      <td>2321</td>\n      <td>15359</td>\n      <td>https://pbs.twimg.com/media/DFg_2PVW0AEHN3p.jpg</td>\n      <td>1</td>\n      <td>0</td>\n      <td>118</td>\n      <td>puppo</td>\n      <td>golden_retriever</td>\n      <td>0.953442</td>\n    </tr>\n    <tr>\n      <th>15</th>\n      <td>889278841981685760</td>\n      <td>2017-07-24 00:19:32+00:00</td>\n      <td>Twitter for iPhone</td>\n      <td>This is Oliver. You're witnessing one of his m...</td>\n      <td>https://twitter.com/dog_rates/status/889278841...</td>\n      <td>13</td>\n      <td>10</td>\n      <td>Oliver</td>\n      <td>5637</td>\n      <td>25652</td>\n      <td>https://pbs.twimg.com/ext_tw_video_thumb/88927...</td>\n      <td>1</td>\n      <td>0</td>\n      <td>138</td>\n      <td>NaN</td>\n      <td>whippet</td>\n      <td>0.626152</td>\n    </tr>\n    <tr>\n      <th>16</th>\n      <td>888917238123831296</td>\n      <td>2017-07-23 00:22:39+00:00</td>\n      <td>Twitter for iPhone</td>\n      <td>This is Jim. He found a fren. Taught him how t...</td>\n      <td>https://twitter.com/dog_rates/status/888917238...</td>\n      <td>12</td>\n      <td>10</td>\n      <td>Jim</td>\n      <td>4709</td>\n      <td>29611</td>\n      <td>https://pbs.twimg.com/media/DFYRgsOUQAARGhO.jpg</td>\n      <td>1</td>\n      <td>0</td>\n      <td>86</td>\n      <td>NaN</td>\n      <td>golden_retriever</td>\n      <td>0.714719</td>\n    </tr>\n    <tr>\n      <th>17</th>\n      <td>888804989199671297</td>\n      <td>2017-07-22 16:56:37+00:00</td>\n      <td>Twitter for iPhone</td>\n      <td>This is Zeke. He has a new stick. Very proud o...</td>\n      <td>https://twitter.com/dog_rates/status/888804989...</td>\n      <td>13</td>\n      <td>10</td>\n      <td>Zeke</td>\n      <td>4559</td>\n      <td>26080</td>\n      <td>https://pbs.twimg.com/media/DFWra-3VYAA2piG.jpg</td>\n      <td>1</td>\n      <td>0</td>\n      <td>128</td>\n      <td>NaN</td>\n      <td>golden_retriever</td>\n      <td>0.469760</td>\n    </tr>\n    <tr>\n      <th>18</th>\n      <td>888554962724278272</td>\n      <td>2017-07-22 00:23:06+00:00</td>\n      <td>Twitter for iPhone</td>\n      <td>This is Ralphus. He's powering up. Attempting ...</td>\n      <td>https://twitter.com/dog_rates/status/888554962...</td>\n      <td>13</td>\n      <td>10</td>\n      <td>Ralphus</td>\n      <td>3732</td>\n      <td>20290</td>\n      <td>https://pbs.twimg.com/media/DFTH_O-UQAACu20.jpg</td>\n      <td>3</td>\n      <td>0</td>\n      <td>87</td>\n      <td>NaN</td>\n      <td>siberian_husky</td>\n      <td>0.700377</td>\n    </tr>\n    <tr>\n      <th>19</th>\n      <td>888078434458587136</td>\n      <td>2017-07-20 16:49:33+00:00</td>\n      <td>Twitter for iPhone</td>\n      <td>This is Gerald. He was just told he didn't get...</td>\n      <td>https://twitter.com/dog_rates/status/888078434...</td>\n      <td>12</td>\n      <td>10</td>\n      <td>Gerald</td>\n      <td>3653</td>\n      <td>22201</td>\n      <td>https://pbs.twimg.com/media/DFMWn56WsAAkA7B.jpg</td>\n      <td>1</td>\n      <td>0</td>\n      <td>127</td>\n      <td>NaN</td>\n      <td>french_bulldog</td>\n      <td>0.995026</td>\n    </tr>\n  </tbody>\n</table>\n</div>"
     },
     "metadata": {},
     "execution_count": 356
    }
   ],
   "source": [
    "df_main_cleaned.head(20)"
   ]
  },
  {
   "cell_type": "markdown",
   "metadata": {},
   "source": [
    "We've made the breeds all lowercase and additionally reset the index, as we've dropped some rows along the way and the index doesn't represent the correct amount of rows anymore."
   ]
  },
  {
   "cell_type": "code",
   "execution_count": 357,
   "metadata": {},
   "outputs": [],
   "source": [
    "df_main_cleaned.to_csv('twitter_archive_master.csv', index = False)"
   ]
  }
 ],
 "metadata": {
  "kernelspec": {
   "display_name": "Python 3",
   "language": "python",
   "name": "python3"
  },
  "language_info": {
   "codemirror_mode": {
    "name": "ipython",
    "version": 3
   },
   "file_extension": ".py",
   "mimetype": "text/x-python",
   "name": "python",
   "nbconvert_exporter": "python",
   "pygments_lexer": "ipython3",
   "version": "3.7.7-final"
  }
 },
 "nbformat": 4,
 "nbformat_minor": 2
}